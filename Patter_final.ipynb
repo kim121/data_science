{
 "cells": [
  {
   "cell_type": "markdown",
   "metadata": {},
   "source": [
    "# Final project \n",
    "## 1531036005 김동효\n",
    "\n",
    "# 1.가우시안 분류"
   ]
  },
  {
   "cell_type": "code",
   "execution_count": 56,
   "metadata": {
    "collapsed": false
   },
   "outputs": [],
   "source": [
    "%matplotlib inline\n",
    "import matplotlib.pyplot as plt\n",
    "import csv\n",
    "import pandas\n",
    "import sklearn\n",
    "import cPickle\n",
    "import numpy as np\n",
    "from sklearn.feature_extraction.text import CountVectorizer, TfidfTransformer\n",
    "from sklearn.naive_bayes import MultinomialNB\n",
    "from sklearn.svm import SVC, LinearSVC\n",
    "from sklearn.metrics import classification_report, f1_score, accuracy_score, confusion_matrix\n",
    "from sklearn.pipeline import Pipeline\n",
    "from sklearn.grid_search import GridSearchCV\n",
    "from sklearn.cross_validation import StratifiedKFold, cross_val_score, train_test_split \n",
    "from sklearn.tree import DecisionTreeClassifier \n",
    "from sklearn.learning_curve import learning_curve"
   ]
  },
  {
   "cell_type": "code",
   "execution_count": 57,
   "metadata": {
    "collapsed": false
   },
   "outputs": [
    {
     "name": "stdout",
     "output_type": "stream",
     "text": [
      "192\n"
     ]
    }
   ],
   "source": [
    "messages = [line.rstrip() for line in open('./IMOX.csv')]\n",
    "print len(messages)"
   ]
  },
  {
   "cell_type": "code",
   "execution_count": 58,
   "metadata": {
    "collapsed": false
   },
   "outputs": [
    {
     "name": "stdout",
     "output_type": "stream",
     "text": [
      "0 1,11,11,5,6,10,10,5,5\n",
      "1 1,9,6,5,6,9,10,5,6\n",
      "2 1,7,7,7,6,8,11,6,5\n",
      "3 1,6,12,13,5,8,12,5,6\n",
      "4 1,10,12,11,4,9,11,2,4\n",
      "5 1,3,11,3,4,10,11,3,2\n",
      "6 1,6,6,6,6,10,10,5,5\n",
      "7 1,5,6,11,5,10,11,4,4\n",
      "8 1,5,6,11,7,10,11,4,5\n",
      "9 1,10,12,12,4,9,12,1,3\n"
     ]
    }
   ],
   "source": [
    "for message_no, message in enumerate(messages[:10]):\n",
    "    print message_no, message"
   ]
  },
  {
   "cell_type": "code",
   "execution_count": 59,
   "metadata": {
    "collapsed": false
   },
   "outputs": [
    {
     "name": "stdout",
     "output_type": "stream",
     "text": [
      "     label   A   B   C   D   E   F   G   H\n",
      "0        1  11  11   5   6  10  10   5   5\n",
      "1        1   9   6   5   6   9  10   5   6\n",
      "2        1   7   7   7   6   8  11   6   5\n",
      "3        1   6  12  13   5   8  12   5   6\n",
      "4        1  10  12  11   4   9  11   2   4\n",
      "5        1   3  11   3   4  10  11   3   2\n",
      "6        1   6   6   6   6  10  10   5   5\n",
      "7        1   5   6  11   5  10  11   4   4\n",
      "8        1   5   6  11   7  10  11   4   5\n",
      "9        1  10  12  12   4   9  12   1   3\n",
      "10       1  10  12  12   4  10  12   1   4\n",
      "11       1  10  11   4   3  10  10   1   2\n",
      "12       1   9  11  11   9   9  11   1   2\n",
      "13       1  11  10  10  10  10  10   1   1\n",
      "14       1   5  13  13   5   8  13   5   3\n",
      "15       1  10  12  12   9   9  12   3   3\n",
      "16       1   5  13   5   4   9  13   3   4\n",
      "17       1   4  14   6   4   7  14   4   4\n",
      "18       1  10  13  12   5  10  13   2   4\n",
      "19       1  11  10   5   4  11  10   3   3\n",
      "20       1   6  10   4   3  12  10   3   3\n",
      "21       1  12   9   7  13  13   8   3   2\n",
      "22       1  11  11  11   4  10  11   2   3\n",
      "23       1   4  12   4   4   9  12   3   4\n",
      "24       1   5  12   5   5   9  12   3   5\n",
      "25       1   6   7   5   5   7  13   3   6\n",
      "26       1   5   6  14   5   7  14   5   5\n",
      "27       1   3   5   6   5   9  10   4   4\n",
      "28       1  11   6  10   6  10  10   3   4\n",
      "29       1   6   8   6   8   8  13   5   7\n",
      "..     ...  ..  ..  ..  ..  ..  ..  ..  ..\n",
      "162      4  11   9   5   4  11   8   5   8\n",
      "163      4   9  10   6   5   9   9   4   9\n",
      "164      4  11   9   5   5  10   9   4  10\n",
      "165      4  10   8   4   5  11   9   1   9\n",
      "166      4   8  11   5   4  10  10  11   8\n",
      "167      4  10  10  10   4  10  10   8  10\n",
      "168      4   6  10   6   6  10   9   9   9\n",
      "169      4   8   7   5   6   8  10   7  10\n",
      "170      4   6   8   5   5   9  10   8  10\n",
      "171      4   9   9   9   8   9  10   6   8\n",
      "172      4   6  11   8   7   8  10   9   7\n",
      "173      4   9  11   8   7  10  10   8   8\n",
      "174      4  10   6   5   5   9   9   7   9\n",
      "175      4  10   7  10   6   9   9   6  11\n",
      "176      4  11   6   6   6  10   9   6  10\n",
      "177      4   2   3  12   7   8  12   7   8\n",
      "178      4   4  12  11   5   7  11   8   7\n",
      "179      4   3   3  10   4   9  10   8   9\n",
      "180      4   8  11   4   4   8  11   7   3\n",
      "181      4   9   9   5   4   8  10   3   4\n",
      "182      4  11   8   5   4  10   8   2   6\n",
      "183      4  10  10   6   8  10  10   5   3\n",
      "184      4   8   4   6   4   8   9   7  10\n",
      "185      4   6   5   6   7   9  10   8   6\n",
      "186      4   9  11  11   8  10  11   4   3\n",
      "187      4  10   9  10   8  10  10   4   7\n",
      "188      4   9  10  11   7   9  11   2   7\n",
      "189      4  10   5   8   3   9   9   5   9\n",
      "190      4  11   7   4   5  11   9   4   7\n",
      "191      4   8   7  10   7  10   9   8   8\n",
      "\n",
      "[192 rows x 9 columns]\n"
     ]
    }
   ],
   "source": [
    "messages = pandas.read_csv('./IMOX.csv', names=[\"label\", \"A\",\"B\",\"C\",\"D\",\"E\",\"F\",\"G\",\"H\"])\n",
    "print messages"
   ]
  },
  {
   "cell_type": "code",
   "execution_count": 60,
   "metadata": {
    "collapsed": false
   },
   "outputs": [
    {
     "data": {
      "text/html": [
       "<div>\n",
       "<table border=\"1\" class=\"dataframe\">\n",
       "  <thead>\n",
       "    <tr style=\"text-align: right;\">\n",
       "      <th></th>\n",
       "      <th></th>\n",
       "      <th>A</th>\n",
       "      <th>B</th>\n",
       "      <th>C</th>\n",
       "      <th>D</th>\n",
       "      <th>E</th>\n",
       "      <th>F</th>\n",
       "      <th>G</th>\n",
       "      <th>H</th>\n",
       "    </tr>\n",
       "    <tr>\n",
       "      <th>label</th>\n",
       "      <th></th>\n",
       "      <th></th>\n",
       "      <th></th>\n",
       "      <th></th>\n",
       "      <th></th>\n",
       "      <th></th>\n",
       "      <th></th>\n",
       "      <th></th>\n",
       "      <th></th>\n",
       "    </tr>\n",
       "  </thead>\n",
       "  <tbody>\n",
       "    <tr>\n",
       "      <th rowspan=\"8\" valign=\"top\">1</th>\n",
       "      <th>count</th>\n",
       "      <td>48.000000</td>\n",
       "      <td>48.000000</td>\n",
       "      <td>48.000000</td>\n",
       "      <td>48.000000</td>\n",
       "      <td>48.000000</td>\n",
       "      <td>48.000000</td>\n",
       "      <td>48.000000</td>\n",
       "      <td>48.000000</td>\n",
       "    </tr>\n",
       "    <tr>\n",
       "      <th>mean</th>\n",
       "      <td>7.333333</td>\n",
       "      <td>9.208333</td>\n",
       "      <td>8.187500</td>\n",
       "      <td>5.937500</td>\n",
       "      <td>9.312500</td>\n",
       "      <td>11.437500</td>\n",
       "      <td>3.145833</td>\n",
       "      <td>3.770833</td>\n",
       "    </tr>\n",
       "    <tr>\n",
       "      <th>std</th>\n",
       "      <td>2.770155</td>\n",
       "      <td>3.080193</td>\n",
       "      <td>3.576854</td>\n",
       "      <td>2.409257</td>\n",
       "      <td>1.323378</td>\n",
       "      <td>1.351221</td>\n",
       "      <td>1.383637</td>\n",
       "      <td>1.356459</td>\n",
       "    </tr>\n",
       "    <tr>\n",
       "      <th>min</th>\n",
       "      <td>3.000000</td>\n",
       "      <td>4.000000</td>\n",
       "      <td>3.000000</td>\n",
       "      <td>3.000000</td>\n",
       "      <td>6.000000</td>\n",
       "      <td>8.000000</td>\n",
       "      <td>1.000000</td>\n",
       "      <td>1.000000</td>\n",
       "    </tr>\n",
       "    <tr>\n",
       "      <th>25%</th>\n",
       "      <td>5.000000</td>\n",
       "      <td>6.000000</td>\n",
       "      <td>5.000000</td>\n",
       "      <td>4.000000</td>\n",
       "      <td>9.000000</td>\n",
       "      <td>10.000000</td>\n",
       "      <td>2.000000</td>\n",
       "      <td>3.000000</td>\n",
       "    </tr>\n",
       "    <tr>\n",
       "      <th>50%</th>\n",
       "      <td>6.000000</td>\n",
       "      <td>10.000000</td>\n",
       "      <td>8.500000</td>\n",
       "      <td>5.000000</td>\n",
       "      <td>9.000000</td>\n",
       "      <td>11.000000</td>\n",
       "      <td>3.000000</td>\n",
       "      <td>4.000000</td>\n",
       "    </tr>\n",
       "    <tr>\n",
       "      <th>75%</th>\n",
       "      <td>10.000000</td>\n",
       "      <td>12.000000</td>\n",
       "      <td>11.000000</td>\n",
       "      <td>6.250000</td>\n",
       "      <td>10.000000</td>\n",
       "      <td>12.000000</td>\n",
       "      <td>4.000000</td>\n",
       "      <td>4.250000</td>\n",
       "    </tr>\n",
       "    <tr>\n",
       "      <th>max</th>\n",
       "      <td>12.000000</td>\n",
       "      <td>14.000000</td>\n",
       "      <td>14.000000</td>\n",
       "      <td>13.000000</td>\n",
       "      <td>13.000000</td>\n",
       "      <td>14.000000</td>\n",
       "      <td>6.000000</td>\n",
       "      <td>7.000000</td>\n",
       "    </tr>\n",
       "    <tr>\n",
       "      <th rowspan=\"8\" valign=\"top\">2</th>\n",
       "      <th>count</th>\n",
       "      <td>48.000000</td>\n",
       "      <td>48.000000</td>\n",
       "      <td>48.000000</td>\n",
       "      <td>48.000000</td>\n",
       "      <td>48.000000</td>\n",
       "      <td>48.000000</td>\n",
       "      <td>48.000000</td>\n",
       "      <td>48.000000</td>\n",
       "    </tr>\n",
       "    <tr>\n",
       "      <th>mean</th>\n",
       "      <td>5.666667</td>\n",
       "      <td>5.125000</td>\n",
       "      <td>5.375000</td>\n",
       "      <td>6.062500</td>\n",
       "      <td>4.645833</td>\n",
       "      <td>4.604167</td>\n",
       "      <td>7.895833</td>\n",
       "      <td>9.437500</td>\n",
       "    </tr>\n",
       "    <tr>\n",
       "      <th>std</th>\n",
       "      <td>1.357929</td>\n",
       "      <td>1.314809</td>\n",
       "      <td>1.378019</td>\n",
       "      <td>3.270801</td>\n",
       "      <td>0.999778</td>\n",
       "      <td>1.005085</td>\n",
       "      <td>3.538479</td>\n",
       "      <td>2.575715</td>\n",
       "    </tr>\n",
       "    <tr>\n",
       "      <th>min</th>\n",
       "      <td>2.000000</td>\n",
       "      <td>2.000000</td>\n",
       "      <td>3.000000</td>\n",
       "      <td>1.000000</td>\n",
       "      <td>3.000000</td>\n",
       "      <td>2.000000</td>\n",
       "      <td>2.000000</td>\n",
       "      <td>4.000000</td>\n",
       "    </tr>\n",
       "    <tr>\n",
       "      <th>25%</th>\n",
       "      <td>5.000000</td>\n",
       "      <td>4.000000</td>\n",
       "      <td>4.750000</td>\n",
       "      <td>4.000000</td>\n",
       "      <td>4.000000</td>\n",
       "      <td>4.000000</td>\n",
       "      <td>5.000000</td>\n",
       "      <td>8.000000</td>\n",
       "    </tr>\n",
       "    <tr>\n",
       "      <th>50%</th>\n",
       "      <td>6.000000</td>\n",
       "      <td>5.000000</td>\n",
       "      <td>5.000000</td>\n",
       "      <td>5.000000</td>\n",
       "      <td>5.000000</td>\n",
       "      <td>5.000000</td>\n",
       "      <td>7.500000</td>\n",
       "      <td>9.000000</td>\n",
       "    </tr>\n",
       "    <tr>\n",
       "      <th>75%</th>\n",
       "      <td>7.000000</td>\n",
       "      <td>6.000000</td>\n",
       "      <td>6.000000</td>\n",
       "      <td>7.000000</td>\n",
       "      <td>5.000000</td>\n",
       "      <td>5.000000</td>\n",
       "      <td>10.250000</td>\n",
       "      <td>11.250000</td>\n",
       "    </tr>\n",
       "    <tr>\n",
       "      <th>max</th>\n",
       "      <td>8.000000</td>\n",
       "      <td>8.000000</td>\n",
       "      <td>10.000000</td>\n",
       "      <td>16.000000</td>\n",
       "      <td>6.000000</td>\n",
       "      <td>7.000000</td>\n",
       "      <td>16.000000</td>\n",
       "      <td>15.000000</td>\n",
       "    </tr>\n",
       "    <tr>\n",
       "      <th rowspan=\"8\" valign=\"top\">3</th>\n",
       "      <th>count</th>\n",
       "      <td>48.000000</td>\n",
       "      <td>48.000000</td>\n",
       "      <td>48.000000</td>\n",
       "      <td>48.000000</td>\n",
       "      <td>48.000000</td>\n",
       "      <td>48.000000</td>\n",
       "      <td>48.000000</td>\n",
       "      <td>48.000000</td>\n",
       "    </tr>\n",
       "    <tr>\n",
       "      <th>mean</th>\n",
       "      <td>7.312500</td>\n",
       "      <td>7.208333</td>\n",
       "      <td>6.729167</td>\n",
       "      <td>5.979167</td>\n",
       "      <td>5.333333</td>\n",
       "      <td>5.479167</td>\n",
       "      <td>3.729167</td>\n",
       "      <td>4.208333</td>\n",
       "    </tr>\n",
       "    <tr>\n",
       "      <th>std</th>\n",
       "      <td>0.878980</td>\n",
       "      <td>1.071057</td>\n",
       "      <td>0.892989</td>\n",
       "      <td>0.910683</td>\n",
       "      <td>1.208715</td>\n",
       "      <td>1.184826</td>\n",
       "      <td>1.454846</td>\n",
       "      <td>1.383156</td>\n",
       "    </tr>\n",
       "    <tr>\n",
       "      <th>min</th>\n",
       "      <td>6.000000</td>\n",
       "      <td>5.000000</td>\n",
       "      <td>5.000000</td>\n",
       "      <td>4.000000</td>\n",
       "      <td>3.000000</td>\n",
       "      <td>2.000000</td>\n",
       "      <td>0.000000</td>\n",
       "      <td>2.000000</td>\n",
       "    </tr>\n",
       "    <tr>\n",
       "      <th>25%</th>\n",
       "      <td>7.000000</td>\n",
       "      <td>6.000000</td>\n",
       "      <td>6.000000</td>\n",
       "      <td>5.000000</td>\n",
       "      <td>5.000000</td>\n",
       "      <td>5.000000</td>\n",
       "      <td>3.000000</td>\n",
       "      <td>3.000000</td>\n",
       "    </tr>\n",
       "    <tr>\n",
       "      <th>50%</th>\n",
       "      <td>7.000000</td>\n",
       "      <td>7.000000</td>\n",
       "      <td>7.000000</td>\n",
       "      <td>6.000000</td>\n",
       "      <td>5.000000</td>\n",
       "      <td>6.000000</td>\n",
       "      <td>4.000000</td>\n",
       "      <td>4.000000</td>\n",
       "    </tr>\n",
       "    <tr>\n",
       "      <th>75%</th>\n",
       "      <td>8.000000</td>\n",
       "      <td>8.000000</td>\n",
       "      <td>7.000000</td>\n",
       "      <td>7.000000</td>\n",
       "      <td>6.000000</td>\n",
       "      <td>6.000000</td>\n",
       "      <td>5.000000</td>\n",
       "      <td>5.000000</td>\n",
       "    </tr>\n",
       "    <tr>\n",
       "      <th>max</th>\n",
       "      <td>10.000000</td>\n",
       "      <td>10.000000</td>\n",
       "      <td>8.000000</td>\n",
       "      <td>8.000000</td>\n",
       "      <td>8.000000</td>\n",
       "      <td>8.000000</td>\n",
       "      <td>6.000000</td>\n",
       "      <td>8.000000</td>\n",
       "    </tr>\n",
       "    <tr>\n",
       "      <th rowspan=\"8\" valign=\"top\">4</th>\n",
       "      <th>count</th>\n",
       "      <td>48.000000</td>\n",
       "      <td>48.000000</td>\n",
       "      <td>48.000000</td>\n",
       "      <td>48.000000</td>\n",
       "      <td>48.000000</td>\n",
       "      <td>48.000000</td>\n",
       "      <td>48.000000</td>\n",
       "      <td>48.000000</td>\n",
       "    </tr>\n",
       "    <tr>\n",
       "      <th>mean</th>\n",
       "      <td>8.270833</td>\n",
       "      <td>8.083333</td>\n",
       "      <td>7.250000</td>\n",
       "      <td>6.000000</td>\n",
       "      <td>9.187500</td>\n",
       "      <td>9.625000</td>\n",
       "      <td>6.416667</td>\n",
       "      <td>7.437500</td>\n",
       "    </tr>\n",
       "    <tr>\n",
       "      <th>std</th>\n",
       "      <td>2.228821</td>\n",
       "      <td>2.473978</td>\n",
       "      <td>2.365533</td>\n",
       "      <td>1.833495</td>\n",
       "      <td>0.959970</td>\n",
       "      <td>0.959277</td>\n",
       "      <td>2.583362</td>\n",
       "      <td>2.491742</td>\n",
       "    </tr>\n",
       "    <tr>\n",
       "      <th>min</th>\n",
       "      <td>2.000000</td>\n",
       "      <td>3.000000</td>\n",
       "      <td>4.000000</td>\n",
       "      <td>3.000000</td>\n",
       "      <td>7.000000</td>\n",
       "      <td>8.000000</td>\n",
       "      <td>1.000000</td>\n",
       "      <td>1.000000</td>\n",
       "    </tr>\n",
       "    <tr>\n",
       "      <th>25%</th>\n",
       "      <td>6.750000</td>\n",
       "      <td>6.750000</td>\n",
       "      <td>5.000000</td>\n",
       "      <td>4.000000</td>\n",
       "      <td>8.750000</td>\n",
       "      <td>9.000000</td>\n",
       "      <td>4.000000</td>\n",
       "      <td>6.000000</td>\n",
       "    </tr>\n",
       "    <tr>\n",
       "      <th>50%</th>\n",
       "      <td>9.000000</td>\n",
       "      <td>8.000000</td>\n",
       "      <td>6.500000</td>\n",
       "      <td>6.000000</td>\n",
       "      <td>9.000000</td>\n",
       "      <td>10.000000</td>\n",
       "      <td>7.000000</td>\n",
       "      <td>8.000000</td>\n",
       "    </tr>\n",
       "    <tr>\n",
       "      <th>75%</th>\n",
       "      <td>10.000000</td>\n",
       "      <td>10.000000</td>\n",
       "      <td>10.000000</td>\n",
       "      <td>7.000000</td>\n",
       "      <td>10.000000</td>\n",
       "      <td>10.000000</td>\n",
       "      <td>8.000000</td>\n",
       "      <td>9.000000</td>\n",
       "    </tr>\n",
       "    <tr>\n",
       "      <th>max</th>\n",
       "      <td>11.000000</td>\n",
       "      <td>12.000000</td>\n",
       "      <td>12.000000</td>\n",
       "      <td>10.000000</td>\n",
       "      <td>11.000000</td>\n",
       "      <td>12.000000</td>\n",
       "      <td>13.000000</td>\n",
       "      <td>11.000000</td>\n",
       "    </tr>\n",
       "  </tbody>\n",
       "</table>\n",
       "</div>"
      ],
      "text/plain": [
       "                     A          B          C          D          E          F  \\\n",
       "label                                                                           \n",
       "1     count  48.000000  48.000000  48.000000  48.000000  48.000000  48.000000   \n",
       "      mean    7.333333   9.208333   8.187500   5.937500   9.312500  11.437500   \n",
       "      std     2.770155   3.080193   3.576854   2.409257   1.323378   1.351221   \n",
       "      min     3.000000   4.000000   3.000000   3.000000   6.000000   8.000000   \n",
       "      25%     5.000000   6.000000   5.000000   4.000000   9.000000  10.000000   \n",
       "      50%     6.000000  10.000000   8.500000   5.000000   9.000000  11.000000   \n",
       "      75%    10.000000  12.000000  11.000000   6.250000  10.000000  12.000000   \n",
       "      max    12.000000  14.000000  14.000000  13.000000  13.000000  14.000000   \n",
       "2     count  48.000000  48.000000  48.000000  48.000000  48.000000  48.000000   \n",
       "      mean    5.666667   5.125000   5.375000   6.062500   4.645833   4.604167   \n",
       "      std     1.357929   1.314809   1.378019   3.270801   0.999778   1.005085   \n",
       "      min     2.000000   2.000000   3.000000   1.000000   3.000000   2.000000   \n",
       "      25%     5.000000   4.000000   4.750000   4.000000   4.000000   4.000000   \n",
       "      50%     6.000000   5.000000   5.000000   5.000000   5.000000   5.000000   \n",
       "      75%     7.000000   6.000000   6.000000   7.000000   5.000000   5.000000   \n",
       "      max     8.000000   8.000000  10.000000  16.000000   6.000000   7.000000   \n",
       "3     count  48.000000  48.000000  48.000000  48.000000  48.000000  48.000000   \n",
       "      mean    7.312500   7.208333   6.729167   5.979167   5.333333   5.479167   \n",
       "      std     0.878980   1.071057   0.892989   0.910683   1.208715   1.184826   \n",
       "      min     6.000000   5.000000   5.000000   4.000000   3.000000   2.000000   \n",
       "      25%     7.000000   6.000000   6.000000   5.000000   5.000000   5.000000   \n",
       "      50%     7.000000   7.000000   7.000000   6.000000   5.000000   6.000000   \n",
       "      75%     8.000000   8.000000   7.000000   7.000000   6.000000   6.000000   \n",
       "      max    10.000000  10.000000   8.000000   8.000000   8.000000   8.000000   \n",
       "4     count  48.000000  48.000000  48.000000  48.000000  48.000000  48.000000   \n",
       "      mean    8.270833   8.083333   7.250000   6.000000   9.187500   9.625000   \n",
       "      std     2.228821   2.473978   2.365533   1.833495   0.959970   0.959277   \n",
       "      min     2.000000   3.000000   4.000000   3.000000   7.000000   8.000000   \n",
       "      25%     6.750000   6.750000   5.000000   4.000000   8.750000   9.000000   \n",
       "      50%     9.000000   8.000000   6.500000   6.000000   9.000000  10.000000   \n",
       "      75%    10.000000  10.000000  10.000000   7.000000  10.000000  10.000000   \n",
       "      max    11.000000  12.000000  12.000000  10.000000  11.000000  12.000000   \n",
       "\n",
       "                     G          H  \n",
       "label                              \n",
       "1     count  48.000000  48.000000  \n",
       "      mean    3.145833   3.770833  \n",
       "      std     1.383637   1.356459  \n",
       "      min     1.000000   1.000000  \n",
       "      25%     2.000000   3.000000  \n",
       "      50%     3.000000   4.000000  \n",
       "      75%     4.000000   4.250000  \n",
       "      max     6.000000   7.000000  \n",
       "2     count  48.000000  48.000000  \n",
       "      mean    7.895833   9.437500  \n",
       "      std     3.538479   2.575715  \n",
       "      min     2.000000   4.000000  \n",
       "      25%     5.000000   8.000000  \n",
       "      50%     7.500000   9.000000  \n",
       "      75%    10.250000  11.250000  \n",
       "      max    16.000000  15.000000  \n",
       "3     count  48.000000  48.000000  \n",
       "      mean    3.729167   4.208333  \n",
       "      std     1.454846   1.383156  \n",
       "      min     0.000000   2.000000  \n",
       "      25%     3.000000   3.000000  \n",
       "      50%     4.000000   4.000000  \n",
       "      75%     5.000000   5.000000  \n",
       "      max     6.000000   8.000000  \n",
       "4     count  48.000000  48.000000  \n",
       "      mean    6.416667   7.437500  \n",
       "      std     2.583362   2.491742  \n",
       "      min     1.000000   1.000000  \n",
       "      25%     4.000000   6.000000  \n",
       "      50%     7.000000   8.000000  \n",
       "      75%     8.000000   9.000000  \n",
       "      max    13.000000  11.000000  "
      ]
     },
     "execution_count": 60,
     "metadata": {},
     "output_type": "execute_result"
    }
   ],
   "source": [
    "messages.groupby('label').describe()"
   ]
  },
  {
   "cell_type": "code",
   "execution_count": 78,
   "metadata": {
    "collapsed": false
   },
   "outputs": [
    {
     "name": "stdout",
     "output_type": "stream",
     "text": [
      "Wall time: 1e+03 µs\n"
     ]
    }
   ],
   "source": [
    "%time spam_detector = MultinomialNB().fit(messages, messages['label'])"
   ]
  },
  {
   "cell_type": "code",
   "execution_count": 72,
   "metadata": {
    "collapsed": false
   },
   "outputs": [
    {
     "name": "stdout",
     "output_type": "stream",
     "text": [
      "predicted: 1\n",
      "expected: 1\n"
     ]
    }
   ],
   "source": [
    "print 'predicted:', spam_detector.predict(messages)[0]\n",
    "print 'expected:', messages.label[0]"
   ]
  },
  {
   "cell_type": "code",
   "execution_count": 79,
   "metadata": {
    "collapsed": false
   },
   "outputs": [
    {
     "name": "stdout",
     "output_type": "stream",
     "text": [
      "[1 4 1 1 1 1 1 1 1 1 1 1 1 1 1 1 1 1 1 1 1 1 1 1 1 1 1 1 1 1 1 1 1 1 1 1 1\n",
      " 1 1 1 1 1 1 1 1 1 1 1 2 2 2 2 2 2 2 2 2 2 2 2 2 2 2 2 2 4 4 2 2 2 2 4 2 2\n",
      " 2 2 2 4 2 2 2 2 2 2 2 2 2 2 2 2 4 2 2 2 2 2 3 3 3 3 3 3 3 3 3 3 3 3 3 3 3\n",
      " 3 3 3 3 3 3 3 3 3 3 3 3 3 3 3 3 3 3 3 3 3 3 3 3 3 3 3 3 3 3 3 3 3 4 4 4 4\n",
      " 4 4 4 4 4 4 4 4 4 4 4 4 3 3 4 4 4 4 4 4 4 4 4 4 4 4 4 4 4 4 4 4 4 4 4 3 4\n",
      " 4 3 3 3 4 4 4]\n"
     ]
    }
   ],
   "source": [
    "all_predictions = spam_detector.predict(messages)\n",
    "print all_predictions"
   ]
  },
  {
   "cell_type": "code",
   "execution_count": 80,
   "metadata": {
    "collapsed": false
   },
   "outputs": [
    {
     "name": "stdout",
     "output_type": "stream",
     "text": [
      "accuracy 0.9375\n",
      "confusion matrix\n",
      "[[47  0  0  1]\n",
      " [ 0 43  0  5]\n",
      " [ 0  0 48  0]\n",
      " [ 0  0  6 42]]\n",
      "(row=expected, col=predicted)\n"
     ]
    }
   ],
   "source": [
    "print 'accuracy', accuracy_score(messages['label'], all_predictions)\n",
    "print 'confusion matrix\\n', confusion_matrix(messages['label'], all_predictions)\n",
    "print '(row=expected, col=predicted)'"
   ]
  },
  {
   "cell_type": "code",
   "execution_count": 76,
   "metadata": {
    "collapsed": false,
    "scrolled": true
   },
   "outputs": [
    {
     "data": {
      "text/plain": [
       "<matplotlib.text.Text at 0x21f52b0>"
      ]
     },
     "execution_count": 76,
     "metadata": {},
     "output_type": "execute_result"
    },
    {
     "data": {
      "image/png": "[encoded data removed]",
      "text/plain": [
       "<matplotlib.figure.Figure at 0xb0a4a90>"
      ]
     },
     "metadata": {},
     "output_type": "display_data"
    }
   ],
   "source": [
    "plt.matshow(confusion_matrix(messages['label'], all_predictions), cmap=plt.cm.binary, interpolation='nearest')\n",
    "plt.title('confusion matrix')\n",
    "plt.colorbar()\n",
    "plt.ylabel('expected label')\n",
    "plt.xlabel('predicted label')"
   ]
  },
  {
   "cell_type": "markdown",
   "metadata": {},
   "source": [
    "#가우시안 분류를 통한 결과는 다음과 같습니다\n",
    "## 분류1과 분류2는 비교적 정확하고, 분류3과 분류4는 1,2에 비해선 상대적으로 부정확합니다"
   ]
  },
  {
   "cell_type": "code",
   "execution_count": 82,
   "metadata": {
    "collapsed": false
   },
   "outputs": [
    {
     "name": "stdout",
     "output_type": "stream",
     "text": [
      "             precision    recall  f1-score   support\n",
      "\n",
      "          1       1.00      0.98      0.99        48\n",
      "          2       1.00      0.90      0.95        48\n",
      "          3       0.89      1.00      0.94        48\n",
      "          4       0.88      0.88      0.88        48\n",
      "\n",
      "avg / total       0.94      0.94      0.94       192\n",
      "\n"
     ]
    }
   ],
   "source": [
    "print classification_report(messages['label'], all_predictions)"
   ]
  },
  {
   "cell_type": "markdown",
   "metadata": {
    "collapsed": false
   },
   "source": [
    "# 2. kNN (k=1, 3, 5 등)"
   ]
  },
  {
   "cell_type": "code",
   "execution_count": 84,
   "metadata": {
    "collapsed": true
   },
   "outputs": [],
   "source": [
    "from sklearn import neighbors, datasets"
   ]
  },
  {
   "cell_type": "code",
   "execution_count": 672,
   "metadata": {
    "collapsed": false
   },
   "outputs": [],
   "source": [
    "X=messages.loc[:,'A':'H']"
   ]
  },
  {
   "cell_type": "code",
   "execution_count": 335,
   "metadata": {
    "collapsed": false
   },
   "outputs": [
    {
     "data": {
      "text/html": [
       "<div>\n",
       "<table border=\"1\" class=\"dataframe\">\n",
       "  <thead>\n",
       "    <tr style=\"text-align: right;\">\n",
       "      <th></th>\n",
       "      <th>A</th>\n",
       "      <th>B</th>\n",
       "      <th>C</th>\n",
       "      <th>D</th>\n",
       "      <th>E</th>\n",
       "      <th>F</th>\n",
       "      <th>G</th>\n",
       "      <th>H</th>\n",
       "    </tr>\n",
       "  </thead>\n",
       "  <tbody>\n",
       "    <tr>\n",
       "      <th>0</th>\n",
       "      <td>11</td>\n",
       "      <td>11</td>\n",
       "      <td>5</td>\n",
       "      <td>6</td>\n",
       "      <td>10</td>\n",
       "      <td>10</td>\n",
       "      <td>5</td>\n",
       "      <td>5</td>\n",
       "    </tr>\n",
       "    <tr>\n",
       "      <th>1</th>\n",
       "      <td>9</td>\n",
       "      <td>6</td>\n",
       "      <td>5</td>\n",
       "      <td>6</td>\n",
       "      <td>9</td>\n",
       "      <td>10</td>\n",
       "      <td>5</td>\n",
       "      <td>6</td>\n",
       "    </tr>\n",
       "    <tr>\n",
       "      <th>2</th>\n",
       "      <td>7</td>\n",
       "      <td>7</td>\n",
       "      <td>7</td>\n",
       "      <td>6</td>\n",
       "      <td>8</td>\n",
       "      <td>11</td>\n",
       "      <td>6</td>\n",
       "      <td>5</td>\n",
       "    </tr>\n",
       "    <tr>\n",
       "      <th>3</th>\n",
       "      <td>6</td>\n",
       "      <td>12</td>\n",
       "      <td>13</td>\n",
       "      <td>5</td>\n",
       "      <td>8</td>\n",
       "      <td>12</td>\n",
       "      <td>5</td>\n",
       "      <td>6</td>\n",
       "    </tr>\n",
       "    <tr>\n",
       "      <th>4</th>\n",
       "      <td>10</td>\n",
       "      <td>12</td>\n",
       "      <td>11</td>\n",
       "      <td>4</td>\n",
       "      <td>9</td>\n",
       "      <td>11</td>\n",
       "      <td>2</td>\n",
       "      <td>4</td>\n",
       "    </tr>\n",
       "    <tr>\n",
       "      <th>5</th>\n",
       "      <td>3</td>\n",
       "      <td>11</td>\n",
       "      <td>3</td>\n",
       "      <td>4</td>\n",
       "      <td>10</td>\n",
       "      <td>11</td>\n",
       "      <td>3</td>\n",
       "      <td>2</td>\n",
       "    </tr>\n",
       "    <tr>\n",
       "      <th>6</th>\n",
       "      <td>6</td>\n",
       "      <td>6</td>\n",
       "      <td>6</td>\n",
       "      <td>6</td>\n",
       "      <td>10</td>\n",
       "      <td>10</td>\n",
       "      <td>5</td>\n",
       "      <td>5</td>\n",
       "    </tr>\n",
       "    <tr>\n",
       "      <th>7</th>\n",
       "      <td>5</td>\n",
       "      <td>6</td>\n",
       "      <td>11</td>\n",
       "      <td>5</td>\n",
       "      <td>10</td>\n",
       "      <td>11</td>\n",
       "      <td>4</td>\n",
       "      <td>4</td>\n",
       "    </tr>\n",
       "    <tr>\n",
       "      <th>8</th>\n",
       "      <td>5</td>\n",
       "      <td>6</td>\n",
       "      <td>11</td>\n",
       "      <td>7</td>\n",
       "      <td>10</td>\n",
       "      <td>11</td>\n",
       "      <td>4</td>\n",
       "      <td>5</td>\n",
       "    </tr>\n",
       "    <tr>\n",
       "      <th>9</th>\n",
       "      <td>10</td>\n",
       "      <td>12</td>\n",
       "      <td>12</td>\n",
       "      <td>4</td>\n",
       "      <td>9</td>\n",
       "      <td>12</td>\n",
       "      <td>1</td>\n",
       "      <td>3</td>\n",
       "    </tr>\n",
       "    <tr>\n",
       "      <th>10</th>\n",
       "      <td>10</td>\n",
       "      <td>12</td>\n",
       "      <td>12</td>\n",
       "      <td>4</td>\n",
       "      <td>10</td>\n",
       "      <td>12</td>\n",
       "      <td>1</td>\n",
       "      <td>4</td>\n",
       "    </tr>\n",
       "    <tr>\n",
       "      <th>11</th>\n",
       "      <td>10</td>\n",
       "      <td>11</td>\n",
       "      <td>4</td>\n",
       "      <td>3</td>\n",
       "      <td>10</td>\n",
       "      <td>10</td>\n",
       "      <td>1</td>\n",
       "      <td>2</td>\n",
       "    </tr>\n",
       "    <tr>\n",
       "      <th>12</th>\n",
       "      <td>9</td>\n",
       "      <td>11</td>\n",
       "      <td>11</td>\n",
       "      <td>9</td>\n",
       "      <td>9</td>\n",
       "      <td>11</td>\n",
       "      <td>1</td>\n",
       "      <td>2</td>\n",
       "    </tr>\n",
       "    <tr>\n",
       "      <th>13</th>\n",
       "      <td>11</td>\n",
       "      <td>10</td>\n",
       "      <td>10</td>\n",
       "      <td>10</td>\n",
       "      <td>10</td>\n",
       "      <td>10</td>\n",
       "      <td>1</td>\n",
       "      <td>1</td>\n",
       "    </tr>\n",
       "    <tr>\n",
       "      <th>14</th>\n",
       "      <td>5</td>\n",
       "      <td>13</td>\n",
       "      <td>13</td>\n",
       "      <td>5</td>\n",
       "      <td>8</td>\n",
       "      <td>13</td>\n",
       "      <td>5</td>\n",
       "      <td>3</td>\n",
       "    </tr>\n",
       "    <tr>\n",
       "      <th>15</th>\n",
       "      <td>10</td>\n",
       "      <td>12</td>\n",
       "      <td>12</td>\n",
       "      <td>9</td>\n",
       "      <td>9</td>\n",
       "      <td>12</td>\n",
       "      <td>3</td>\n",
       "      <td>3</td>\n",
       "    </tr>\n",
       "    <tr>\n",
       "      <th>16</th>\n",
       "      <td>5</td>\n",
       "      <td>13</td>\n",
       "      <td>5</td>\n",
       "      <td>4</td>\n",
       "      <td>9</td>\n",
       "      <td>13</td>\n",
       "      <td>3</td>\n",
       "      <td>4</td>\n",
       "    </tr>\n",
       "    <tr>\n",
       "      <th>17</th>\n",
       "      <td>4</td>\n",
       "      <td>14</td>\n",
       "      <td>6</td>\n",
       "      <td>4</td>\n",
       "      <td>7</td>\n",
       "      <td>14</td>\n",
       "      <td>4</td>\n",
       "      <td>4</td>\n",
       "    </tr>\n",
       "    <tr>\n",
       "      <th>18</th>\n",
       "      <td>10</td>\n",
       "      <td>13</td>\n",
       "      <td>12</td>\n",
       "      <td>5</td>\n",
       "      <td>10</td>\n",
       "      <td>13</td>\n",
       "      <td>2</td>\n",
       "      <td>4</td>\n",
       "    </tr>\n",
       "    <tr>\n",
       "      <th>19</th>\n",
       "      <td>11</td>\n",
       "      <td>10</td>\n",
       "      <td>5</td>\n",
       "      <td>4</td>\n",
       "      <td>11</td>\n",
       "      <td>10</td>\n",
       "      <td>3</td>\n",
       "      <td>3</td>\n",
       "    </tr>\n",
       "    <tr>\n",
       "      <th>20</th>\n",
       "      <td>6</td>\n",
       "      <td>10</td>\n",
       "      <td>4</td>\n",
       "      <td>3</td>\n",
       "      <td>12</td>\n",
       "      <td>10</td>\n",
       "      <td>3</td>\n",
       "      <td>3</td>\n",
       "    </tr>\n",
       "    <tr>\n",
       "      <th>21</th>\n",
       "      <td>12</td>\n",
       "      <td>9</td>\n",
       "      <td>7</td>\n",
       "      <td>13</td>\n",
       "      <td>13</td>\n",
       "      <td>8</td>\n",
       "      <td>3</td>\n",
       "      <td>2</td>\n",
       "    </tr>\n",
       "    <tr>\n",
       "      <th>22</th>\n",
       "      <td>11</td>\n",
       "      <td>11</td>\n",
       "      <td>11</td>\n",
       "      <td>4</td>\n",
       "      <td>10</td>\n",
       "      <td>11</td>\n",
       "      <td>2</td>\n",
       "      <td>3</td>\n",
       "    </tr>\n",
       "    <tr>\n",
       "      <th>23</th>\n",
       "      <td>4</td>\n",
       "      <td>12</td>\n",
       "      <td>4</td>\n",
       "      <td>4</td>\n",
       "      <td>9</td>\n",
       "      <td>12</td>\n",
       "      <td>3</td>\n",
       "      <td>4</td>\n",
       "    </tr>\n",
       "    <tr>\n",
       "      <th>24</th>\n",
       "      <td>5</td>\n",
       "      <td>12</td>\n",
       "      <td>5</td>\n",
       "      <td>5</td>\n",
       "      <td>9</td>\n",
       "      <td>12</td>\n",
       "      <td>3</td>\n",
       "      <td>5</td>\n",
       "    </tr>\n",
       "    <tr>\n",
       "      <th>25</th>\n",
       "      <td>6</td>\n",
       "      <td>7</td>\n",
       "      <td>5</td>\n",
       "      <td>5</td>\n",
       "      <td>7</td>\n",
       "      <td>13</td>\n",
       "      <td>3</td>\n",
       "      <td>6</td>\n",
       "    </tr>\n",
       "    <tr>\n",
       "      <th>26</th>\n",
       "      <td>5</td>\n",
       "      <td>6</td>\n",
       "      <td>14</td>\n",
       "      <td>5</td>\n",
       "      <td>7</td>\n",
       "      <td>14</td>\n",
       "      <td>5</td>\n",
       "      <td>5</td>\n",
       "    </tr>\n",
       "    <tr>\n",
       "      <th>27</th>\n",
       "      <td>3</td>\n",
       "      <td>5</td>\n",
       "      <td>6</td>\n",
       "      <td>5</td>\n",
       "      <td>9</td>\n",
       "      <td>10</td>\n",
       "      <td>4</td>\n",
       "      <td>4</td>\n",
       "    </tr>\n",
       "    <tr>\n",
       "      <th>28</th>\n",
       "      <td>11</td>\n",
       "      <td>6</td>\n",
       "      <td>10</td>\n",
       "      <td>6</td>\n",
       "      <td>10</td>\n",
       "      <td>10</td>\n",
       "      <td>3</td>\n",
       "      <td>4</td>\n",
       "    </tr>\n",
       "    <tr>\n",
       "      <th>29</th>\n",
       "      <td>6</td>\n",
       "      <td>8</td>\n",
       "      <td>6</td>\n",
       "      <td>8</td>\n",
       "      <td>8</td>\n",
       "      <td>13</td>\n",
       "      <td>5</td>\n",
       "      <td>7</td>\n",
       "    </tr>\n",
       "    <tr>\n",
       "      <th>...</th>\n",
       "      <td>...</td>\n",
       "      <td>...</td>\n",
       "      <td>...</td>\n",
       "      <td>...</td>\n",
       "      <td>...</td>\n",
       "      <td>...</td>\n",
       "      <td>...</td>\n",
       "      <td>...</td>\n",
       "    </tr>\n",
       "    <tr>\n",
       "      <th>162</th>\n",
       "      <td>11</td>\n",
       "      <td>9</td>\n",
       "      <td>5</td>\n",
       "      <td>4</td>\n",
       "      <td>11</td>\n",
       "      <td>8</td>\n",
       "      <td>5</td>\n",
       "      <td>8</td>\n",
       "    </tr>\n",
       "    <tr>\n",
       "      <th>163</th>\n",
       "      <td>9</td>\n",
       "      <td>10</td>\n",
       "      <td>6</td>\n",
       "      <td>5</td>\n",
       "      <td>9</td>\n",
       "      <td>9</td>\n",
       "      <td>4</td>\n",
       "      <td>9</td>\n",
       "    </tr>\n",
       "    <tr>\n",
       "      <th>164</th>\n",
       "      <td>11</td>\n",
       "      <td>9</td>\n",
       "      <td>5</td>\n",
       "      <td>5</td>\n",
       "      <td>10</td>\n",
       "      <td>9</td>\n",
       "      <td>4</td>\n",
       "      <td>10</td>\n",
       "    </tr>\n",
       "    <tr>\n",
       "      <th>165</th>\n",
       "      <td>10</td>\n",
       "      <td>8</td>\n",
       "      <td>4</td>\n",
       "      <td>5</td>\n",
       "      <td>11</td>\n",
       "      <td>9</td>\n",
       "      <td>1</td>\n",
       "      <td>9</td>\n",
       "    </tr>\n",
       "    <tr>\n",
       "      <th>166</th>\n",
       "      <td>8</td>\n",
       "      <td>11</td>\n",
       "      <td>5</td>\n",
       "      <td>4</td>\n",
       "      <td>10</td>\n",
       "      <td>10</td>\n",
       "      <td>11</td>\n",
       "      <td>8</td>\n",
       "    </tr>\n",
       "    <tr>\n",
       "      <th>167</th>\n",
       "      <td>10</td>\n",
       "      <td>10</td>\n",
       "      <td>10</td>\n",
       "      <td>4</td>\n",
       "      <td>10</td>\n",
       "      <td>10</td>\n",
       "      <td>8</td>\n",
       "      <td>10</td>\n",
       "    </tr>\n",
       "    <tr>\n",
       "      <th>168</th>\n",
       "      <td>6</td>\n",
       "      <td>10</td>\n",
       "      <td>6</td>\n",
       "      <td>6</td>\n",
       "      <td>10</td>\n",
       "      <td>9</td>\n",
       "      <td>9</td>\n",
       "      <td>9</td>\n",
       "    </tr>\n",
       "    <tr>\n",
       "      <th>169</th>\n",
       "      <td>8</td>\n",
       "      <td>7</td>\n",
       "      <td>5</td>\n",
       "      <td>6</td>\n",
       "      <td>8</td>\n",
       "      <td>10</td>\n",
       "      <td>7</td>\n",
       "      <td>10</td>\n",
       "    </tr>\n",
       "    <tr>\n",
       "      <th>170</th>\n",
       "      <td>6</td>\n",
       "      <td>8</td>\n",
       "      <td>5</td>\n",
       "      <td>5</td>\n",
       "      <td>9</td>\n",
       "      <td>10</td>\n",
       "      <td>8</td>\n",
       "      <td>10</td>\n",
       "    </tr>\n",
       "    <tr>\n",
       "      <th>171</th>\n",
       "      <td>9</td>\n",
       "      <td>9</td>\n",
       "      <td>9</td>\n",
       "      <td>8</td>\n",
       "      <td>9</td>\n",
       "      <td>10</td>\n",
       "      <td>6</td>\n",
       "      <td>8</td>\n",
       "    </tr>\n",
       "    <tr>\n",
       "      <th>172</th>\n",
       "      <td>6</td>\n",
       "      <td>11</td>\n",
       "      <td>8</td>\n",
       "      <td>7</td>\n",
       "      <td>8</td>\n",
       "      <td>10</td>\n",
       "      <td>9</td>\n",
       "      <td>7</td>\n",
       "    </tr>\n",
       "    <tr>\n",
       "      <th>173</th>\n",
       "      <td>9</td>\n",
       "      <td>11</td>\n",
       "      <td>8</td>\n",
       "      <td>7</td>\n",
       "      <td>10</td>\n",
       "      <td>10</td>\n",
       "      <td>8</td>\n",
       "      <td>8</td>\n",
       "    </tr>\n",
       "    <tr>\n",
       "      <th>174</th>\n",
       "      <td>10</td>\n",
       "      <td>6</td>\n",
       "      <td>5</td>\n",
       "      <td>5</td>\n",
       "      <td>9</td>\n",
       "      <td>9</td>\n",
       "      <td>7</td>\n",
       "      <td>9</td>\n",
       "    </tr>\n",
       "    <tr>\n",
       "      <th>175</th>\n",
       "      <td>10</td>\n",
       "      <td>7</td>\n",
       "      <td>10</td>\n",
       "      <td>6</td>\n",
       "      <td>9</td>\n",
       "      <td>9</td>\n",
       "      <td>6</td>\n",
       "      <td>11</td>\n",
       "    </tr>\n",
       "    <tr>\n",
       "      <th>176</th>\n",
       "      <td>11</td>\n",
       "      <td>6</td>\n",
       "      <td>6</td>\n",
       "      <td>6</td>\n",
       "      <td>10</td>\n",
       "      <td>9</td>\n",
       "      <td>6</td>\n",
       "      <td>10</td>\n",
       "    </tr>\n",
       "    <tr>\n",
       "      <th>177</th>\n",
       "      <td>2</td>\n",
       "      <td>3</td>\n",
       "      <td>12</td>\n",
       "      <td>7</td>\n",
       "      <td>8</td>\n",
       "      <td>12</td>\n",
       "      <td>7</td>\n",
       "      <td>8</td>\n",
       "    </tr>\n",
       "    <tr>\n",
       "      <th>178</th>\n",
       "      <td>4</td>\n",
       "      <td>12</td>\n",
       "      <td>11</td>\n",
       "      <td>5</td>\n",
       "      <td>7</td>\n",
       "      <td>11</td>\n",
       "      <td>8</td>\n",
       "      <td>7</td>\n",
       "    </tr>\n",
       "    <tr>\n",
       "      <th>179</th>\n",
       "      <td>3</td>\n",
       "      <td>3</td>\n",
       "      <td>10</td>\n",
       "      <td>4</td>\n",
       "      <td>9</td>\n",
       "      <td>10</td>\n",
       "      <td>8</td>\n",
       "      <td>9</td>\n",
       "    </tr>\n",
       "    <tr>\n",
       "      <th>180</th>\n",
       "      <td>8</td>\n",
       "      <td>11</td>\n",
       "      <td>4</td>\n",
       "      <td>4</td>\n",
       "      <td>8</td>\n",
       "      <td>11</td>\n",
       "      <td>7</td>\n",
       "      <td>3</td>\n",
       "    </tr>\n",
       "    <tr>\n",
       "      <th>181</th>\n",
       "      <td>9</td>\n",
       "      <td>9</td>\n",
       "      <td>5</td>\n",
       "      <td>4</td>\n",
       "      <td>8</td>\n",
       "      <td>10</td>\n",
       "      <td>3</td>\n",
       "      <td>4</td>\n",
       "    </tr>\n",
       "    <tr>\n",
       "      <th>182</th>\n",
       "      <td>11</td>\n",
       "      <td>8</td>\n",
       "      <td>5</td>\n",
       "      <td>4</td>\n",
       "      <td>10</td>\n",
       "      <td>8</td>\n",
       "      <td>2</td>\n",
       "      <td>6</td>\n",
       "    </tr>\n",
       "    <tr>\n",
       "      <th>183</th>\n",
       "      <td>10</td>\n",
       "      <td>10</td>\n",
       "      <td>6</td>\n",
       "      <td>8</td>\n",
       "      <td>10</td>\n",
       "      <td>10</td>\n",
       "      <td>5</td>\n",
       "      <td>3</td>\n",
       "    </tr>\n",
       "    <tr>\n",
       "      <th>184</th>\n",
       "      <td>8</td>\n",
       "      <td>4</td>\n",
       "      <td>6</td>\n",
       "      <td>4</td>\n",
       "      <td>8</td>\n",
       "      <td>9</td>\n",
       "      <td>7</td>\n",
       "      <td>10</td>\n",
       "    </tr>\n",
       "    <tr>\n",
       "      <th>185</th>\n",
       "      <td>6</td>\n",
       "      <td>5</td>\n",
       "      <td>6</td>\n",
       "      <td>7</td>\n",
       "      <td>9</td>\n",
       "      <td>10</td>\n",
       "      <td>8</td>\n",
       "      <td>6</td>\n",
       "    </tr>\n",
       "    <tr>\n",
       "      <th>186</th>\n",
       "      <td>9</td>\n",
       "      <td>11</td>\n",
       "      <td>11</td>\n",
       "      <td>8</td>\n",
       "      <td>10</td>\n",
       "      <td>11</td>\n",
       "      <td>4</td>\n",
       "      <td>3</td>\n",
       "    </tr>\n",
       "    <tr>\n",
       "      <th>187</th>\n",
       "      <td>10</td>\n",
       "      <td>9</td>\n",
       "      <td>10</td>\n",
       "      <td>8</td>\n",
       "      <td>10</td>\n",
       "      <td>10</td>\n",
       "      <td>4</td>\n",
       "      <td>7</td>\n",
       "    </tr>\n",
       "    <tr>\n",
       "      <th>188</th>\n",
       "      <td>9</td>\n",
       "      <td>10</td>\n",
       "      <td>11</td>\n",
       "      <td>7</td>\n",
       "      <td>9</td>\n",
       "      <td>11</td>\n",
       "      <td>2</td>\n",
       "      <td>7</td>\n",
       "    </tr>\n",
       "    <tr>\n",
       "      <th>189</th>\n",
       "      <td>10</td>\n",
       "      <td>5</td>\n",
       "      <td>8</td>\n",
       "      <td>3</td>\n",
       "      <td>9</td>\n",
       "      <td>9</td>\n",
       "      <td>5</td>\n",
       "      <td>9</td>\n",
       "    </tr>\n",
       "    <tr>\n",
       "      <th>190</th>\n",
       "      <td>11</td>\n",
       "      <td>7</td>\n",
       "      <td>4</td>\n",
       "      <td>5</td>\n",
       "      <td>11</td>\n",
       "      <td>9</td>\n",
       "      <td>4</td>\n",
       "      <td>7</td>\n",
       "    </tr>\n",
       "    <tr>\n",
       "      <th>191</th>\n",
       "      <td>8</td>\n",
       "      <td>7</td>\n",
       "      <td>10</td>\n",
       "      <td>7</td>\n",
       "      <td>10</td>\n",
       "      <td>9</td>\n",
       "      <td>8</td>\n",
       "      <td>8</td>\n",
       "    </tr>\n",
       "  </tbody>\n",
       "</table>\n",
       "<p>192 rows × 8 columns</p>\n",
       "</div>"
      ],
      "text/plain": [
       "      A   B   C   D   E   F   G   H\n",
       "0    11  11   5   6  10  10   5   5\n",
       "1     9   6   5   6   9  10   5   6\n",
       "2     7   7   7   6   8  11   6   5\n",
       "3     6  12  13   5   8  12   5   6\n",
       "4    10  12  11   4   9  11   2   4\n",
       "5     3  11   3   4  10  11   3   2\n",
       "6     6   6   6   6  10  10   5   5\n",
       "7     5   6  11   5  10  11   4   4\n",
       "8     5   6  11   7  10  11   4   5\n",
       "9    10  12  12   4   9  12   1   3\n",
       "10   10  12  12   4  10  12   1   4\n",
       "11   10  11   4   3  10  10   1   2\n",
       "12    9  11  11   9   9  11   1   2\n",
       "13   11  10  10  10  10  10   1   1\n",
       "14    5  13  13   5   8  13   5   3\n",
       "15   10  12  12   9   9  12   3   3\n",
       "16    5  13   5   4   9  13   3   4\n",
       "17    4  14   6   4   7  14   4   4\n",
       "18   10  13  12   5  10  13   2   4\n",
       "19   11  10   5   4  11  10   3   3\n",
       "20    6  10   4   3  12  10   3   3\n",
       "21   12   9   7  13  13   8   3   2\n",
       "22   11  11  11   4  10  11   2   3\n",
       "23    4  12   4   4   9  12   3   4\n",
       "24    5  12   5   5   9  12   3   5\n",
       "25    6   7   5   5   7  13   3   6\n",
       "26    5   6  14   5   7  14   5   5\n",
       "27    3   5   6   5   9  10   4   4\n",
       "28   11   6  10   6  10  10   3   4\n",
       "29    6   8   6   8   8  13   5   7\n",
       "..   ..  ..  ..  ..  ..  ..  ..  ..\n",
       "162  11   9   5   4  11   8   5   8\n",
       "163   9  10   6   5   9   9   4   9\n",
       "164  11   9   5   5  10   9   4  10\n",
       "165  10   8   4   5  11   9   1   9\n",
       "166   8  11   5   4  10  10  11   8\n",
       "167  10  10  10   4  10  10   8  10\n",
       "168   6  10   6   6  10   9   9   9\n",
       "169   8   7   5   6   8  10   7  10\n",
       "170   6   8   5   5   9  10   8  10\n",
       "171   9   9   9   8   9  10   6   8\n",
       "172   6  11   8   7   8  10   9   7\n",
       "173   9  11   8   7  10  10   8   8\n",
       "174  10   6   5   5   9   9   7   9\n",
       "175  10   7  10   6   9   9   6  11\n",
       "176  11   6   6   6  10   9   6  10\n",
       "177   2   3  12   7   8  12   7   8\n",
       "178   4  12  11   5   7  11   8   7\n",
       "179   3   3  10   4   9  10   8   9\n",
       "180   8  11   4   4   8  11   7   3\n",
       "181   9   9   5   4   8  10   3   4\n",
       "182  11   8   5   4  10   8   2   6\n",
       "183  10  10   6   8  10  10   5   3\n",
       "184   8   4   6   4   8   9   7  10\n",
       "185   6   5   6   7   9  10   8   6\n",
       "186   9  11  11   8  10  11   4   3\n",
       "187  10   9  10   8  10  10   4   7\n",
       "188   9  10  11   7   9  11   2   7\n",
       "189  10   5   8   3   9   9   5   9\n",
       "190  11   7   4   5  11   9   4   7\n",
       "191   8   7  10   7  10   9   8   8\n",
       "\n",
       "[192 rows x 8 columns]"
      ]
     },
     "execution_count": 335,
     "metadata": {},
     "output_type": "execute_result"
    }
   ],
   "source": [
    "X"
   ]
  },
  {
   "cell_type": "code",
   "execution_count": 336,
   "metadata": {
    "collapsed": true
   },
   "outputs": [],
   "source": [
    "y=messages['label']"
   ]
  },
  {
   "cell_type": "code",
   "execution_count": 337,
   "metadata": {
    "collapsed": false
   },
   "outputs": [
    {
     "data": {
      "text/plain": [
       "0      1\n",
       "1      1\n",
       "2      1\n",
       "3      1\n",
       "4      1\n",
       "5      1\n",
       "6      1\n",
       "7      1\n",
       "8      1\n",
       "9      1\n",
       "10     1\n",
       "11     1\n",
       "12     1\n",
       "13     1\n",
       "14     1\n",
       "15     1\n",
       "16     1\n",
       "17     1\n",
       "18     1\n",
       "19     1\n",
       "20     1\n",
       "21     1\n",
       "22     1\n",
       "23     1\n",
       "24     1\n",
       "25     1\n",
       "26     1\n",
       "27     1\n",
       "28     1\n",
       "29     1\n",
       "      ..\n",
       "162    4\n",
       "163    4\n",
       "164    4\n",
       "165    4\n",
       "166    4\n",
       "167    4\n",
       "168    4\n",
       "169    4\n",
       "170    4\n",
       "171    4\n",
       "172    4\n",
       "173    4\n",
       "174    4\n",
       "175    4\n",
       "176    4\n",
       "177    4\n",
       "178    4\n",
       "179    4\n",
       "180    4\n",
       "181    4\n",
       "182    4\n",
       "183    4\n",
       "184    4\n",
       "185    4\n",
       "186    4\n",
       "187    4\n",
       "188    4\n",
       "189    4\n",
       "190    4\n",
       "191    4\n",
       "Name: label, dtype: int64"
      ]
     },
     "execution_count": 337,
     "metadata": {},
     "output_type": "execute_result"
    }
   ],
   "source": [
    "y"
   ]
  },
  {
   "cell_type": "markdown",
   "metadata": {},
   "source": [
    "# N=1로 지정하였을 경우"
   ]
  },
  {
   "cell_type": "code",
   "execution_count": 338,
   "metadata": {
    "collapsed": false
   },
   "outputs": [],
   "source": [
    "clf=neighbors.KNeighborsClassifier(n_neighbors=1)"
   ]
  },
  {
   "cell_type": "code",
   "execution_count": 339,
   "metadata": {
    "collapsed": false
   },
   "outputs": [
    {
     "data": {
      "text/plain": [
       "KNeighborsClassifier(algorithm='auto', leaf_size=30, metric='minkowski',\n",
       "           metric_params=None, n_neighbors=1, p=2, weights='uniform')"
      ]
     },
     "execution_count": 339,
     "metadata": {},
     "output_type": "execute_result"
    }
   ],
   "source": [
    "clf.fit(X,y)"
   ]
  },
  {
   "cell_type": "code",
   "execution_count": 340,
   "metadata": {
    "collapsed": false
   },
   "outputs": [],
   "source": [
    "Z=clf.predict(X)"
   ]
  },
  {
   "cell_type": "code",
   "execution_count": 341,
   "metadata": {
    "collapsed": false
   },
   "outputs": [
    {
     "data": {
      "text/plain": [
       "array([1, 1, 1, 1, 1, 1, 1, 1, 1, 1, 1, 1, 1, 1, 1, 1, 1, 1, 1, 1, 1, 1, 1,\n",
       "       1, 1, 1, 1, 1, 1, 1, 1, 1, 1, 1, 1, 1, 1, 1, 1, 1, 1, 1, 1, 1, 1, 1,\n",
       "       1, 1, 2, 2, 2, 2, 2, 2, 2, 2, 2, 2, 2, 2, 2, 2, 2, 2, 2, 2, 2, 2, 2,\n",
       "       2, 2, 2, 2, 2, 2, 2, 2, 2, 2, 2, 2, 2, 2, 2, 2, 2, 2, 2, 2, 2, 2, 2,\n",
       "       2, 2, 2, 2, 3, 3, 3, 3, 3, 3, 3, 3, 3, 3, 3, 3, 3, 3, 3, 3, 3, 3, 3,\n",
       "       3, 3, 3, 3, 3, 3, 3, 3, 3, 3, 3, 3, 3, 3, 3, 3, 3, 3, 3, 3, 3, 3, 3,\n",
       "       3, 3, 3, 3, 3, 3, 4, 4, 4, 4, 4, 4, 4, 4, 4, 4, 4, 4, 4, 4, 4, 4, 4,\n",
       "       4, 4, 4, 4, 4, 4, 4, 4, 4, 4, 4, 4, 4, 4, 4, 4, 4, 4, 4, 4, 4, 4, 4,\n",
       "       4, 4, 4, 4, 4, 4, 4, 4], dtype=int64)"
      ]
     },
     "execution_count": 341,
     "metadata": {},
     "output_type": "execute_result"
    }
   ],
   "source": [
    "Z"
   ]
  },
  {
   "cell_type": "code",
   "execution_count": 342,
   "metadata": {
    "collapsed": true
   },
   "outputs": [],
   "source": [
    "accuracy=clf.score(X,y)"
   ]
  },
  {
   "cell_type": "code",
   "execution_count": 343,
   "metadata": {
    "collapsed": false
   },
   "outputs": [
    {
     "name": "stdout",
     "output_type": "stream",
     "text": [
      "Predicted model accuracy: 1.0\n"
     ]
    }
   ],
   "source": [
    "print (\"Predicted model accuracy: \"+ str(accuracy))"
   ]
  },
  {
   "cell_type": "markdown",
   "metadata": {},
   "source": [
    "# 예측 모델 정확도 1 (n=1일경우)"
   ]
  },
  {
   "cell_type": "code",
   "execution_count": 344,
   "metadata": {
    "collapsed": true
   },
   "outputs": [],
   "source": [
    "A=np.vstack([y, Z])"
   ]
  },
  {
   "cell_type": "code",
   "execution_count": 345,
   "metadata": {
    "collapsed": false
   },
   "outputs": [
    {
     "name": "stdout",
     "output_type": "stream",
     "text": [
      "[[1 1 1 1 1 1 1 1 1 1 1 1 1 1 1 1 1 1 1 1 1 1 1 1 1 1 1 1 1 1 1 1 1 1 1 1 1\n",
      "  1 1 1 1 1 1 1 1 1 1 1 2 2 2 2 2 2 2 2 2 2 2 2 2 2 2 2 2 2 2 2 2 2 2 2 2 2\n",
      "  2 2 2 2 2 2 2 2 2 2 2 2 2 2 2 2 2 2 2 2 2 2 3 3 3 3 3 3 3 3 3 3 3 3 3 3 3\n",
      "  3 3 3 3 3 3 3 3 3 3 3 3 3 3 3 3 3 3 3 3 3 3 3 3 3 3 3 3 3 3 3 3 3 4 4 4 4\n",
      "  4 4 4 4 4 4 4 4 4 4 4 4 4 4 4 4 4 4 4 4 4 4 4 4 4 4 4 4 4 4 4 4 4 4 4 4 4\n",
      "  4 4 4 4 4 4 4]\n",
      " [1 1 1 1 1 1 1 1 1 1 1 1 1 1 1 1 1 1 1 1 1 1 1 1 1 1 1 1 1 1 1 1 1 1 1 1 1\n",
      "  1 1 1 1 1 1 1 1 1 1 1 2 2 2 2 2 2 2 2 2 2 2 2 2 2 2 2 2 2 2 2 2 2 2 2 2 2\n",
      "  2 2 2 2 2 2 2 2 2 2 2 2 2 2 2 2 2 2 2 2 2 2 3 3 3 3 3 3 3 3 3 3 3 3 3 3 3\n",
      "  3 3 3 3 3 3 3 3 3 3 3 3 3 3 3 3 3 3 3 3 3 3 3 3 3 3 3 3 3 3 3 3 3 4 4 4 4\n",
      "  4 4 4 4 4 4 4 4 4 4 4 4 4 4 4 4 4 4 4 4 4 4 4 4 4 4 4 4 4 4 4 4 4 4 4 4 4\n",
      "  4 4 4 4 4 4 4]]\n"
     ]
    }
   ],
   "source": [
    "print(A)"
   ]
  },
  {
   "cell_type": "markdown",
   "metadata": {},
   "source": [
    "# N=3으로 가정하였을 경우"
   ]
  },
  {
   "cell_type": "code",
   "execution_count": 346,
   "metadata": {
    "collapsed": true
   },
   "outputs": [],
   "source": [
    "clf=neighbors.KNeighborsClassifier(n_neighbors=3)"
   ]
  },
  {
   "cell_type": "code",
   "execution_count": 347,
   "metadata": {
    "collapsed": false
   },
   "outputs": [
    {
     "data": {
      "text/plain": [
       "KNeighborsClassifier(algorithm='auto', leaf_size=30, metric='minkowski',\n",
       "           metric_params=None, n_neighbors=3, p=2, weights='uniform')"
      ]
     },
     "execution_count": 347,
     "metadata": {},
     "output_type": "execute_result"
    }
   ],
   "source": [
    "clf.fit(X,y)"
   ]
  },
  {
   "cell_type": "code",
   "execution_count": 348,
   "metadata": {
    "collapsed": true
   },
   "outputs": [],
   "source": [
    "Z=clf.predict(X)"
   ]
  },
  {
   "cell_type": "code",
   "execution_count": 349,
   "metadata": {
    "collapsed": false
   },
   "outputs": [
    {
     "data": {
      "text/plain": [
       "array([1, 1, 1, 1, 1, 1, 1, 1, 1, 1, 1, 1, 1, 1, 1, 1, 1, 1, 1, 1, 1, 1, 1,\n",
       "       1, 1, 1, 1, 1, 1, 1, 1, 1, 1, 1, 1, 1, 1, 1, 1, 1, 1, 1, 4, 1, 1, 1,\n",
       "       1, 1, 2, 2, 2, 2, 2, 2, 2, 2, 2, 2, 2, 2, 2, 2, 2, 2, 2, 2, 3, 2, 2,\n",
       "       2, 2, 2, 2, 2, 2, 2, 2, 2, 2, 2, 2, 2, 2, 2, 2, 2, 2, 2, 2, 2, 2, 2,\n",
       "       2, 2, 2, 2, 3, 3, 3, 3, 3, 3, 3, 3, 3, 3, 3, 3, 3, 3, 3, 3, 3, 3, 3,\n",
       "       3, 3, 3, 3, 3, 3, 3, 3, 3, 3, 3, 3, 3, 3, 3, 3, 3, 3, 3, 3, 3, 3, 3,\n",
       "       3, 3, 3, 3, 3, 3, 4, 4, 4, 4, 4, 4, 4, 4, 4, 4, 4, 4, 4, 4, 4, 4, 4,\n",
       "       4, 4, 4, 4, 4, 4, 4, 4, 4, 4, 4, 4, 4, 4, 4, 4, 4, 4, 4, 4, 4, 4, 1,\n",
       "       4, 4, 1, 4, 4, 4, 4, 4], dtype=int64)"
      ]
     },
     "execution_count": 349,
     "metadata": {},
     "output_type": "execute_result"
    }
   ],
   "source": [
    "Z"
   ]
  },
  {
   "cell_type": "code",
   "execution_count": 350,
   "metadata": {
    "collapsed": true
   },
   "outputs": [],
   "source": [
    "accuracy=clf.score(X,y)"
   ]
  },
  {
   "cell_type": "code",
   "execution_count": 351,
   "metadata": {
    "collapsed": false
   },
   "outputs": [
    {
     "name": "stdout",
     "output_type": "stream",
     "text": [
      "Predicted model accuracy: 0.979166666667\n"
     ]
    }
   ],
   "source": [
    "print (\"Predicted model accuracy: \"+ str(accuracy))"
   ]
  },
  {
   "cell_type": "markdown",
   "metadata": {},
   "source": [
    "#N=3으로 하였을 경우 예측 모델 정확도 약 0.979167"
   ]
  },
  {
   "cell_type": "code",
   "execution_count": 352,
   "metadata": {
    "collapsed": true
   },
   "outputs": [],
   "source": [
    "A=np.vstack([y, Z])"
   ]
  },
  {
   "cell_type": "code",
   "execution_count": 353,
   "metadata": {
    "collapsed": false
   },
   "outputs": [
    {
     "name": "stdout",
     "output_type": "stream",
     "text": [
      "[[1 1 1 1 1 1 1 1 1 1 1 1 1 1 1 1 1 1 1 1 1 1 1 1 1 1 1 1 1 1 1 1 1 1 1 1 1\n",
      "  1 1 1 1 1 1 1 1 1 1 1 2 2 2 2 2 2 2 2 2 2 2 2 2 2 2 2 2 2 2 2 2 2 2 2 2 2\n",
      "  2 2 2 2 2 2 2 2 2 2 2 2 2 2 2 2 2 2 2 2 2 2 3 3 3 3 3 3 3 3 3 3 3 3 3 3 3\n",
      "  3 3 3 3 3 3 3 3 3 3 3 3 3 3 3 3 3 3 3 3 3 3 3 3 3 3 3 3 3 3 3 3 3 4 4 4 4\n",
      "  4 4 4 4 4 4 4 4 4 4 4 4 4 4 4 4 4 4 4 4 4 4 4 4 4 4 4 4 4 4 4 4 4 4 4 4 4\n",
      "  4 4 4 4 4 4 4]\n",
      " [1 1 1 1 1 1 1 1 1 1 1 1 1 1 1 1 1 1 1 1 1 1 1 1 1 1 1 1 1 1 1 1 1 1 1 1 1\n",
      "  1 1 1 1 1 4 1 1 1 1 1 2 2 2 2 2 2 2 2 2 2 2 2 2 2 2 2 2 2 3 2 2 2 2 2 2 2\n",
      "  2 2 2 2 2 2 2 2 2 2 2 2 2 2 2 2 2 2 2 2 2 2 3 3 3 3 3 3 3 3 3 3 3 3 3 3 3\n",
      "  3 3 3 3 3 3 3 3 3 3 3 3 3 3 3 3 3 3 3 3 3 3 3 3 3 3 3 3 3 3 3 3 3 4 4 4 4\n",
      "  4 4 4 4 4 4 4 4 4 4 4 4 4 4 4 4 4 4 4 4 4 4 4 4 4 4 4 4 4 4 4 4 4 4 4 1 4\n",
      "  4 1 4 4 4 4 4]]\n"
     ]
    }
   ],
   "source": [
    "print(A)"
   ]
  },
  {
   "cell_type": "markdown",
   "metadata": {},
   "source": [
    "#N=5로 가정하였을 경우"
   ]
  },
  {
   "cell_type": "code",
   "execution_count": 354,
   "metadata": {
    "collapsed": true
   },
   "outputs": [],
   "source": [
    "clf=neighbors.KNeighborsClassifier(n_neighbors=5)"
   ]
  },
  {
   "cell_type": "code",
   "execution_count": 355,
   "metadata": {
    "collapsed": false
   },
   "outputs": [
    {
     "data": {
      "text/plain": [
       "KNeighborsClassifier(algorithm='auto', leaf_size=30, metric='minkowski',\n",
       "           metric_params=None, n_neighbors=5, p=2, weights='uniform')"
      ]
     },
     "execution_count": 355,
     "metadata": {},
     "output_type": "execute_result"
    }
   ],
   "source": [
    "clf.fit(X,y)"
   ]
  },
  {
   "cell_type": "code",
   "execution_count": 356,
   "metadata": {
    "collapsed": true
   },
   "outputs": [],
   "source": [
    "Z=clf.predict(X)"
   ]
  },
  {
   "cell_type": "code",
   "execution_count": 357,
   "metadata": {
    "collapsed": false
   },
   "outputs": [
    {
     "data": {
      "text/plain": [
       "array([1, 1, 1, 1, 1, 1, 1, 1, 1, 1, 1, 1, 1, 1, 1, 1, 1, 1, 1, 1, 1, 1, 1,\n",
       "       1, 1, 1, 1, 1, 1, 1, 1, 1, 1, 1, 1, 1, 1, 1, 1, 1, 1, 1, 4, 1, 1, 1,\n",
       "       1, 1, 2, 2, 2, 2, 2, 2, 2, 2, 2, 2, 2, 2, 2, 2, 2, 2, 2, 2, 3, 2, 2,\n",
       "       2, 2, 2, 2, 2, 2, 2, 2, 2, 2, 2, 2, 2, 2, 2, 2, 2, 2, 2, 2, 2, 2, 2,\n",
       "       2, 2, 2, 2, 3, 3, 3, 3, 3, 3, 3, 3, 3, 3, 3, 3, 3, 3, 3, 3, 3, 3, 3,\n",
       "       3, 3, 3, 3, 3, 3, 3, 3, 3, 3, 3, 3, 3, 3, 3, 3, 3, 3, 3, 3, 3, 3, 3,\n",
       "       3, 3, 3, 3, 3, 3, 4, 4, 4, 4, 4, 4, 4, 4, 4, 4, 4, 4, 1, 4, 4, 4, 4,\n",
       "       4, 4, 4, 4, 4, 4, 4, 4, 4, 4, 4, 4, 4, 4, 4, 4, 4, 4, 4, 4, 1, 4, 4,\n",
       "       4, 4, 1, 4, 4, 4, 4, 4], dtype=int64)"
      ]
     },
     "execution_count": 357,
     "metadata": {},
     "output_type": "execute_result"
    }
   ],
   "source": [
    "Z"
   ]
  },
  {
   "cell_type": "code",
   "execution_count": 358,
   "metadata": {
    "collapsed": true
   },
   "outputs": [],
   "source": [
    "accuracy=clf.score(X,y)"
   ]
  },
  {
   "cell_type": "code",
   "execution_count": 359,
   "metadata": {
    "collapsed": false
   },
   "outputs": [
    {
     "name": "stdout",
     "output_type": "stream",
     "text": [
      "Predicted model accuracy: 0.973958333333\n"
     ]
    }
   ],
   "source": [
    "print (\"Predicted model accuracy: \"+ str(accuracy))"
   ]
  },
  {
   "cell_type": "markdown",
   "metadata": {},
   "source": [
    "#N=5로 가정하였을 경우 예측 정확도 약 0.97396"
   ]
  },
  {
   "cell_type": "code",
   "execution_count": 360,
   "metadata": {
    "collapsed": true
   },
   "outputs": [],
   "source": [
    "A=np.vstack([y, Z])"
   ]
  },
  {
   "cell_type": "code",
   "execution_count": 361,
   "metadata": {
    "collapsed": false
   },
   "outputs": [
    {
     "name": "stdout",
     "output_type": "stream",
     "text": [
      "[[1 1 1 1 1 1 1 1 1 1 1 1 1 1 1 1 1 1 1 1 1 1 1 1 1 1 1 1 1 1 1 1 1 1 1 1 1\n",
      "  1 1 1 1 1 1 1 1 1 1 1 2 2 2 2 2 2 2 2 2 2 2 2 2 2 2 2 2 2 2 2 2 2 2 2 2 2\n",
      "  2 2 2 2 2 2 2 2 2 2 2 2 2 2 2 2 2 2 2 2 2 2 3 3 3 3 3 3 3 3 3 3 3 3 3 3 3\n",
      "  3 3 3 3 3 3 3 3 3 3 3 3 3 3 3 3 3 3 3 3 3 3 3 3 3 3 3 3 3 3 3 3 3 4 4 4 4\n",
      "  4 4 4 4 4 4 4 4 4 4 4 4 4 4 4 4 4 4 4 4 4 4 4 4 4 4 4 4 4 4 4 4 4 4 4 4 4\n",
      "  4 4 4 4 4 4 4]\n",
      " [1 1 1 1 1 1 1 1 1 1 1 1 1 1 1 1 1 1 1 1 1 1 1 1 1 1 1 1 1 1 1 1 1 1 1 1 1\n",
      "  1 1 1 1 1 4 1 1 1 1 1 2 2 2 2 2 2 2 2 2 2 2 2 2 2 2 2 2 2 3 2 2 2 2 2 2 2\n",
      "  2 2 2 2 2 2 2 2 2 2 2 2 2 2 2 2 2 2 2 2 2 2 3 3 3 3 3 3 3 3 3 3 3 3 3 3 3\n",
      "  3 3 3 3 3 3 3 3 3 3 3 3 3 3 3 3 3 3 3 3 3 3 3 3 3 3 3 3 3 3 3 3 3 4 4 4 4\n",
      "  4 4 4 4 4 4 4 4 1 4 4 4 4 4 4 4 4 4 4 4 4 4 4 4 4 4 4 4 4 4 4 4 4 1 4 4 4\n",
      "  4 1 4 4 4 4 4]]\n"
     ]
    }
   ],
   "source": [
    "print(A)"
   ]
  },
  {
   "cell_type": "markdown",
   "metadata": {},
   "source": [
    "#N=10으로 가정하였을 경우"
   ]
  },
  {
   "cell_type": "code",
   "execution_count": 362,
   "metadata": {
    "collapsed": true
   },
   "outputs": [],
   "source": [
    "clf=neighbors.KNeighborsClassifier(n_neighbors=10)"
   ]
  },
  {
   "cell_type": "code",
   "execution_count": 363,
   "metadata": {
    "collapsed": false
   },
   "outputs": [
    {
     "data": {
      "text/plain": [
       "KNeighborsClassifier(algorithm='auto', leaf_size=30, metric='minkowski',\n",
       "           metric_params=None, n_neighbors=10, p=2, weights='uniform')"
      ]
     },
     "execution_count": 363,
     "metadata": {},
     "output_type": "execute_result"
    }
   ],
   "source": [
    "clf.fit(X,y)"
   ]
  },
  {
   "cell_type": "code",
   "execution_count": 364,
   "metadata": {
    "collapsed": true
   },
   "outputs": [],
   "source": [
    "Z=clf.predict(X)"
   ]
  },
  {
   "cell_type": "code",
   "execution_count": 365,
   "metadata": {
    "collapsed": false
   },
   "outputs": [
    {
     "data": {
      "text/plain": [
       "array([4, 4, 1, 1, 1, 1, 1, 1, 1, 1, 1, 1, 1, 1, 1, 1, 1, 1, 1, 4, 1, 1, 1,\n",
       "       1, 1, 1, 1, 1, 1, 1, 1, 1, 1, 1, 1, 1, 1, 1, 1, 1, 1, 1, 4, 1, 1, 1,\n",
       "       1, 1, 2, 2, 2, 2, 2, 2, 2, 2, 2, 2, 2, 2, 2, 2, 2, 2, 2, 2, 3, 2, 2,\n",
       "       2, 2, 2, 2, 2, 2, 2, 2, 2, 2, 2, 2, 2, 2, 2, 2, 2, 2, 2, 2, 2, 2, 2,\n",
       "       2, 2, 2, 2, 3, 3, 3, 3, 3, 3, 3, 3, 3, 3, 3, 3, 3, 3, 3, 3, 3, 3, 3,\n",
       "       3, 3, 3, 3, 3, 3, 3, 3, 3, 3, 3, 3, 3, 3, 3, 3, 3, 3, 3, 3, 3, 3, 3,\n",
       "       3, 3, 3, 3, 3, 3, 4, 4, 4, 4, 4, 4, 4, 4, 4, 4, 4, 4, 4, 4, 4, 4, 1,\n",
       "       4, 4, 4, 4, 4, 4, 4, 4, 4, 4, 4, 4, 4, 4, 4, 4, 4, 4, 4, 1, 1, 4, 4,\n",
       "       4, 4, 1, 4, 1, 4, 4, 4], dtype=int64)"
      ]
     },
     "execution_count": 365,
     "metadata": {},
     "output_type": "execute_result"
    }
   ],
   "source": [
    "Z"
   ]
  },
  {
   "cell_type": "code",
   "execution_count": 366,
   "metadata": {
    "collapsed": true
   },
   "outputs": [],
   "source": [
    "accuracy=clf.score(X,y)"
   ]
  },
  {
   "cell_type": "code",
   "execution_count": 367,
   "metadata": {
    "collapsed": false
   },
   "outputs": [
    {
     "name": "stdout",
     "output_type": "stream",
     "text": [
      "Predicted model accuracy: 0.947916666667\n"
     ]
    }
   ],
   "source": [
    "print (\"Predicted model accuracy: \"+ str(accuracy))"
   ]
  },
  {
   "cell_type": "markdown",
   "metadata": {},
   "source": [
    "#N=10으로 가정하였을 경우 정확도 약 0.949167"
   ]
  },
  {
   "cell_type": "code",
   "execution_count": 368,
   "metadata": {
    "collapsed": true
   },
   "outputs": [],
   "source": [
    "A=np.vstack([y, Z])"
   ]
  },
  {
   "cell_type": "code",
   "execution_count": 369,
   "metadata": {
    "collapsed": false
   },
   "outputs": [
    {
     "name": "stdout",
     "output_type": "stream",
     "text": [
      "[[1 1 1 1 1 1 1 1 1 1 1 1 1 1 1 1 1 1 1 1 1 1 1 1 1 1 1 1 1 1 1 1 1 1 1 1 1\n",
      "  1 1 1 1 1 1 1 1 1 1 1 2 2 2 2 2 2 2 2 2 2 2 2 2 2 2 2 2 2 2 2 2 2 2 2 2 2\n",
      "  2 2 2 2 2 2 2 2 2 2 2 2 2 2 2 2 2 2 2 2 2 2 3 3 3 3 3 3 3 3 3 3 3 3 3 3 3\n",
      "  3 3 3 3 3 3 3 3 3 3 3 3 3 3 3 3 3 3 3 3 3 3 3 3 3 3 3 3 3 3 3 3 3 4 4 4 4\n",
      "  4 4 4 4 4 4 4 4 4 4 4 4 4 4 4 4 4 4 4 4 4 4 4 4 4 4 4 4 4 4 4 4 4 4 4 4 4\n",
      "  4 4 4 4 4 4 4]\n",
      " [4 4 1 1 1 1 1 1 1 1 1 1 1 1 1 1 1 1 1 4 1 1 1 1 1 1 1 1 1 1 1 1 1 1 1 1 1\n",
      "  1 1 1 1 1 4 1 1 1 1 1 2 2 2 2 2 2 2 2 2 2 2 2 2 2 2 2 2 2 3 2 2 2 2 2 2 2\n",
      "  2 2 2 2 2 2 2 2 2 2 2 2 2 2 2 2 2 2 2 2 2 2 3 3 3 3 3 3 3 3 3 3 3 3 3 3 3\n",
      "  3 3 3 3 3 3 3 3 3 3 3 3 3 3 3 3 3 3 3 3 3 3 3 3 3 3 3 3 3 3 3 3 3 4 4 4 4\n",
      "  4 4 4 4 4 4 4 4 4 4 4 4 1 4 4 4 4 4 4 4 4 4 4 4 4 4 4 4 4 4 4 4 1 1 4 4 4\n",
      "  4 1 4 1 4 4 4]]\n"
     ]
    }
   ],
   "source": [
    "print(A)"
   ]
  },
  {
   "cell_type": "markdown",
   "metadata": {},
   "source": [
    "#3. 3-layer Neural Network Classifier (구조: 8-10-4) "
   ]
  },
  {
   "cell_type": "markdown",
   "metadata": {},
   "source": [
    "# 4. SVM(Support Vector Machine)"
   ]
  },
  {
   "cell_type": "code",
   "execution_count": 447,
   "metadata": {
    "collapsed": true
   },
   "outputs": [],
   "source": [
    "from __future__ import division\n",
    "import pandas as pd\n",
    "import numpy as np\n",
    "import matplotlib.pyplot as plt\n",
    "import json\n",
    "\n",
    "from sklearn.cross_validation import KFold\n",
    "from sklearn.preprocessing import StandardScaler\n",
    "from sklearn.cross_validation import train_test_split\n",
    "from sklearn.svm import SVC\n",
    "from sklearn.ensemble import RandomForestClassifier as RF\n",
    "%matplotlib inline "
   ]
  },
  {
   "cell_type": "code",
   "execution_count": 448,
   "metadata": {
    "collapsed": true
   },
   "outputs": [],
   "source": [
    "from sklearn.cross_validation import KFold\n",
    "\n",
    "def run_cv(X,y,clf_class,**kwargs):\n",
    "    # Construct a kfolds object\n",
    "    kf = KFold(len(y),n_folds=3,shuffle=True)\n",
    "    y_pred = y.copy()\n",
    "    \n",
    "    # Iterate through folds\n",
    "    for train_index, test_index in kf:\n",
    "        X_train, X_test = X[train_index], X[test_index]\n",
    "        y_train = y[train_index]\n",
    "        # Initialize a classifier with key word arguments\n",
    "        clf = clf_class(**kwargs)\n",
    "        clf.fit(X_train,y_train)\n",
    "        y_pred[test_index] = clf.predict(X_test)\n",
    "    return y_pred"
   ]
  },
  {
   "cell_type": "code",
   "execution_count": 449,
   "metadata": {
    "collapsed": true
   },
   "outputs": [],
   "source": [
    "from sklearn.svm import SVC\n",
    "from sklearn.ensemble import RandomForestClassifier as RF\n",
    "from sklearn.neighbors import KNeighborsClassifier as KNN\n",
    "from sklearn.linear_model import LogisticRegression as LR\n",
    "from sklearn.ensemble import GradientBoostingClassifier as GBC\n",
    "from sklearn.metrics import average_precision_score"
   ]
  },
  {
   "cell_type": "code",
   "execution_count": 462,
   "metadata": {
    "collapsed": false
   },
   "outputs": [],
   "source": [
    "scaler=StandardScaler()\n",
    "Xs=scaler.fit_transform(X)"
   ]
  },
  {
   "cell_type": "code",
   "execution_count": 463,
   "metadata": {
    "collapsed": false
   },
   "outputs": [
    {
     "data": {
      "text/plain": [
       "array([[ 1.79425708,  1.38200259, -0.75749459, ...,  0.72571789,\n",
       "        -0.09652882, -0.39305264],\n",
       "       [ 0.86318314, -0.54078362, -0.75749459, ...,  0.72571789,\n",
       "        -0.09652882, -0.06916377],\n",
       "       [-0.06789081, -0.15622638,  0.04603558, ...,  1.05357162,\n",
       "         0.22862088, -0.39305264],\n",
       "       ..., \n",
       "       [ 1.32872011, -0.92534087,  0.44780067, ...,  0.39786416,\n",
       "        -0.09652882,  0.90250284],\n",
       "       [ 1.79425708, -0.15622638, -1.15925968, ...,  0.39786416,\n",
       "        -0.42167851,  0.2547251 ],\n",
       "       [ 0.39764616, -0.15622638,  1.25133084, ...,  0.39786416,\n",
       "         0.87892027,  0.57861397]])"
      ]
     },
     "execution_count": 463,
     "metadata": {},
     "output_type": "execute_result"
    }
   ],
   "source": [
    "Xs"
   ]
  },
  {
   "cell_type": "code",
   "execution_count": 465,
   "metadata": {
    "collapsed": false
   },
   "outputs": [
    {
     "name": "stdout",
     "output_type": "stream",
     "text": [
      "Support vector machines:\n",
      "0.938\n"
     ]
    }
   ],
   "source": [
    "def accuracy(y_true,y_pred):\n",
    "    # NumPy interpretes True and False as 1. and 0.\n",
    "    return np.mean(y_true == y_pred)\n",
    "\n",
    "print \"Support vector machines:\"\n",
    "print \"%.3f\" % accuracy(y, run_cv(Xs,y,SVC))"
   ]
  },
  {
   "cell_type": "markdown",
   "metadata": {},
   "source": [
    "#SVM의 정확도는 0.938"
   ]
  },
  {
   "cell_type": "markdown",
   "metadata": {},
   "source": [
    "# 5. k-means clustering (# of clusters = 4, class label은 모른다고 가정)"
   ]
  },
  {
   "cell_type": "code",
   "execution_count": 677,
   "metadata": {
    "collapsed": false
   },
   "outputs": [],
   "source": [
    "import numpy as np\n",
    "import pylab as pl\n",
    "from sklearn.cluster import KMeans"
   ]
  },
  {
   "cell_type": "code",
   "execution_count": 678,
   "metadata": {
    "collapsed": true
   },
   "outputs": [],
   "source": [
    "XT=X.T"
   ]
  },
  {
   "cell_type": "code",
   "execution_count": 745,
   "metadata": {
    "collapsed": false
   },
   "outputs": [
    {
     "data": {
      "text/plain": [
       "4"
      ]
     },
     "execution_count": 745,
     "metadata": {},
     "output_type": "execute_result"
    }
   ],
   "source": [
    "numTerms=4\n",
    "numTerms"
   ]
  },
  {
   "cell_type": "code",
   "execution_count": 746,
   "metadata": {
    "collapsed": false
   },
   "outputs": [
    {
     "data": {
      "text/plain": [
       "192"
      ]
     },
     "execution_count": 746,
     "metadata": {},
     "output_type": "execute_result"
    }
   ],
   "source": [
    "NDocs=192\n",
    "NDocs"
   ]
  },
  {
   "cell_type": "code",
   "execution_count": 747,
   "metadata": {
    "collapsed": false
   },
   "outputs": [
    {
     "data": {
      "text/plain": [
       "array([[8, 8, 8, 8, 8, 8, 8, 8, 8, 8, 8, 8, 8, 8, 8, 8, 8, 8, 8, 8, 8, 8,\n",
       "        8, 8, 8, 8, 8, 8, 8, 8, 8, 8, 8, 8, 8, 8, 8, 8, 8, 8, 8, 8, 8, 8,\n",
       "        8, 8, 8, 8, 8, 8, 8, 8, 8, 8, 8, 8, 8, 8, 8, 8, 8, 8, 8, 8, 8, 8,\n",
       "        8, 8, 8, 8, 8, 8, 8, 8, 8, 8, 8, 8, 8, 8, 8, 8, 8, 8, 8, 8, 8, 8,\n",
       "        8, 8, 8, 8, 8, 8, 8, 8, 8, 8, 8, 8, 8, 8, 8, 8, 8, 8, 8, 8, 8, 8,\n",
       "        8, 8, 8, 8, 8, 8, 8, 8, 8, 8, 8, 8, 8, 8, 8, 8, 8, 8, 8, 7, 8, 8,\n",
       "        8, 8, 8, 8, 8, 8, 8, 8, 8, 8, 8, 8, 8, 8, 8, 8, 8, 8, 8, 8, 8, 8,\n",
       "        8, 8, 8, 8, 8, 8, 8, 8, 8, 8, 8, 8, 8, 8, 8, 8, 8, 8, 8, 8, 8, 8,\n",
       "        8, 8, 8, 8, 8, 8, 8, 8, 8, 8, 8, 8, 8, 8, 8, 8]], dtype=int64)"
      ]
     },
     "execution_count": 747,
     "metadata": {},
     "output_type": "execute_result"
    }
   ],
   "source": [
    "DF = np.array([(XT!=0).sum(0)])\n",
    "DF"
   ]
  },
  {
   "cell_type": "code",
   "execution_count": 748,
   "metadata": {
    "collapsed": false
   },
   "outputs": [
    {
     "data": {
      "text/plain": [
       "array([[ 192.,  192.,  192., ...,  192.,  192.,  192.],\n",
       "       [ 192.,  192.,  192., ...,  192.,  192.,  192.],\n",
       "       [ 192.,  192.,  192., ...,  192.,  192.,  192.],\n",
       "       ..., \n",
       "       [ 192.,  192.,  192., ...,  192.,  192.,  192.],\n",
       "       [ 192.,  192.,  192., ...,  192.,  192.,  192.],\n",
       "       [ 192.,  192.,  192., ...,  192.,  192.,  192.]])"
      ]
     },
     "execution_count": 748,
     "metadata": {},
     "output_type": "execute_result"
    }
   ],
   "source": [
    "NMatrix=np.ones(np.shape(XT), dtype=float)*NDocs\n",
    "NMatrix"
   ]
  },
  {
   "cell_type": "code",
   "execution_count": 749,
   "metadata": {
    "collapsed": false
   },
   "outputs": [
    {
     "data": {
      "text/plain": [
       "array([[ 4.58,  4.58,  4.58, ...,  4.58,  4.58,  4.58],\n",
       "       [ 4.58,  4.58,  4.58, ...,  4.58,  4.58,  4.58],\n",
       "       [ 4.58,  4.58,  4.58, ...,  4.58,  4.58,  4.58],\n",
       "       ..., \n",
       "       [ 4.58,  4.58,  4.58, ...,  4.58,  4.58,  4.58],\n",
       "       [ 4.58,  4.58,  4.58, ...,  4.58,  4.58,  4.58],\n",
       "       [ 4.58,  4.58,  4.58, ...,  4.58,  4.58,  4.58]])"
      ]
     },
     "execution_count": 749,
     "metadata": {},
     "output_type": "execute_result"
    }
   ],
   "source": [
    "IDF=np.log2(np.divide(NMatrix,DF))\n",
    "IDF"
   ]
  },
  {
   "cell_type": "code",
   "execution_count": 750,
   "metadata": {
    "collapsed": false
   },
   "outputs": [],
   "source": [
    "np.set_printoptions(precision=2,suppress=True)"
   ]
  },
  {
   "cell_type": "code",
   "execution_count": 751,
   "metadata": {
    "collapsed": false
   },
   "outputs": [
    {
     "data": {
      "text/plain": [
       "array([[ 4.58,  4.58,  4.58,  4.58,  4.58,  4.58,  4.58,  4.58,  4.58,\n",
       "         4.58,  4.58,  4.58,  4.58,  4.58,  4.58,  4.58,  4.58,  4.58,\n",
       "         4.58,  4.58,  4.58,  4.58,  4.58,  4.58,  4.58,  4.58,  4.58,\n",
       "         4.58,  4.58,  4.58,  4.58,  4.58,  4.58,  4.58,  4.58,  4.58,\n",
       "         4.58,  4.58,  4.58,  4.58,  4.58,  4.58,  4.58,  4.58,  4.58,\n",
       "         4.58,  4.58,  4.58,  4.58,  4.58,  4.58,  4.58,  4.58,  4.58,\n",
       "         4.58,  4.58,  4.58,  4.58,  4.58,  4.58,  4.58,  4.58,  4.58,\n",
       "         4.58,  4.58,  4.58,  4.58,  4.58,  4.58,  4.58,  4.58,  4.58,\n",
       "         4.58,  4.58,  4.58,  4.58,  4.58,  4.58,  4.58,  4.58,  4.58,\n",
       "         4.58,  4.58,  4.58,  4.58,  4.58,  4.58,  4.58,  4.58,  4.58,\n",
       "         4.58,  4.58,  4.58,  4.58,  4.58,  4.58,  4.58,  4.58,  4.58,\n",
       "         4.58,  4.58,  4.58,  4.58,  4.58,  4.58,  4.58,  4.58,  4.58,\n",
       "         4.58,  4.58,  4.58,  4.58,  4.58,  4.58,  4.58,  4.58,  4.58,\n",
       "         4.58,  4.58,  4.58,  4.58,  4.58,  4.58,  4.58,  4.58,  4.58,\n",
       "         4.58,  4.58,  4.58,  4.78,  4.58,  4.58,  4.58,  4.58,  4.58,\n",
       "         4.58,  4.58,  4.58,  4.58,  4.58,  4.58,  4.58,  4.58,  4.58,\n",
       "         4.58,  4.58,  4.58,  4.58,  4.58,  4.58,  4.58,  4.58,  4.58,\n",
       "         4.58,  4.58,  4.58,  4.58,  4.58,  4.58,  4.58,  4.58,  4.58,\n",
       "         4.58,  4.58,  4.58,  4.58,  4.58,  4.58,  4.58,  4.58,  4.58,\n",
       "         4.58,  4.58,  4.58,  4.58,  4.58,  4.58,  4.58,  4.58,  4.58,\n",
       "         4.58,  4.58,  4.58,  4.58,  4.58,  4.58,  4.58,  4.58,  4.58,\n",
       "         4.58,  4.58,  4.58],\n",
       "       [ 4.58,  4.58,  4.58,  4.58,  4.58,  4.58,  4.58,  4.58,  4.58,\n",
       "         4.58,  4.58,  4.58,  4.58,  4.58,  4.58,  4.58,  4.58,  4.58,\n",
       "         4.58,  4.58,  4.58,  4.58,  4.58,  4.58,  4.58,  4.58,  4.58,\n",
       "         4.58,  4.58,  4.58,  4.58,  4.58,  4.58,  4.58,  4.58,  4.58,\n",
       "         4.58,  4.58,  4.58,  4.58,  4.58,  4.58,  4.58,  4.58,  4.58,\n",
       "         4.58,  4.58,  4.58,  4.58,  4.58,  4.58,  4.58,  4.58,  4.58,\n",
       "         4.58,  4.58,  4.58,  4.58,  4.58,  4.58,  4.58,  4.58,  4.58,\n",
       "         4.58,  4.58,  4.58,  4.58,  4.58,  4.58,  4.58,  4.58,  4.58,\n",
       "         4.58,  4.58,  4.58,  4.58,  4.58,  4.58,  4.58,  4.58,  4.58,\n",
       "         4.58,  4.58,  4.58,  4.58,  4.58,  4.58,  4.58,  4.58,  4.58,\n",
       "         4.58,  4.58,  4.58,  4.58,  4.58,  4.58,  4.58,  4.58,  4.58,\n",
       "         4.58,  4.58,  4.58,  4.58,  4.58,  4.58,  4.58,  4.58,  4.58,\n",
       "         4.58,  4.58,  4.58,  4.58,  4.58,  4.58,  4.58,  4.58,  4.58,\n",
       "         4.58,  4.58,  4.58,  4.58,  4.58,  4.58,  4.58,  4.58,  4.58,\n",
       "         4.58,  4.58,  4.58,  4.78,  4.58,  4.58,  4.58,  4.58,  4.58,\n",
       "         4.58,  4.58,  4.58,  4.58,  4.58,  4.58,  4.58,  4.58,  4.58,\n",
       "         4.58,  4.58,  4.58,  4.58,  4.58,  4.58,  4.58,  4.58,  4.58,\n",
       "         4.58,  4.58,  4.58,  4.58,  4.58,  4.58,  4.58,  4.58,  4.58,\n",
       "         4.58,  4.58,  4.58,  4.58,  4.58,  4.58,  4.58,  4.58,  4.58,\n",
       "         4.58,  4.58,  4.58,  4.58,  4.58,  4.58,  4.58,  4.58,  4.58,\n",
       "         4.58,  4.58,  4.58,  4.58,  4.58,  4.58,  4.58,  4.58,  4.58,\n",
       "         4.58,  4.58,  4.58]])"
      ]
     },
     "execution_count": 751,
     "metadata": {},
     "output_type": "execute_result"
    }
   ],
   "source": [
    "IDF[0:2,]"
   ]
  },
  {
   "cell_type": "code",
   "execution_count": 752,
   "metadata": {
    "collapsed": true
   },
   "outputs": [],
   "source": [
    "XT_tfidf=XT*IDF"
   ]
  },
  {
   "cell_type": "code",
   "execution_count": 753,
   "metadata": {
    "collapsed": false
   },
   "outputs": [
    {
     "data": {
      "text/html": [
       "<div>\n",
       "<table border=\"1\" class=\"dataframe\">\n",
       "  <thead>\n",
       "    <tr style=\"text-align: right;\">\n",
       "      <th></th>\n",
       "      <th>0</th>\n",
       "      <th>1</th>\n",
       "      <th>2</th>\n",
       "      <th>3</th>\n",
       "      <th>4</th>\n",
       "      <th>5</th>\n",
       "      <th>6</th>\n",
       "      <th>7</th>\n",
       "      <th>8</th>\n",
       "      <th>9</th>\n",
       "      <th>...</th>\n",
       "      <th>182</th>\n",
       "      <th>183</th>\n",
       "      <th>184</th>\n",
       "      <th>185</th>\n",
       "      <th>186</th>\n",
       "      <th>187</th>\n",
       "      <th>188</th>\n",
       "      <th>189</th>\n",
       "      <th>190</th>\n",
       "      <th>191</th>\n",
       "    </tr>\n",
       "  </thead>\n",
       "  <tbody>\n",
       "    <tr>\n",
       "      <th>A</th>\n",
       "      <td>50.434588</td>\n",
       "      <td>41.264663</td>\n",
       "      <td>32.094738</td>\n",
       "      <td>27.509775</td>\n",
       "      <td>45.849625</td>\n",
       "      <td>13.754888</td>\n",
       "      <td>27.509775</td>\n",
       "      <td>22.924813</td>\n",
       "      <td>22.924813</td>\n",
       "      <td>45.849625</td>\n",
       "      <td>...</td>\n",
       "      <td>50.434588</td>\n",
       "      <td>45.849625</td>\n",
       "      <td>36.679700</td>\n",
       "      <td>27.509775</td>\n",
       "      <td>41.264663</td>\n",
       "      <td>45.849625</td>\n",
       "      <td>41.264663</td>\n",
       "      <td>45.849625</td>\n",
       "      <td>50.434588</td>\n",
       "      <td>36.679700</td>\n",
       "    </tr>\n",
       "    <tr>\n",
       "      <th>B</th>\n",
       "      <td>50.434588</td>\n",
       "      <td>27.509775</td>\n",
       "      <td>32.094738</td>\n",
       "      <td>55.019550</td>\n",
       "      <td>55.019550</td>\n",
       "      <td>50.434588</td>\n",
       "      <td>27.509775</td>\n",
       "      <td>27.509775</td>\n",
       "      <td>27.509775</td>\n",
       "      <td>55.019550</td>\n",
       "      <td>...</td>\n",
       "      <td>36.679700</td>\n",
       "      <td>45.849625</td>\n",
       "      <td>18.339850</td>\n",
       "      <td>22.924813</td>\n",
       "      <td>50.434588</td>\n",
       "      <td>41.264663</td>\n",
       "      <td>45.849625</td>\n",
       "      <td>22.924813</td>\n",
       "      <td>32.094738</td>\n",
       "      <td>32.094738</td>\n",
       "    </tr>\n",
       "    <tr>\n",
       "      <th>C</th>\n",
       "      <td>22.924813</td>\n",
       "      <td>22.924813</td>\n",
       "      <td>32.094738</td>\n",
       "      <td>59.604513</td>\n",
       "      <td>50.434588</td>\n",
       "      <td>13.754888</td>\n",
       "      <td>27.509775</td>\n",
       "      <td>50.434588</td>\n",
       "      <td>50.434588</td>\n",
       "      <td>55.019550</td>\n",
       "      <td>...</td>\n",
       "      <td>22.924813</td>\n",
       "      <td>27.509775</td>\n",
       "      <td>27.509775</td>\n",
       "      <td>27.509775</td>\n",
       "      <td>50.434588</td>\n",
       "      <td>45.849625</td>\n",
       "      <td>50.434588</td>\n",
       "      <td>36.679700</td>\n",
       "      <td>18.339850</td>\n",
       "      <td>45.849625</td>\n",
       "    </tr>\n",
       "    <tr>\n",
       "      <th>D</th>\n",
       "      <td>27.509775</td>\n",
       "      <td>27.509775</td>\n",
       "      <td>27.509775</td>\n",
       "      <td>22.924813</td>\n",
       "      <td>18.339850</td>\n",
       "      <td>18.339850</td>\n",
       "      <td>27.509775</td>\n",
       "      <td>22.924813</td>\n",
       "      <td>32.094738</td>\n",
       "      <td>18.339850</td>\n",
       "      <td>...</td>\n",
       "      <td>18.339850</td>\n",
       "      <td>36.679700</td>\n",
       "      <td>18.339850</td>\n",
       "      <td>32.094738</td>\n",
       "      <td>36.679700</td>\n",
       "      <td>36.679700</td>\n",
       "      <td>32.094738</td>\n",
       "      <td>13.754888</td>\n",
       "      <td>22.924813</td>\n",
       "      <td>32.094738</td>\n",
       "    </tr>\n",
       "    <tr>\n",
       "      <th>E</th>\n",
       "      <td>45.849625</td>\n",
       "      <td>41.264663</td>\n",
       "      <td>36.679700</td>\n",
       "      <td>36.679700</td>\n",
       "      <td>41.264663</td>\n",
       "      <td>45.849625</td>\n",
       "      <td>45.849625</td>\n",
       "      <td>45.849625</td>\n",
       "      <td>45.849625</td>\n",
       "      <td>41.264663</td>\n",
       "      <td>...</td>\n",
       "      <td>45.849625</td>\n",
       "      <td>45.849625</td>\n",
       "      <td>36.679700</td>\n",
       "      <td>41.264663</td>\n",
       "      <td>45.849625</td>\n",
       "      <td>45.849625</td>\n",
       "      <td>41.264663</td>\n",
       "      <td>41.264663</td>\n",
       "      <td>50.434588</td>\n",
       "      <td>45.849625</td>\n",
       "    </tr>\n",
       "    <tr>\n",
       "      <th>F</th>\n",
       "      <td>45.849625</td>\n",
       "      <td>45.849625</td>\n",
       "      <td>50.434588</td>\n",
       "      <td>55.019550</td>\n",
       "      <td>50.434588</td>\n",
       "      <td>50.434588</td>\n",
       "      <td>45.849625</td>\n",
       "      <td>50.434588</td>\n",
       "      <td>50.434588</td>\n",
       "      <td>55.019550</td>\n",
       "      <td>...</td>\n",
       "      <td>36.679700</td>\n",
       "      <td>45.849625</td>\n",
       "      <td>41.264663</td>\n",
       "      <td>45.849625</td>\n",
       "      <td>50.434588</td>\n",
       "      <td>45.849625</td>\n",
       "      <td>50.434588</td>\n",
       "      <td>41.264663</td>\n",
       "      <td>41.264663</td>\n",
       "      <td>41.264663</td>\n",
       "    </tr>\n",
       "    <tr>\n",
       "      <th>G</th>\n",
       "      <td>22.924813</td>\n",
       "      <td>22.924813</td>\n",
       "      <td>27.509775</td>\n",
       "      <td>22.924813</td>\n",
       "      <td>9.169925</td>\n",
       "      <td>13.754888</td>\n",
       "      <td>22.924813</td>\n",
       "      <td>18.339850</td>\n",
       "      <td>18.339850</td>\n",
       "      <td>4.584963</td>\n",
       "      <td>...</td>\n",
       "      <td>9.169925</td>\n",
       "      <td>22.924813</td>\n",
       "      <td>32.094738</td>\n",
       "      <td>36.679700</td>\n",
       "      <td>18.339850</td>\n",
       "      <td>18.339850</td>\n",
       "      <td>9.169925</td>\n",
       "      <td>22.924813</td>\n",
       "      <td>18.339850</td>\n",
       "      <td>36.679700</td>\n",
       "    </tr>\n",
       "    <tr>\n",
       "      <th>H</th>\n",
       "      <td>22.924813</td>\n",
       "      <td>27.509775</td>\n",
       "      <td>22.924813</td>\n",
       "      <td>27.509775</td>\n",
       "      <td>18.339850</td>\n",
       "      <td>9.169925</td>\n",
       "      <td>22.924813</td>\n",
       "      <td>18.339850</td>\n",
       "      <td>22.924813</td>\n",
       "      <td>13.754888</td>\n",
       "      <td>...</td>\n",
       "      <td>27.509775</td>\n",
       "      <td>13.754888</td>\n",
       "      <td>45.849625</td>\n",
       "      <td>27.509775</td>\n",
       "      <td>13.754888</td>\n",
       "      <td>32.094738</td>\n",
       "      <td>32.094738</td>\n",
       "      <td>41.264663</td>\n",
       "      <td>32.094738</td>\n",
       "      <td>36.679700</td>\n",
       "    </tr>\n",
       "  </tbody>\n",
       "</table>\n",
       "<p>8 rows × 192 columns</p>\n",
       "</div>"
      ],
      "text/plain": [
       "         0          1          2          3          4          5    \\\n",
       "A  50.434588  41.264663  32.094738  27.509775  45.849625  13.754888   \n",
       "B  50.434588  27.509775  32.094738  55.019550  55.019550  50.434588   \n",
       "C  22.924813  22.924813  32.094738  59.604513  50.434588  13.754888   \n",
       "D  27.509775  27.509775  27.509775  22.924813  18.339850  18.339850   \n",
       "E  45.849625  41.264663  36.679700  36.679700  41.264663  45.849625   \n",
       "F  45.849625  45.849625  50.434588  55.019550  50.434588  50.434588   \n",
       "G  22.924813  22.924813  27.509775  22.924813   9.169925  13.754888   \n",
       "H  22.924813  27.509775  22.924813  27.509775  18.339850   9.169925   \n",
       "\n",
       "         6          7          8          9      ...            182  \\\n",
       "A  27.509775  22.924813  22.924813  45.849625    ...      50.434588   \n",
       "B  27.509775  27.509775  27.509775  55.019550    ...      36.679700   \n",
       "C  27.509775  50.434588  50.434588  55.019550    ...      22.924813   \n",
       "D  27.509775  22.924813  32.094738  18.339850    ...      18.339850   \n",
       "E  45.849625  45.849625  45.849625  41.264663    ...      45.849625   \n",
       "F  45.849625  50.434588  50.434588  55.019550    ...      36.679700   \n",
       "G  22.924813  18.339850  18.339850   4.584963    ...       9.169925   \n",
       "H  22.924813  18.339850  22.924813  13.754888    ...      27.509775   \n",
       "\n",
       "         183        184        185        186        187        188  \\\n",
       "A  45.849625  36.679700  27.509775  41.264663  45.849625  41.264663   \n",
       "B  45.849625  18.339850  22.924813  50.434588  41.264663  45.849625   \n",
       "C  27.509775  27.509775  27.509775  50.434588  45.849625  50.434588   \n",
       "D  36.679700  18.339850  32.094738  36.679700  36.679700  32.094738   \n",
       "E  45.849625  36.679700  41.264663  45.849625  45.849625  41.264663   \n",
       "F  45.849625  41.264663  45.849625  50.434588  45.849625  50.434588   \n",
       "G  22.924813  32.094738  36.679700  18.339850  18.339850   9.169925   \n",
       "H  13.754888  45.849625  27.509775  13.754888  32.094738  32.094738   \n",
       "\n",
       "         189        190        191  \n",
       "A  45.849625  50.434588  36.679700  \n",
       "B  22.924813  32.094738  32.094738  \n",
       "C  36.679700  18.339850  45.849625  \n",
       "D  13.754888  22.924813  32.094738  \n",
       "E  41.264663  50.434588  45.849625  \n",
       "F  41.264663  41.264663  41.264663  \n",
       "G  22.924813  18.339850  36.679700  \n",
       "H  41.264663  32.094738  36.679700  \n",
       "\n",
       "[8 rows x 192 columns]"
      ]
     },
     "execution_count": 753,
     "metadata": {},
     "output_type": "execute_result"
    }
   ],
   "source": [
    "XT_tfidf"
   ]
  },
  {
   "cell_type": "code",
   "execution_count": 796,
   "metadata": {
    "collapsed": false
   },
   "outputs": [],
   "source": [
    "centroids_tfidf=KMeans(4,2,XT_tfidf)"
   ]
  },
  {
   "cell_type": "code",
   "execution_count": 797,
   "metadata": {
    "collapsed": false
   },
   "outputs": [
    {
     "data": {
      "text/plain": [
       "KMeans(copy_x=True, init=2, max_iter=300, n_clusters=4,\n",
       "    n_init=         0          1          2          3          4          5    \\\n",
       "A  50.434588  41.264663  32.094738  27.509775  45.849625  13.754888\n",
       "B  50.434588  27.509775  32.094738  55.019550  55.019550  50.434588\n",
       "C  22.924813  22.924813  32.094738  59.604513  50.434588  13.754888\n",
       "D  27.509...\n",
       "G  22.924813  18.339850  36.679700\n",
       "H  41.264663  32.094738  36.679700\n",
       "\n",
       "[8 rows x 192 columns],\n",
       "    n_jobs=1, precompute_distances='auto', random_state=None, tol=0.0001,\n",
       "    verbose=0)"
      ]
     },
     "execution_count": 797,
     "metadata": {},
     "output_type": "execute_result"
    }
   ],
   "source": [
    "centroids_tfidf"
   ]
  },
  {
   "cell_type": "markdown",
   "metadata": {},
   "source": [
    "#KMeans는 파이선에서 2차원일때는 plot형태로 출력이 가능한데 제시해주신 IMOX데이터같이 배열이 3차원이상일 때는 제공이 안되어 있는 듯 합니다.\n",
    "\n",
    "# 한학기동안 패턴인식에 대해 알려주셔서 감사합니다. 이번 수업을 통해 전공과정에 많은 도움이 되었습니다.\n"
   ]
  },
  {
   "cell_type": "code",
   "execution_count": null,
   "metadata": {
    "collapsed": true
   },
   "outputs": [],
   "source": []
  }
 ],
 "metadata": {
  "kernelspec": {
   "display_name": "Python 2",
   "language": "python",
   "name": "python2"
  },
  "language_info": {
   "codemirror_mode": {
    "name": "ipython",
    "version": 2
   },
   "file_extension": ".py",
   "mimetype": "text/x-python",
   "name": "python",
   "nbconvert_exporter": "python",
   "pygments_lexer": "ipython2",
   "version": "2.7.9"
  }
 },
 "nbformat": 4,
 "nbformat_minor": 0
}
