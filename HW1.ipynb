{
 "cells": [
  {
   "cell_type": "code",
   "execution_count": 1,
   "metadata": {
    "collapsed": true
   },
   "outputs": [],
   "source": [
    "import pandas as pd"
   ]
  },
  {
   "cell_type": "code",
   "execution_count": 2,
   "metadata": {
    "collapsed": true
   },
   "outputs": [],
   "source": [
    "import numpy as np"
   ]
  },
  {
   "cell_type": "code",
   "execution_count": 175,
   "metadata": {
    "collapsed": true
   },
   "outputs": [],
   "source": [
    "import matplotlib.pyplot as plt"
   ]
  },
  {
   "cell_type": "code",
   "execution_count": 176,
   "metadata": {
    "collapsed": true
   },
   "outputs": [],
   "source": [
    "%matplotlib inline"
   ]
  },
  {
   "cell_type": "code",
   "execution_count": 4,
   "metadata": {
    "collapsed": true
   },
   "outputs": [],
   "source": [
    "s = pd.Series([1,3,5,np.nan,6,8])"
   ]
  },
  {
   "cell_type": "code",
   "execution_count": 5,
   "metadata": {
    "collapsed": false
   },
   "outputs": [
    {
     "data": {
      "text/plain": [
       "0     1\n",
       "1     3\n",
       "2     5\n",
       "3   NaN\n",
       "4     6\n",
       "5     8\n",
       "dtype: float64"
      ]
     },
     "execution_count": 5,
     "metadata": {},
     "output_type": "execute_result"
    }
   ],
   "source": [
    "s"
   ]
  },
  {
   "cell_type": "code",
   "execution_count": 6,
   "metadata": {
    "collapsed": true
   },
   "outputs": [],
   "source": [
    "dates = pd.date_range('20150915',periods=10)"
   ]
  },
  {
   "cell_type": "code",
   "execution_count": 7,
   "metadata": {
    "collapsed": false
   },
   "outputs": [
    {
     "data": {
      "text/plain": [
       "DatetimeIndex(['2015-09-15', '2015-09-16', '2015-09-17', '2015-09-18',\n",
       "               '2015-09-19', '2015-09-20', '2015-09-21', '2015-09-22',\n",
       "               '2015-09-23', '2015-09-24'],\n",
       "              dtype='datetime64[ns]', freq='D', tz=None)"
      ]
     },
     "execution_count": 7,
     "metadata": {},
     "output_type": "execute_result"
    }
   ],
   "source": [
    "dates"
   ]
  },
  {
   "cell_type": "code",
   "execution_count": 11,
   "metadata": {
    "collapsed": false
   },
   "outputs": [],
   "source": [
    "df = pd.DataFrame(np.random.randn(10,4), index=dates, columns=list('ABCD'))"
   ]
  },
  {
   "cell_type": "code",
   "execution_count": 12,
   "metadata": {
    "collapsed": false
   },
   "outputs": [
    {
     "data": {
      "text/html": [
       "<div>\n",
       "<table border=\"1\" class=\"dataframe\">\n",
       "  <thead>\n",
       "    <tr style=\"text-align: right;\">\n",
       "      <th></th>\n",
       "      <th>A</th>\n",
       "      <th>B</th>\n",
       "      <th>C</th>\n",
       "      <th>D</th>\n",
       "    </tr>\n",
       "  </thead>\n",
       "  <tbody>\n",
       "    <tr>\n",
       "      <th>2015-09-15</th>\n",
       "      <td>0.978342</td>\n",
       "      <td>0.538462</td>\n",
       "      <td>-1.976928</td>\n",
       "      <td>-0.215955</td>\n",
       "    </tr>\n",
       "    <tr>\n",
       "      <th>2015-09-16</th>\n",
       "      <td>0.502520</td>\n",
       "      <td>0.833375</td>\n",
       "      <td>0.775373</td>\n",
       "      <td>0.993189</td>\n",
       "    </tr>\n",
       "    <tr>\n",
       "      <th>2015-09-17</th>\n",
       "      <td>-0.488121</td>\n",
       "      <td>-1.244543</td>\n",
       "      <td>-1.347901</td>\n",
       "      <td>-0.102607</td>\n",
       "    </tr>\n",
       "    <tr>\n",
       "      <th>2015-09-18</th>\n",
       "      <td>-2.566650</td>\n",
       "      <td>0.088668</td>\n",
       "      <td>-0.088799</td>\n",
       "      <td>0.409949</td>\n",
       "    </tr>\n",
       "    <tr>\n",
       "      <th>2015-09-19</th>\n",
       "      <td>-0.646067</td>\n",
       "      <td>1.689754</td>\n",
       "      <td>0.129599</td>\n",
       "      <td>1.096991</td>\n",
       "    </tr>\n",
       "    <tr>\n",
       "      <th>2015-09-20</th>\n",
       "      <td>-0.853170</td>\n",
       "      <td>-0.637011</td>\n",
       "      <td>-0.539486</td>\n",
       "      <td>0.263781</td>\n",
       "    </tr>\n",
       "    <tr>\n",
       "      <th>2015-09-21</th>\n",
       "      <td>1.995413</td>\n",
       "      <td>-0.012649</td>\n",
       "      <td>2.190934</td>\n",
       "      <td>-1.273995</td>\n",
       "    </tr>\n",
       "    <tr>\n",
       "      <th>2015-09-22</th>\n",
       "      <td>-0.541776</td>\n",
       "      <td>0.776698</td>\n",
       "      <td>-0.378726</td>\n",
       "      <td>0.092769</td>\n",
       "    </tr>\n",
       "    <tr>\n",
       "      <th>2015-09-23</th>\n",
       "      <td>-1.041268</td>\n",
       "      <td>1.651450</td>\n",
       "      <td>0.105150</td>\n",
       "      <td>-1.069022</td>\n",
       "    </tr>\n",
       "    <tr>\n",
       "      <th>2015-09-24</th>\n",
       "      <td>1.083647</td>\n",
       "      <td>0.943969</td>\n",
       "      <td>-0.069197</td>\n",
       "      <td>-0.627887</td>\n",
       "    </tr>\n",
       "  </tbody>\n",
       "</table>\n",
       "</div>"
      ],
      "text/plain": [
       "                   A         B         C         D\n",
       "2015-09-15  0.978342  0.538462 -1.976928 -0.215955\n",
       "2015-09-16  0.502520  0.833375  0.775373  0.993189\n",
       "2015-09-17 -0.488121 -1.244543 -1.347901 -0.102607\n",
       "2015-09-18 -2.566650  0.088668 -0.088799  0.409949\n",
       "2015-09-19 -0.646067  1.689754  0.129599  1.096991\n",
       "2015-09-20 -0.853170 -0.637011 -0.539486  0.263781\n",
       "2015-09-21  1.995413 -0.012649  2.190934 -1.273995\n",
       "2015-09-22 -0.541776  0.776698 -0.378726  0.092769\n",
       "2015-09-23 -1.041268  1.651450  0.105150 -1.069022\n",
       "2015-09-24  1.083647  0.943969 -0.069197 -0.627887"
      ]
     },
     "execution_count": 12,
     "metadata": {},
     "output_type": "execute_result"
    }
   ],
   "source": [
    "df"
   ]
  },
  {
   "cell_type": "code",
   "execution_count": 13,
   "metadata": {
    "collapsed": true
   },
   "outputs": [],
   "source": [
    "df2 = pd.DataFrame({'A' : 1.,\n",
    "                    'B' : pd.Timestamp('20150515'),\n",
    "                    'C' : pd.Series(1, index=list(range(4)),dtype='float32'),\n",
    "                    'D' : np.array([3] * 4, dtype='int32'),\n",
    "                    'E' : pd.Categorical([\"test\", \"traing\", \"test\", \"train\"]),\n",
    "                    'F' : 'foo'})"
   ]
  },
  {
   "cell_type": "code",
   "execution_count": 14,
   "metadata": {
    "collapsed": false
   },
   "outputs": [
    {
     "data": {
      "text/html": [
       "<div>\n",
       "<table border=\"1\" class=\"dataframe\">\n",
       "  <thead>\n",
       "    <tr style=\"text-align: right;\">\n",
       "      <th></th>\n",
       "      <th>A</th>\n",
       "      <th>B</th>\n",
       "      <th>C</th>\n",
       "      <th>D</th>\n",
       "      <th>E</th>\n",
       "      <th>F</th>\n",
       "    </tr>\n",
       "  </thead>\n",
       "  <tbody>\n",
       "    <tr>\n",
       "      <th>0</th>\n",
       "      <td>1</td>\n",
       "      <td>2015-05-15</td>\n",
       "      <td>1</td>\n",
       "      <td>3</td>\n",
       "      <td>test</td>\n",
       "      <td>foo</td>\n",
       "    </tr>\n",
       "    <tr>\n",
       "      <th>1</th>\n",
       "      <td>1</td>\n",
       "      <td>2015-05-15</td>\n",
       "      <td>1</td>\n",
       "      <td>3</td>\n",
       "      <td>traing</td>\n",
       "      <td>foo</td>\n",
       "    </tr>\n",
       "    <tr>\n",
       "      <th>2</th>\n",
       "      <td>1</td>\n",
       "      <td>2015-05-15</td>\n",
       "      <td>1</td>\n",
       "      <td>3</td>\n",
       "      <td>test</td>\n",
       "      <td>foo</td>\n",
       "    </tr>\n",
       "    <tr>\n",
       "      <th>3</th>\n",
       "      <td>1</td>\n",
       "      <td>2015-05-15</td>\n",
       "      <td>1</td>\n",
       "      <td>3</td>\n",
       "      <td>train</td>\n",
       "      <td>foo</td>\n",
       "    </tr>\n",
       "  </tbody>\n",
       "</table>\n",
       "</div>"
      ],
      "text/plain": [
       "   A          B  C  D       E    F\n",
       "0  1 2015-05-15  1  3    test  foo\n",
       "1  1 2015-05-15  1  3  traing  foo\n",
       "2  1 2015-05-15  1  3    test  foo\n",
       "3  1 2015-05-15  1  3   train  foo"
      ]
     },
     "execution_count": 14,
     "metadata": {},
     "output_type": "execute_result"
    }
   ],
   "source": [
    "df2"
   ]
  },
  {
   "cell_type": "code",
   "execution_count": 15,
   "metadata": {
    "collapsed": false
   },
   "outputs": [
    {
     "data": {
      "text/plain": [
       "A           float64\n",
       "B    datetime64[ns]\n",
       "C           float32\n",
       "D             int32\n",
       "E          category\n",
       "F            object\n",
       "dtype: object"
      ]
     },
     "execution_count": 15,
     "metadata": {},
     "output_type": "execute_result"
    }
   ],
   "source": [
    "df2.dtypes"
   ]
  },
  {
   "cell_type": "code",
   "execution_count": 16,
   "metadata": {
    "collapsed": false
   },
   "outputs": [
    {
     "data": {
      "text/html": [
       "<div>\n",
       "<table border=\"1\" class=\"dataframe\">\n",
       "  <thead>\n",
       "    <tr style=\"text-align: right;\">\n",
       "      <th></th>\n",
       "      <th>A</th>\n",
       "      <th>B</th>\n",
       "      <th>C</th>\n",
       "      <th>D</th>\n",
       "    </tr>\n",
       "  </thead>\n",
       "  <tbody>\n",
       "    <tr>\n",
       "      <th>2015-09-15</th>\n",
       "      <td>0.978342</td>\n",
       "      <td>0.538462</td>\n",
       "      <td>-1.976928</td>\n",
       "      <td>-0.215955</td>\n",
       "    </tr>\n",
       "    <tr>\n",
       "      <th>2015-09-16</th>\n",
       "      <td>0.502520</td>\n",
       "      <td>0.833375</td>\n",
       "      <td>0.775373</td>\n",
       "      <td>0.993189</td>\n",
       "    </tr>\n",
       "    <tr>\n",
       "      <th>2015-09-17</th>\n",
       "      <td>-0.488121</td>\n",
       "      <td>-1.244543</td>\n",
       "      <td>-1.347901</td>\n",
       "      <td>-0.102607</td>\n",
       "    </tr>\n",
       "    <tr>\n",
       "      <th>2015-09-18</th>\n",
       "      <td>-2.566650</td>\n",
       "      <td>0.088668</td>\n",
       "      <td>-0.088799</td>\n",
       "      <td>0.409949</td>\n",
       "    </tr>\n",
       "    <tr>\n",
       "      <th>2015-09-19</th>\n",
       "      <td>-0.646067</td>\n",
       "      <td>1.689754</td>\n",
       "      <td>0.129599</td>\n",
       "      <td>1.096991</td>\n",
       "    </tr>\n",
       "  </tbody>\n",
       "</table>\n",
       "</div>"
      ],
      "text/plain": [
       "                   A         B         C         D\n",
       "2015-09-15  0.978342  0.538462 -1.976928 -0.215955\n",
       "2015-09-16  0.502520  0.833375  0.775373  0.993189\n",
       "2015-09-17 -0.488121 -1.244543 -1.347901 -0.102607\n",
       "2015-09-18 -2.566650  0.088668 -0.088799  0.409949\n",
       "2015-09-19 -0.646067  1.689754  0.129599  1.096991"
      ]
     },
     "execution_count": 16,
     "metadata": {},
     "output_type": "execute_result"
    }
   ],
   "source": [
    "df.head()"
   ]
  },
  {
   "cell_type": "code",
   "execution_count": 17,
   "metadata": {
    "collapsed": false
   },
   "outputs": [
    {
     "data": {
      "text/html": [
       "<div>\n",
       "<table border=\"1\" class=\"dataframe\">\n",
       "  <thead>\n",
       "    <tr style=\"text-align: right;\">\n",
       "      <th></th>\n",
       "      <th>A</th>\n",
       "      <th>B</th>\n",
       "      <th>C</th>\n",
       "      <th>D</th>\n",
       "    </tr>\n",
       "  </thead>\n",
       "  <tbody>\n",
       "    <tr>\n",
       "      <th>2015-09-22</th>\n",
       "      <td>-0.541776</td>\n",
       "      <td>0.776698</td>\n",
       "      <td>-0.378726</td>\n",
       "      <td>0.092769</td>\n",
       "    </tr>\n",
       "    <tr>\n",
       "      <th>2015-09-23</th>\n",
       "      <td>-1.041268</td>\n",
       "      <td>1.651450</td>\n",
       "      <td>0.105150</td>\n",
       "      <td>-1.069022</td>\n",
       "    </tr>\n",
       "    <tr>\n",
       "      <th>2015-09-24</th>\n",
       "      <td>1.083647</td>\n",
       "      <td>0.943969</td>\n",
       "      <td>-0.069197</td>\n",
       "      <td>-0.627887</td>\n",
       "    </tr>\n",
       "  </tbody>\n",
       "</table>\n",
       "</div>"
      ],
      "text/plain": [
       "                   A         B         C         D\n",
       "2015-09-22 -0.541776  0.776698 -0.378726  0.092769\n",
       "2015-09-23 -1.041268  1.651450  0.105150 -1.069022\n",
       "2015-09-24  1.083647  0.943969 -0.069197 -0.627887"
      ]
     },
     "execution_count": 17,
     "metadata": {},
     "output_type": "execute_result"
    }
   ],
   "source": [
    "df.tail(3)"
   ]
  },
  {
   "cell_type": "code",
   "execution_count": 18,
   "metadata": {
    "collapsed": false
   },
   "outputs": [
    {
     "data": {
      "text/plain": [
       "DatetimeIndex(['2015-09-15', '2015-09-16', '2015-09-17', '2015-09-18',\n",
       "               '2015-09-19', '2015-09-20', '2015-09-21', '2015-09-22',\n",
       "               '2015-09-23', '2015-09-24'],\n",
       "              dtype='datetime64[ns]', freq='D', tz=None)"
      ]
     },
     "execution_count": 18,
     "metadata": {},
     "output_type": "execute_result"
    }
   ],
   "source": [
    "df.index"
   ]
  },
  {
   "cell_type": "code",
   "execution_count": 19,
   "metadata": {
    "collapsed": false
   },
   "outputs": [
    {
     "data": {
      "text/plain": [
       "Index([u'A', u'B', u'C', u'D'], dtype='object')"
      ]
     },
     "execution_count": 19,
     "metadata": {},
     "output_type": "execute_result"
    }
   ],
   "source": [
    "df.columns"
   ]
  },
  {
   "cell_type": "code",
   "execution_count": 20,
   "metadata": {
    "collapsed": false
   },
   "outputs": [
    {
     "data": {
      "text/plain": [
       "array([[ 0.97834231,  0.53846227, -1.97692829, -0.21595484],\n",
       "       [ 0.50252039,  0.83337523,  0.77537291,  0.99318922],\n",
       "       [-0.48812149, -1.24454301, -1.34790068, -0.10260657],\n",
       "       [-2.5666499 ,  0.08866796, -0.08879907,  0.40994862],\n",
       "       [-0.64606696,  1.68975351,  0.12959932,  1.09699124],\n",
       "       [-0.85317009, -0.63701139, -0.53948576,  0.26378138],\n",
       "       [ 1.9954133 , -0.01264919,  2.19093407, -1.27399507],\n",
       "       [-0.5417759 ,  0.77669759, -0.37872624,  0.09276921],\n",
       "       [-1.04126821,  1.65144951,  0.10514996, -1.06902217],\n",
       "       [ 1.08364712,  0.94396867, -0.06919748, -0.62788657]])"
      ]
     },
     "execution_count": 20,
     "metadata": {},
     "output_type": "execute_result"
    }
   ],
   "source": [
    "df.values"
   ]
  },
  {
   "cell_type": "code",
   "execution_count": 21,
   "metadata": {
    "collapsed": false
   },
   "outputs": [
    {
     "data": {
      "text/html": [
       "<div>\n",
       "<table border=\"1\" class=\"dataframe\">\n",
       "  <thead>\n",
       "    <tr style=\"text-align: right;\">\n",
       "      <th></th>\n",
       "      <th>A</th>\n",
       "      <th>B</th>\n",
       "      <th>C</th>\n",
       "      <th>D</th>\n",
       "    </tr>\n",
       "  </thead>\n",
       "  <tbody>\n",
       "    <tr>\n",
       "      <th>count</th>\n",
       "      <td>10.000000</td>\n",
       "      <td>10.000000</td>\n",
       "      <td>10.000000</td>\n",
       "      <td>10.000000</td>\n",
       "    </tr>\n",
       "    <tr>\n",
       "      <th>mean</th>\n",
       "      <td>-0.157713</td>\n",
       "      <td>0.462817</td>\n",
       "      <td>-0.119998</td>\n",
       "      <td>-0.043279</td>\n",
       "    </tr>\n",
       "    <tr>\n",
       "      <th>std</th>\n",
       "      <td>1.310891</td>\n",
       "      <td>0.935832</td>\n",
       "      <td>1.128297</td>\n",
       "      <td>0.791244</td>\n",
       "    </tr>\n",
       "    <tr>\n",
       "      <th>min</th>\n",
       "      <td>-2.566650</td>\n",
       "      <td>-1.244543</td>\n",
       "      <td>-1.976928</td>\n",
       "      <td>-1.273995</td>\n",
       "    </tr>\n",
       "    <tr>\n",
       "      <th>25%</th>\n",
       "      <td>-0.801394</td>\n",
       "      <td>0.012680</td>\n",
       "      <td>-0.499296</td>\n",
       "      <td>-0.524904</td>\n",
       "    </tr>\n",
       "    <tr>\n",
       "      <th>50%</th>\n",
       "      <td>-0.514949</td>\n",
       "      <td>0.657580</td>\n",
       "      <td>-0.078998</td>\n",
       "      <td>-0.004919</td>\n",
       "    </tr>\n",
       "    <tr>\n",
       "      <th>75%</th>\n",
       "      <td>0.859387</td>\n",
       "      <td>0.916320</td>\n",
       "      <td>0.123487</td>\n",
       "      <td>0.373407</td>\n",
       "    </tr>\n",
       "    <tr>\n",
       "      <th>max</th>\n",
       "      <td>1.995413</td>\n",
       "      <td>1.689754</td>\n",
       "      <td>2.190934</td>\n",
       "      <td>1.096991</td>\n",
       "    </tr>\n",
       "  </tbody>\n",
       "</table>\n",
       "</div>"
      ],
      "text/plain": [
       "               A          B          C          D\n",
       "count  10.000000  10.000000  10.000000  10.000000\n",
       "mean   -0.157713   0.462817  -0.119998  -0.043279\n",
       "std     1.310891   0.935832   1.128297   0.791244\n",
       "min    -2.566650  -1.244543  -1.976928  -1.273995\n",
       "25%    -0.801394   0.012680  -0.499296  -0.524904\n",
       "50%    -0.514949   0.657580  -0.078998  -0.004919\n",
       "75%     0.859387   0.916320   0.123487   0.373407\n",
       "max     1.995413   1.689754   2.190934   1.096991"
      ]
     },
     "execution_count": 21,
     "metadata": {},
     "output_type": "execute_result"
    }
   ],
   "source": [
    "df.describe()"
   ]
  },
  {
   "cell_type": "code",
   "execution_count": 22,
   "metadata": {
    "collapsed": false
   },
   "outputs": [
    {
     "data": {
      "text/html": [
       "<div>\n",
       "<table border=\"1\" class=\"dataframe\">\n",
       "  <thead>\n",
       "    <tr style=\"text-align: right;\">\n",
       "      <th></th>\n",
       "      <th>2015-09-15 00:00:00</th>\n",
       "      <th>2015-09-16 00:00:00</th>\n",
       "      <th>2015-09-17 00:00:00</th>\n",
       "      <th>2015-09-18 00:00:00</th>\n",
       "      <th>2015-09-19 00:00:00</th>\n",
       "      <th>2015-09-20 00:00:00</th>\n",
       "      <th>2015-09-21 00:00:00</th>\n",
       "      <th>2015-09-22 00:00:00</th>\n",
       "      <th>2015-09-23 00:00:00</th>\n",
       "      <th>2015-09-24 00:00:00</th>\n",
       "    </tr>\n",
       "  </thead>\n",
       "  <tbody>\n",
       "    <tr>\n",
       "      <th>A</th>\n",
       "      <td>0.978342</td>\n",
       "      <td>0.502520</td>\n",
       "      <td>-0.488121</td>\n",
       "      <td>-2.566650</td>\n",
       "      <td>-0.646067</td>\n",
       "      <td>-0.853170</td>\n",
       "      <td>1.995413</td>\n",
       "      <td>-0.541776</td>\n",
       "      <td>-1.041268</td>\n",
       "      <td>1.083647</td>\n",
       "    </tr>\n",
       "    <tr>\n",
       "      <th>B</th>\n",
       "      <td>0.538462</td>\n",
       "      <td>0.833375</td>\n",
       "      <td>-1.244543</td>\n",
       "      <td>0.088668</td>\n",
       "      <td>1.689754</td>\n",
       "      <td>-0.637011</td>\n",
       "      <td>-0.012649</td>\n",
       "      <td>0.776698</td>\n",
       "      <td>1.651450</td>\n",
       "      <td>0.943969</td>\n",
       "    </tr>\n",
       "    <tr>\n",
       "      <th>C</th>\n",
       "      <td>-1.976928</td>\n",
       "      <td>0.775373</td>\n",
       "      <td>-1.347901</td>\n",
       "      <td>-0.088799</td>\n",
       "      <td>0.129599</td>\n",
       "      <td>-0.539486</td>\n",
       "      <td>2.190934</td>\n",
       "      <td>-0.378726</td>\n",
       "      <td>0.105150</td>\n",
       "      <td>-0.069197</td>\n",
       "    </tr>\n",
       "    <tr>\n",
       "      <th>D</th>\n",
       "      <td>-0.215955</td>\n",
       "      <td>0.993189</td>\n",
       "      <td>-0.102607</td>\n",
       "      <td>0.409949</td>\n",
       "      <td>1.096991</td>\n",
       "      <td>0.263781</td>\n",
       "      <td>-1.273995</td>\n",
       "      <td>0.092769</td>\n",
       "      <td>-1.069022</td>\n",
       "      <td>-0.627887</td>\n",
       "    </tr>\n",
       "  </tbody>\n",
       "</table>\n",
       "</div>"
      ],
      "text/plain": [
       "   2015-09-15  2015-09-16  2015-09-17  2015-09-18  2015-09-19  2015-09-20  \\\n",
       "A    0.978342    0.502520   -0.488121   -2.566650   -0.646067   -0.853170   \n",
       "B    0.538462    0.833375   -1.244543    0.088668    1.689754   -0.637011   \n",
       "C   -1.976928    0.775373   -1.347901   -0.088799    0.129599   -0.539486   \n",
       "D   -0.215955    0.993189   -0.102607    0.409949    1.096991    0.263781   \n",
       "\n",
       "   2015-09-21  2015-09-22  2015-09-23  2015-09-24  \n",
       "A    1.995413   -0.541776   -1.041268    1.083647  \n",
       "B   -0.012649    0.776698    1.651450    0.943969  \n",
       "C    2.190934   -0.378726    0.105150   -0.069197  \n",
       "D   -1.273995    0.092769   -1.069022   -0.627887  "
      ]
     },
     "execution_count": 22,
     "metadata": {},
     "output_type": "execute_result"
    }
   ],
   "source": [
    "df.T"
   ]
  },
  {
   "cell_type": "code",
   "execution_count": 24,
   "metadata": {
    "collapsed": false
   },
   "outputs": [
    {
     "data": {
      "text/html": [
       "<div>\n",
       "<table border=\"1\" class=\"dataframe\">\n",
       "  <thead>\n",
       "    <tr style=\"text-align: right;\">\n",
       "      <th></th>\n",
       "      <th>D</th>\n",
       "      <th>C</th>\n",
       "      <th>B</th>\n",
       "      <th>A</th>\n",
       "    </tr>\n",
       "  </thead>\n",
       "  <tbody>\n",
       "    <tr>\n",
       "      <th>2015-09-15</th>\n",
       "      <td>-0.215955</td>\n",
       "      <td>-1.976928</td>\n",
       "      <td>0.538462</td>\n",
       "      <td>0.978342</td>\n",
       "    </tr>\n",
       "    <tr>\n",
       "      <th>2015-09-16</th>\n",
       "      <td>0.993189</td>\n",
       "      <td>0.775373</td>\n",
       "      <td>0.833375</td>\n",
       "      <td>0.502520</td>\n",
       "    </tr>\n",
       "    <tr>\n",
       "      <th>2015-09-17</th>\n",
       "      <td>-0.102607</td>\n",
       "      <td>-1.347901</td>\n",
       "      <td>-1.244543</td>\n",
       "      <td>-0.488121</td>\n",
       "    </tr>\n",
       "    <tr>\n",
       "      <th>2015-09-18</th>\n",
       "      <td>0.409949</td>\n",
       "      <td>-0.088799</td>\n",
       "      <td>0.088668</td>\n",
       "      <td>-2.566650</td>\n",
       "    </tr>\n",
       "    <tr>\n",
       "      <th>2015-09-19</th>\n",
       "      <td>1.096991</td>\n",
       "      <td>0.129599</td>\n",
       "      <td>1.689754</td>\n",
       "      <td>-0.646067</td>\n",
       "    </tr>\n",
       "    <tr>\n",
       "      <th>2015-09-20</th>\n",
       "      <td>0.263781</td>\n",
       "      <td>-0.539486</td>\n",
       "      <td>-0.637011</td>\n",
       "      <td>-0.853170</td>\n",
       "    </tr>\n",
       "    <tr>\n",
       "      <th>2015-09-21</th>\n",
       "      <td>-1.273995</td>\n",
       "      <td>2.190934</td>\n",
       "      <td>-0.012649</td>\n",
       "      <td>1.995413</td>\n",
       "    </tr>\n",
       "    <tr>\n",
       "      <th>2015-09-22</th>\n",
       "      <td>0.092769</td>\n",
       "      <td>-0.378726</td>\n",
       "      <td>0.776698</td>\n",
       "      <td>-0.541776</td>\n",
       "    </tr>\n",
       "    <tr>\n",
       "      <th>2015-09-23</th>\n",
       "      <td>-1.069022</td>\n",
       "      <td>0.105150</td>\n",
       "      <td>1.651450</td>\n",
       "      <td>-1.041268</td>\n",
       "    </tr>\n",
       "    <tr>\n",
       "      <th>2015-09-24</th>\n",
       "      <td>-0.627887</td>\n",
       "      <td>-0.069197</td>\n",
       "      <td>0.943969</td>\n",
       "      <td>1.083647</td>\n",
       "    </tr>\n",
       "  </tbody>\n",
       "</table>\n",
       "</div>"
      ],
      "text/plain": [
       "                   D         C         B         A\n",
       "2015-09-15 -0.215955 -1.976928  0.538462  0.978342\n",
       "2015-09-16  0.993189  0.775373  0.833375  0.502520\n",
       "2015-09-17 -0.102607 -1.347901 -1.244543 -0.488121\n",
       "2015-09-18  0.409949 -0.088799  0.088668 -2.566650\n",
       "2015-09-19  1.096991  0.129599  1.689754 -0.646067\n",
       "2015-09-20  0.263781 -0.539486 -0.637011 -0.853170\n",
       "2015-09-21 -1.273995  2.190934 -0.012649  1.995413\n",
       "2015-09-22  0.092769 -0.378726  0.776698 -0.541776\n",
       "2015-09-23 -1.069022  0.105150  1.651450 -1.041268\n",
       "2015-09-24 -0.627887 -0.069197  0.943969  1.083647"
      ]
     },
     "execution_count": 24,
     "metadata": {},
     "output_type": "execute_result"
    }
   ],
   "source": [
    "df.sort_index(axis=1, ascending = False)"
   ]
  },
  {
   "cell_type": "code",
   "execution_count": 25,
   "metadata": {
    "collapsed": false
   },
   "outputs": [
    {
     "data": {
      "text/html": [
       "<div>\n",
       "<table border=\"1\" class=\"dataframe\">\n",
       "  <thead>\n",
       "    <tr style=\"text-align: right;\">\n",
       "      <th></th>\n",
       "      <th>A</th>\n",
       "      <th>B</th>\n",
       "      <th>C</th>\n",
       "      <th>D</th>\n",
       "    </tr>\n",
       "  </thead>\n",
       "  <tbody>\n",
       "    <tr>\n",
       "      <th>2015-09-17</th>\n",
       "      <td>-0.488121</td>\n",
       "      <td>-1.244543</td>\n",
       "      <td>-1.347901</td>\n",
       "      <td>-0.102607</td>\n",
       "    </tr>\n",
       "    <tr>\n",
       "      <th>2015-09-20</th>\n",
       "      <td>-0.853170</td>\n",
       "      <td>-0.637011</td>\n",
       "      <td>-0.539486</td>\n",
       "      <td>0.263781</td>\n",
       "    </tr>\n",
       "    <tr>\n",
       "      <th>2015-09-21</th>\n",
       "      <td>1.995413</td>\n",
       "      <td>-0.012649</td>\n",
       "      <td>2.190934</td>\n",
       "      <td>-1.273995</td>\n",
       "    </tr>\n",
       "    <tr>\n",
       "      <th>2015-09-18</th>\n",
       "      <td>-2.566650</td>\n",
       "      <td>0.088668</td>\n",
       "      <td>-0.088799</td>\n",
       "      <td>0.409949</td>\n",
       "    </tr>\n",
       "    <tr>\n",
       "      <th>2015-09-15</th>\n",
       "      <td>0.978342</td>\n",
       "      <td>0.538462</td>\n",
       "      <td>-1.976928</td>\n",
       "      <td>-0.215955</td>\n",
       "    </tr>\n",
       "    <tr>\n",
       "      <th>2015-09-22</th>\n",
       "      <td>-0.541776</td>\n",
       "      <td>0.776698</td>\n",
       "      <td>-0.378726</td>\n",
       "      <td>0.092769</td>\n",
       "    </tr>\n",
       "    <tr>\n",
       "      <th>2015-09-16</th>\n",
       "      <td>0.502520</td>\n",
       "      <td>0.833375</td>\n",
       "      <td>0.775373</td>\n",
       "      <td>0.993189</td>\n",
       "    </tr>\n",
       "    <tr>\n",
       "      <th>2015-09-24</th>\n",
       "      <td>1.083647</td>\n",
       "      <td>0.943969</td>\n",
       "      <td>-0.069197</td>\n",
       "      <td>-0.627887</td>\n",
       "    </tr>\n",
       "    <tr>\n",
       "      <th>2015-09-23</th>\n",
       "      <td>-1.041268</td>\n",
       "      <td>1.651450</td>\n",
       "      <td>0.105150</td>\n",
       "      <td>-1.069022</td>\n",
       "    </tr>\n",
       "    <tr>\n",
       "      <th>2015-09-19</th>\n",
       "      <td>-0.646067</td>\n",
       "      <td>1.689754</td>\n",
       "      <td>0.129599</td>\n",
       "      <td>1.096991</td>\n",
       "    </tr>\n",
       "  </tbody>\n",
       "</table>\n",
       "</div>"
      ],
      "text/plain": [
       "                   A         B         C         D\n",
       "2015-09-17 -0.488121 -1.244543 -1.347901 -0.102607\n",
       "2015-09-20 -0.853170 -0.637011 -0.539486  0.263781\n",
       "2015-09-21  1.995413 -0.012649  2.190934 -1.273995\n",
       "2015-09-18 -2.566650  0.088668 -0.088799  0.409949\n",
       "2015-09-15  0.978342  0.538462 -1.976928 -0.215955\n",
       "2015-09-22 -0.541776  0.776698 -0.378726  0.092769\n",
       "2015-09-16  0.502520  0.833375  0.775373  0.993189\n",
       "2015-09-24  1.083647  0.943969 -0.069197 -0.627887\n",
       "2015-09-23 -1.041268  1.651450  0.105150 -1.069022\n",
       "2015-09-19 -0.646067  1.689754  0.129599  1.096991"
      ]
     },
     "execution_count": 25,
     "metadata": {},
     "output_type": "execute_result"
    }
   ],
   "source": [
    "df.sort(columns='B')"
   ]
  },
  {
   "cell_type": "code",
   "execution_count": 26,
   "metadata": {
    "collapsed": false
   },
   "outputs": [
    {
     "data": {
      "text/plain": [
       "2015-09-15    0.978342\n",
       "2015-09-16    0.502520\n",
       "2015-09-17   -0.488121\n",
       "2015-09-18   -2.566650\n",
       "2015-09-19   -0.646067\n",
       "2015-09-20   -0.853170\n",
       "2015-09-21    1.995413\n",
       "2015-09-22   -0.541776\n",
       "2015-09-23   -1.041268\n",
       "2015-09-24    1.083647\n",
       "Freq: D, Name: A, dtype: float64"
      ]
     },
     "execution_count": 26,
     "metadata": {},
     "output_type": "execute_result"
    }
   ],
   "source": [
    "df['A']"
   ]
  },
  {
   "cell_type": "code",
   "execution_count": 27,
   "metadata": {
    "collapsed": false
   },
   "outputs": [
    {
     "data": {
      "text/html": [
       "<div>\n",
       "<table border=\"1\" class=\"dataframe\">\n",
       "  <thead>\n",
       "    <tr style=\"text-align: right;\">\n",
       "      <th></th>\n",
       "      <th>A</th>\n",
       "      <th>B</th>\n",
       "      <th>C</th>\n",
       "      <th>D</th>\n",
       "    </tr>\n",
       "  </thead>\n",
       "  <tbody>\n",
       "    <tr>\n",
       "      <th>2015-09-15</th>\n",
       "      <td>0.978342</td>\n",
       "      <td>0.538462</td>\n",
       "      <td>-1.976928</td>\n",
       "      <td>-0.215955</td>\n",
       "    </tr>\n",
       "    <tr>\n",
       "      <th>2015-09-16</th>\n",
       "      <td>0.502520</td>\n",
       "      <td>0.833375</td>\n",
       "      <td>0.775373</td>\n",
       "      <td>0.993189</td>\n",
       "    </tr>\n",
       "    <tr>\n",
       "      <th>2015-09-17</th>\n",
       "      <td>-0.488121</td>\n",
       "      <td>-1.244543</td>\n",
       "      <td>-1.347901</td>\n",
       "      <td>-0.102607</td>\n",
       "    </tr>\n",
       "  </tbody>\n",
       "</table>\n",
       "</div>"
      ],
      "text/plain": [
       "                   A         B         C         D\n",
       "2015-09-15  0.978342  0.538462 -1.976928 -0.215955\n",
       "2015-09-16  0.502520  0.833375  0.775373  0.993189\n",
       "2015-09-17 -0.488121 -1.244543 -1.347901 -0.102607"
      ]
     },
     "execution_count": 27,
     "metadata": {},
     "output_type": "execute_result"
    }
   ],
   "source": [
    "df[0:3]"
   ]
  },
  {
   "cell_type": "code",
   "execution_count": 29,
   "metadata": {
    "collapsed": false
   },
   "outputs": [
    {
     "data": {
      "text/html": [
       "<div>\n",
       "<table border=\"1\" class=\"dataframe\">\n",
       "  <thead>\n",
       "    <tr style=\"text-align: right;\">\n",
       "      <th></th>\n",
       "      <th>A</th>\n",
       "      <th>B</th>\n",
       "      <th>C</th>\n",
       "      <th>D</th>\n",
       "    </tr>\n",
       "  </thead>\n",
       "  <tbody>\n",
       "    <tr>\n",
       "      <th>2015-09-15</th>\n",
       "      <td>0.978342</td>\n",
       "      <td>0.538462</td>\n",
       "      <td>-1.976928</td>\n",
       "      <td>-0.215955</td>\n",
       "    </tr>\n",
       "    <tr>\n",
       "      <th>2015-09-16</th>\n",
       "      <td>0.502520</td>\n",
       "      <td>0.833375</td>\n",
       "      <td>0.775373</td>\n",
       "      <td>0.993189</td>\n",
       "    </tr>\n",
       "    <tr>\n",
       "      <th>2015-09-17</th>\n",
       "      <td>-0.488121</td>\n",
       "      <td>-1.244543</td>\n",
       "      <td>-1.347901</td>\n",
       "      <td>-0.102607</td>\n",
       "    </tr>\n",
       "    <tr>\n",
       "      <th>2015-09-18</th>\n",
       "      <td>-2.566650</td>\n",
       "      <td>0.088668</td>\n",
       "      <td>-0.088799</td>\n",
       "      <td>0.409949</td>\n",
       "    </tr>\n",
       "  </tbody>\n",
       "</table>\n",
       "</div>"
      ],
      "text/plain": [
       "                   A         B         C         D\n",
       "2015-09-15  0.978342  0.538462 -1.976928 -0.215955\n",
       "2015-09-16  0.502520  0.833375  0.775373  0.993189\n",
       "2015-09-17 -0.488121 -1.244543 -1.347901 -0.102607\n",
       "2015-09-18 -2.566650  0.088668 -0.088799  0.409949"
      ]
     },
     "execution_count": 29,
     "metadata": {},
     "output_type": "execute_result"
    }
   ],
   "source": [
    "df['20150915':'20150918']"
   ]
  },
  {
   "cell_type": "code",
   "execution_count": 31,
   "metadata": {
    "collapsed": false
   },
   "outputs": [
    {
     "data": {
      "text/plain": [
       "A    0.978342\n",
       "B    0.538462\n",
       "C   -1.976928\n",
       "D   -0.215955\n",
       "Name: 2015-09-15 00:00:00, dtype: float64"
      ]
     },
     "execution_count": 31,
     "metadata": {},
     "output_type": "execute_result"
    }
   ],
   "source": [
    "df.loc[dates[0]]"
   ]
  },
  {
   "cell_type": "code",
   "execution_count": 32,
   "metadata": {
    "collapsed": false
   },
   "outputs": [
    {
     "data": {
      "text/html": [
       "<div>\n",
       "<table border=\"1\" class=\"dataframe\">\n",
       "  <thead>\n",
       "    <tr style=\"text-align: right;\">\n",
       "      <th></th>\n",
       "      <th>A</th>\n",
       "      <th>B</th>\n",
       "    </tr>\n",
       "  </thead>\n",
       "  <tbody>\n",
       "    <tr>\n",
       "      <th>2015-09-15</th>\n",
       "      <td>0.978342</td>\n",
       "      <td>0.538462</td>\n",
       "    </tr>\n",
       "    <tr>\n",
       "      <th>2015-09-16</th>\n",
       "      <td>0.502520</td>\n",
       "      <td>0.833375</td>\n",
       "    </tr>\n",
       "    <tr>\n",
       "      <th>2015-09-17</th>\n",
       "      <td>-0.488121</td>\n",
       "      <td>-1.244543</td>\n",
       "    </tr>\n",
       "    <tr>\n",
       "      <th>2015-09-18</th>\n",
       "      <td>-2.566650</td>\n",
       "      <td>0.088668</td>\n",
       "    </tr>\n",
       "    <tr>\n",
       "      <th>2015-09-19</th>\n",
       "      <td>-0.646067</td>\n",
       "      <td>1.689754</td>\n",
       "    </tr>\n",
       "    <tr>\n",
       "      <th>2015-09-20</th>\n",
       "      <td>-0.853170</td>\n",
       "      <td>-0.637011</td>\n",
       "    </tr>\n",
       "    <tr>\n",
       "      <th>2015-09-21</th>\n",
       "      <td>1.995413</td>\n",
       "      <td>-0.012649</td>\n",
       "    </tr>\n",
       "    <tr>\n",
       "      <th>2015-09-22</th>\n",
       "      <td>-0.541776</td>\n",
       "      <td>0.776698</td>\n",
       "    </tr>\n",
       "    <tr>\n",
       "      <th>2015-09-23</th>\n",
       "      <td>-1.041268</td>\n",
       "      <td>1.651450</td>\n",
       "    </tr>\n",
       "    <tr>\n",
       "      <th>2015-09-24</th>\n",
       "      <td>1.083647</td>\n",
       "      <td>0.943969</td>\n",
       "    </tr>\n",
       "  </tbody>\n",
       "</table>\n",
       "</div>"
      ],
      "text/plain": [
       "                   A         B\n",
       "2015-09-15  0.978342  0.538462\n",
       "2015-09-16  0.502520  0.833375\n",
       "2015-09-17 -0.488121 -1.244543\n",
       "2015-09-18 -2.566650  0.088668\n",
       "2015-09-19 -0.646067  1.689754\n",
       "2015-09-20 -0.853170 -0.637011\n",
       "2015-09-21  1.995413 -0.012649\n",
       "2015-09-22 -0.541776  0.776698\n",
       "2015-09-23 -1.041268  1.651450\n",
       "2015-09-24  1.083647  0.943969"
      ]
     },
     "execution_count": 32,
     "metadata": {},
     "output_type": "execute_result"
    }
   ],
   "source": [
    "df.loc[:,['A','B']]"
   ]
  },
  {
   "cell_type": "code",
   "execution_count": 34,
   "metadata": {
    "collapsed": false
   },
   "outputs": [
    {
     "data": {
      "text/html": [
       "<div>\n",
       "<table border=\"1\" class=\"dataframe\">\n",
       "  <thead>\n",
       "    <tr style=\"text-align: right;\">\n",
       "      <th></th>\n",
       "      <th>A</th>\n",
       "      <th>B</th>\n",
       "    </tr>\n",
       "  </thead>\n",
       "  <tbody>\n",
       "    <tr>\n",
       "      <th>2015-09-15</th>\n",
       "      <td>0.978342</td>\n",
       "      <td>0.538462</td>\n",
       "    </tr>\n",
       "    <tr>\n",
       "      <th>2015-09-16</th>\n",
       "      <td>0.502520</td>\n",
       "      <td>0.833375</td>\n",
       "    </tr>\n",
       "    <tr>\n",
       "      <th>2015-09-17</th>\n",
       "      <td>-0.488121</td>\n",
       "      <td>-1.244543</td>\n",
       "    </tr>\n",
       "    <tr>\n",
       "      <th>2015-09-18</th>\n",
       "      <td>-2.566650</td>\n",
       "      <td>0.088668</td>\n",
       "    </tr>\n",
       "    <tr>\n",
       "      <th>2015-09-19</th>\n",
       "      <td>-0.646067</td>\n",
       "      <td>1.689754</td>\n",
       "    </tr>\n",
       "  </tbody>\n",
       "</table>\n",
       "</div>"
      ],
      "text/plain": [
       "                   A         B\n",
       "2015-09-15  0.978342  0.538462\n",
       "2015-09-16  0.502520  0.833375\n",
       "2015-09-17 -0.488121 -1.244543\n",
       "2015-09-18 -2.566650  0.088668\n",
       "2015-09-19 -0.646067  1.689754"
      ]
     },
     "execution_count": 34,
     "metadata": {},
     "output_type": "execute_result"
    }
   ],
   "source": [
    "df.loc['20150915':'20150919',['A','B']]"
   ]
  },
  {
   "cell_type": "code",
   "execution_count": 35,
   "metadata": {
    "collapsed": false
   },
   "outputs": [
    {
     "data": {
      "text/plain": [
       "A   -2.566650\n",
       "B    0.088668\n",
       "Name: 2015-09-18 00:00:00, dtype: float64"
      ]
     },
     "execution_count": 35,
     "metadata": {},
     "output_type": "execute_result"
    }
   ],
   "source": [
    "df.loc['20150918',['A','B']]"
   ]
  },
  {
   "cell_type": "code",
   "execution_count": 36,
   "metadata": {
    "collapsed": false
   },
   "outputs": [
    {
     "data": {
      "text/plain": [
       "0.97834230703321678"
      ]
     },
     "execution_count": 36,
     "metadata": {},
     "output_type": "execute_result"
    }
   ],
   "source": [
    "df.loc[dates[0],'A']"
   ]
  },
  {
   "cell_type": "code",
   "execution_count": 37,
   "metadata": {
    "collapsed": false
   },
   "outputs": [
    {
     "data": {
      "text/plain": [
       "0.97834230703321678"
      ]
     },
     "execution_count": 37,
     "metadata": {},
     "output_type": "execute_result"
    }
   ],
   "source": [
    "df.at[dates[0],'A']"
   ]
  },
  {
   "cell_type": "code",
   "execution_count": 38,
   "metadata": {
    "collapsed": false
   },
   "outputs": [
    {
     "data": {
      "text/plain": [
       "A   -2.566650\n",
       "B    0.088668\n",
       "C   -0.088799\n",
       "D    0.409949\n",
       "Name: 2015-09-18 00:00:00, dtype: float64"
      ]
     },
     "execution_count": 38,
     "metadata": {},
     "output_type": "execute_result"
    }
   ],
   "source": [
    "df.iloc[3]"
   ]
  },
  {
   "cell_type": "code",
   "execution_count": 39,
   "metadata": {
    "collapsed": false
   },
   "outputs": [
    {
     "data": {
      "text/html": [
       "<div>\n",
       "<table border=\"1\" class=\"dataframe\">\n",
       "  <thead>\n",
       "    <tr style=\"text-align: right;\">\n",
       "      <th></th>\n",
       "      <th>A</th>\n",
       "      <th>B</th>\n",
       "    </tr>\n",
       "  </thead>\n",
       "  <tbody>\n",
       "    <tr>\n",
       "      <th>2015-09-18</th>\n",
       "      <td>-2.566650</td>\n",
       "      <td>0.088668</td>\n",
       "    </tr>\n",
       "    <tr>\n",
       "      <th>2015-09-19</th>\n",
       "      <td>-0.646067</td>\n",
       "      <td>1.689754</td>\n",
       "    </tr>\n",
       "  </tbody>\n",
       "</table>\n",
       "</div>"
      ],
      "text/plain": [
       "                   A         B\n",
       "2015-09-18 -2.566650  0.088668\n",
       "2015-09-19 -0.646067  1.689754"
      ]
     },
     "execution_count": 39,
     "metadata": {},
     "output_type": "execute_result"
    }
   ],
   "source": [
    "df.iloc[3:5,0:2]"
   ]
  },
  {
   "cell_type": "code",
   "execution_count": 40,
   "metadata": {
    "collapsed": false
   },
   "outputs": [
    {
     "data": {
      "text/html": [
       "<div>\n",
       "<table border=\"1\" class=\"dataframe\">\n",
       "  <thead>\n",
       "    <tr style=\"text-align: right;\">\n",
       "      <th></th>\n",
       "      <th>A</th>\n",
       "      <th>C</th>\n",
       "    </tr>\n",
       "  </thead>\n",
       "  <tbody>\n",
       "    <tr>\n",
       "      <th>2015-09-16</th>\n",
       "      <td>0.502520</td>\n",
       "      <td>0.775373</td>\n",
       "    </tr>\n",
       "    <tr>\n",
       "      <th>2015-09-17</th>\n",
       "      <td>-0.488121</td>\n",
       "      <td>-1.347901</td>\n",
       "    </tr>\n",
       "    <tr>\n",
       "      <th>2015-09-19</th>\n",
       "      <td>-0.646067</td>\n",
       "      <td>0.129599</td>\n",
       "    </tr>\n",
       "  </tbody>\n",
       "</table>\n",
       "</div>"
      ],
      "text/plain": [
       "                   A         C\n",
       "2015-09-16  0.502520  0.775373\n",
       "2015-09-17 -0.488121 -1.347901\n",
       "2015-09-19 -0.646067  0.129599"
      ]
     },
     "execution_count": 40,
     "metadata": {},
     "output_type": "execute_result"
    }
   ],
   "source": [
    "df.iloc[[1,2,4],[0,2]]"
   ]
  },
  {
   "cell_type": "code",
   "execution_count": 41,
   "metadata": {
    "collapsed": false
   },
   "outputs": [
    {
     "data": {
      "text/html": [
       "<div>\n",
       "<table border=\"1\" class=\"dataframe\">\n",
       "  <thead>\n",
       "    <tr style=\"text-align: right;\">\n",
       "      <th></th>\n",
       "      <th>A</th>\n",
       "      <th>B</th>\n",
       "      <th>C</th>\n",
       "      <th>D</th>\n",
       "    </tr>\n",
       "  </thead>\n",
       "  <tbody>\n",
       "    <tr>\n",
       "      <th>2015-09-16</th>\n",
       "      <td>0.502520</td>\n",
       "      <td>0.833375</td>\n",
       "      <td>0.775373</td>\n",
       "      <td>0.993189</td>\n",
       "    </tr>\n",
       "    <tr>\n",
       "      <th>2015-09-17</th>\n",
       "      <td>-0.488121</td>\n",
       "      <td>-1.244543</td>\n",
       "      <td>-1.347901</td>\n",
       "      <td>-0.102607</td>\n",
       "    </tr>\n",
       "  </tbody>\n",
       "</table>\n",
       "</div>"
      ],
      "text/plain": [
       "                   A         B         C         D\n",
       "2015-09-16  0.502520  0.833375  0.775373  0.993189\n",
       "2015-09-17 -0.488121 -1.244543 -1.347901 -0.102607"
      ]
     },
     "execution_count": 41,
     "metadata": {},
     "output_type": "execute_result"
    }
   ],
   "source": [
    "df.iloc[1:3,:]"
   ]
  },
  {
   "cell_type": "code",
   "execution_count": 42,
   "metadata": {
    "collapsed": false
   },
   "outputs": [
    {
     "data": {
      "text/html": [
       "<div>\n",
       "<table border=\"1\" class=\"dataframe\">\n",
       "  <thead>\n",
       "    <tr style=\"text-align: right;\">\n",
       "      <th></th>\n",
       "      <th>B</th>\n",
       "      <th>C</th>\n",
       "    </tr>\n",
       "  </thead>\n",
       "  <tbody>\n",
       "    <tr>\n",
       "      <th>2015-09-15</th>\n",
       "      <td>0.538462</td>\n",
       "      <td>-1.976928</td>\n",
       "    </tr>\n",
       "    <tr>\n",
       "      <th>2015-09-16</th>\n",
       "      <td>0.833375</td>\n",
       "      <td>0.775373</td>\n",
       "    </tr>\n",
       "    <tr>\n",
       "      <th>2015-09-17</th>\n",
       "      <td>-1.244543</td>\n",
       "      <td>-1.347901</td>\n",
       "    </tr>\n",
       "    <tr>\n",
       "      <th>2015-09-18</th>\n",
       "      <td>0.088668</td>\n",
       "      <td>-0.088799</td>\n",
       "    </tr>\n",
       "    <tr>\n",
       "      <th>2015-09-19</th>\n",
       "      <td>1.689754</td>\n",
       "      <td>0.129599</td>\n",
       "    </tr>\n",
       "    <tr>\n",
       "      <th>2015-09-20</th>\n",
       "      <td>-0.637011</td>\n",
       "      <td>-0.539486</td>\n",
       "    </tr>\n",
       "    <tr>\n",
       "      <th>2015-09-21</th>\n",
       "      <td>-0.012649</td>\n",
       "      <td>2.190934</td>\n",
       "    </tr>\n",
       "    <tr>\n",
       "      <th>2015-09-22</th>\n",
       "      <td>0.776698</td>\n",
       "      <td>-0.378726</td>\n",
       "    </tr>\n",
       "    <tr>\n",
       "      <th>2015-09-23</th>\n",
       "      <td>1.651450</td>\n",
       "      <td>0.105150</td>\n",
       "    </tr>\n",
       "    <tr>\n",
       "      <th>2015-09-24</th>\n",
       "      <td>0.943969</td>\n",
       "      <td>-0.069197</td>\n",
       "    </tr>\n",
       "  </tbody>\n",
       "</table>\n",
       "</div>"
      ],
      "text/plain": [
       "                   B         C\n",
       "2015-09-15  0.538462 -1.976928\n",
       "2015-09-16  0.833375  0.775373\n",
       "2015-09-17 -1.244543 -1.347901\n",
       "2015-09-18  0.088668 -0.088799\n",
       "2015-09-19  1.689754  0.129599\n",
       "2015-09-20 -0.637011 -0.539486\n",
       "2015-09-21 -0.012649  2.190934\n",
       "2015-09-22  0.776698 -0.378726\n",
       "2015-09-23  1.651450  0.105150\n",
       "2015-09-24  0.943969 -0.069197"
      ]
     },
     "execution_count": 42,
     "metadata": {},
     "output_type": "execute_result"
    }
   ],
   "source": [
    "df.iloc[:,1:3]"
   ]
  },
  {
   "cell_type": "code",
   "execution_count": 43,
   "metadata": {
    "collapsed": false
   },
   "outputs": [
    {
     "data": {
      "text/plain": [
       "0.83337522722897261"
      ]
     },
     "execution_count": 43,
     "metadata": {},
     "output_type": "execute_result"
    }
   ],
   "source": [
    "df.iloc[1,1]"
   ]
  },
  {
   "cell_type": "code",
   "execution_count": 44,
   "metadata": {
    "collapsed": false
   },
   "outputs": [
    {
     "data": {
      "text/plain": [
       "0.83337522722897261"
      ]
     },
     "execution_count": 44,
     "metadata": {},
     "output_type": "execute_result"
    }
   ],
   "source": [
    "df.iat[1,1]"
   ]
  },
  {
   "cell_type": "code",
   "execution_count": 45,
   "metadata": {
    "collapsed": false
   },
   "outputs": [
    {
     "data": {
      "text/html": [
       "<div>\n",
       "<table border=\"1\" class=\"dataframe\">\n",
       "  <thead>\n",
       "    <tr style=\"text-align: right;\">\n",
       "      <th></th>\n",
       "      <th>A</th>\n",
       "      <th>B</th>\n",
       "      <th>C</th>\n",
       "      <th>D</th>\n",
       "    </tr>\n",
       "  </thead>\n",
       "  <tbody>\n",
       "    <tr>\n",
       "      <th>2015-09-15</th>\n",
       "      <td>0.978342</td>\n",
       "      <td>0.538462</td>\n",
       "      <td>-1.976928</td>\n",
       "      <td>-0.215955</td>\n",
       "    </tr>\n",
       "    <tr>\n",
       "      <th>2015-09-16</th>\n",
       "      <td>0.502520</td>\n",
       "      <td>0.833375</td>\n",
       "      <td>0.775373</td>\n",
       "      <td>0.993189</td>\n",
       "    </tr>\n",
       "    <tr>\n",
       "      <th>2015-09-21</th>\n",
       "      <td>1.995413</td>\n",
       "      <td>-0.012649</td>\n",
       "      <td>2.190934</td>\n",
       "      <td>-1.273995</td>\n",
       "    </tr>\n",
       "    <tr>\n",
       "      <th>2015-09-24</th>\n",
       "      <td>1.083647</td>\n",
       "      <td>0.943969</td>\n",
       "      <td>-0.069197</td>\n",
       "      <td>-0.627887</td>\n",
       "    </tr>\n",
       "  </tbody>\n",
       "</table>\n",
       "</div>"
      ],
      "text/plain": [
       "                   A         B         C         D\n",
       "2015-09-15  0.978342  0.538462 -1.976928 -0.215955\n",
       "2015-09-16  0.502520  0.833375  0.775373  0.993189\n",
       "2015-09-21  1.995413 -0.012649  2.190934 -1.273995\n",
       "2015-09-24  1.083647  0.943969 -0.069197 -0.627887"
      ]
     },
     "execution_count": 45,
     "metadata": {},
     "output_type": "execute_result"
    }
   ],
   "source": [
    "df[df.A>0]"
   ]
  },
  {
   "cell_type": "code",
   "execution_count": 46,
   "metadata": {
    "collapsed": false
   },
   "outputs": [
    {
     "data": {
      "text/html": [
       "<div>\n",
       "<table border=\"1\" class=\"dataframe\">\n",
       "  <thead>\n",
       "    <tr style=\"text-align: right;\">\n",
       "      <th></th>\n",
       "      <th>A</th>\n",
       "      <th>B</th>\n",
       "      <th>C</th>\n",
       "      <th>D</th>\n",
       "    </tr>\n",
       "  </thead>\n",
       "  <tbody>\n",
       "    <tr>\n",
       "      <th>2015-09-15</th>\n",
       "      <td>0.978342</td>\n",
       "      <td>0.538462</td>\n",
       "      <td>NaN</td>\n",
       "      <td>NaN</td>\n",
       "    </tr>\n",
       "    <tr>\n",
       "      <th>2015-09-16</th>\n",
       "      <td>0.502520</td>\n",
       "      <td>0.833375</td>\n",
       "      <td>0.775373</td>\n",
       "      <td>0.993189</td>\n",
       "    </tr>\n",
       "    <tr>\n",
       "      <th>2015-09-17</th>\n",
       "      <td>NaN</td>\n",
       "      <td>NaN</td>\n",
       "      <td>NaN</td>\n",
       "      <td>NaN</td>\n",
       "    </tr>\n",
       "    <tr>\n",
       "      <th>2015-09-18</th>\n",
       "      <td>NaN</td>\n",
       "      <td>0.088668</td>\n",
       "      <td>NaN</td>\n",
       "      <td>0.409949</td>\n",
       "    </tr>\n",
       "    <tr>\n",
       "      <th>2015-09-19</th>\n",
       "      <td>NaN</td>\n",
       "      <td>1.689754</td>\n",
       "      <td>0.129599</td>\n",
       "      <td>1.096991</td>\n",
       "    </tr>\n",
       "    <tr>\n",
       "      <th>2015-09-20</th>\n",
       "      <td>NaN</td>\n",
       "      <td>NaN</td>\n",
       "      <td>NaN</td>\n",
       "      <td>0.263781</td>\n",
       "    </tr>\n",
       "    <tr>\n",
       "      <th>2015-09-21</th>\n",
       "      <td>1.995413</td>\n",
       "      <td>NaN</td>\n",
       "      <td>2.190934</td>\n",
       "      <td>NaN</td>\n",
       "    </tr>\n",
       "    <tr>\n",
       "      <th>2015-09-22</th>\n",
       "      <td>NaN</td>\n",
       "      <td>0.776698</td>\n",
       "      <td>NaN</td>\n",
       "      <td>0.092769</td>\n",
       "    </tr>\n",
       "    <tr>\n",
       "      <th>2015-09-23</th>\n",
       "      <td>NaN</td>\n",
       "      <td>1.651450</td>\n",
       "      <td>0.105150</td>\n",
       "      <td>NaN</td>\n",
       "    </tr>\n",
       "    <tr>\n",
       "      <th>2015-09-24</th>\n",
       "      <td>1.083647</td>\n",
       "      <td>0.943969</td>\n",
       "      <td>NaN</td>\n",
       "      <td>NaN</td>\n",
       "    </tr>\n",
       "  </tbody>\n",
       "</table>\n",
       "</div>"
      ],
      "text/plain": [
       "                   A         B         C         D\n",
       "2015-09-15  0.978342  0.538462       NaN       NaN\n",
       "2015-09-16  0.502520  0.833375  0.775373  0.993189\n",
       "2015-09-17       NaN       NaN       NaN       NaN\n",
       "2015-09-18       NaN  0.088668       NaN  0.409949\n",
       "2015-09-19       NaN  1.689754  0.129599  1.096991\n",
       "2015-09-20       NaN       NaN       NaN  0.263781\n",
       "2015-09-21  1.995413       NaN  2.190934       NaN\n",
       "2015-09-22       NaN  0.776698       NaN  0.092769\n",
       "2015-09-23       NaN  1.651450  0.105150       NaN\n",
       "2015-09-24  1.083647  0.943969       NaN       NaN"
      ]
     },
     "execution_count": 46,
     "metadata": {},
     "output_type": "execute_result"
    }
   ],
   "source": [
    "df[df>0]"
   ]
  },
  {
   "cell_type": "code",
   "execution_count": 47,
   "metadata": {
    "collapsed": true
   },
   "outputs": [],
   "source": [
    "df2=df.copy()"
   ]
  },
  {
   "cell_type": "code",
   "execution_count": 50,
   "metadata": {
    "collapsed": false
   },
   "outputs": [],
   "source": [
    "df2['E'] = ['one', 'one', 'two', 'three', 'four', 'three', 'six', 'five', 'one', 'two']"
   ]
  },
  {
   "cell_type": "code",
   "execution_count": 51,
   "metadata": {
    "collapsed": false
   },
   "outputs": [
    {
     "data": {
      "text/html": [
       "<div>\n",
       "<table border=\"1\" class=\"dataframe\">\n",
       "  <thead>\n",
       "    <tr style=\"text-align: right;\">\n",
       "      <th></th>\n",
       "      <th>A</th>\n",
       "      <th>B</th>\n",
       "      <th>C</th>\n",
       "      <th>D</th>\n",
       "      <th>E</th>\n",
       "    </tr>\n",
       "  </thead>\n",
       "  <tbody>\n",
       "    <tr>\n",
       "      <th>2015-09-15</th>\n",
       "      <td>0.978342</td>\n",
       "      <td>0.538462</td>\n",
       "      <td>-1.976928</td>\n",
       "      <td>-0.215955</td>\n",
       "      <td>one</td>\n",
       "    </tr>\n",
       "    <tr>\n",
       "      <th>2015-09-16</th>\n",
       "      <td>0.502520</td>\n",
       "      <td>0.833375</td>\n",
       "      <td>0.775373</td>\n",
       "      <td>0.993189</td>\n",
       "      <td>one</td>\n",
       "    </tr>\n",
       "    <tr>\n",
       "      <th>2015-09-17</th>\n",
       "      <td>-0.488121</td>\n",
       "      <td>-1.244543</td>\n",
       "      <td>-1.347901</td>\n",
       "      <td>-0.102607</td>\n",
       "      <td>two</td>\n",
       "    </tr>\n",
       "    <tr>\n",
       "      <th>2015-09-18</th>\n",
       "      <td>-2.566650</td>\n",
       "      <td>0.088668</td>\n",
       "      <td>-0.088799</td>\n",
       "      <td>0.409949</td>\n",
       "      <td>three</td>\n",
       "    </tr>\n",
       "    <tr>\n",
       "      <th>2015-09-19</th>\n",
       "      <td>-0.646067</td>\n",
       "      <td>1.689754</td>\n",
       "      <td>0.129599</td>\n",
       "      <td>1.096991</td>\n",
       "      <td>four</td>\n",
       "    </tr>\n",
       "    <tr>\n",
       "      <th>2015-09-20</th>\n",
       "      <td>-0.853170</td>\n",
       "      <td>-0.637011</td>\n",
       "      <td>-0.539486</td>\n",
       "      <td>0.263781</td>\n",
       "      <td>three</td>\n",
       "    </tr>\n",
       "    <tr>\n",
       "      <th>2015-09-21</th>\n",
       "      <td>1.995413</td>\n",
       "      <td>-0.012649</td>\n",
       "      <td>2.190934</td>\n",
       "      <td>-1.273995</td>\n",
       "      <td>six</td>\n",
       "    </tr>\n",
       "    <tr>\n",
       "      <th>2015-09-22</th>\n",
       "      <td>-0.541776</td>\n",
       "      <td>0.776698</td>\n",
       "      <td>-0.378726</td>\n",
       "      <td>0.092769</td>\n",
       "      <td>five</td>\n",
       "    </tr>\n",
       "    <tr>\n",
       "      <th>2015-09-23</th>\n",
       "      <td>-1.041268</td>\n",
       "      <td>1.651450</td>\n",
       "      <td>0.105150</td>\n",
       "      <td>-1.069022</td>\n",
       "      <td>one</td>\n",
       "    </tr>\n",
       "    <tr>\n",
       "      <th>2015-09-24</th>\n",
       "      <td>1.083647</td>\n",
       "      <td>0.943969</td>\n",
       "      <td>-0.069197</td>\n",
       "      <td>-0.627887</td>\n",
       "      <td>two</td>\n",
       "    </tr>\n",
       "  </tbody>\n",
       "</table>\n",
       "</div>"
      ],
      "text/plain": [
       "                   A         B         C         D      E\n",
       "2015-09-15  0.978342  0.538462 -1.976928 -0.215955    one\n",
       "2015-09-16  0.502520  0.833375  0.775373  0.993189    one\n",
       "2015-09-17 -0.488121 -1.244543 -1.347901 -0.102607    two\n",
       "2015-09-18 -2.566650  0.088668 -0.088799  0.409949  three\n",
       "2015-09-19 -0.646067  1.689754  0.129599  1.096991   four\n",
       "2015-09-20 -0.853170 -0.637011 -0.539486  0.263781  three\n",
       "2015-09-21  1.995413 -0.012649  2.190934 -1.273995    six\n",
       "2015-09-22 -0.541776  0.776698 -0.378726  0.092769   five\n",
       "2015-09-23 -1.041268  1.651450  0.105150 -1.069022    one\n",
       "2015-09-24  1.083647  0.943969 -0.069197 -0.627887    two"
      ]
     },
     "execution_count": 51,
     "metadata": {},
     "output_type": "execute_result"
    }
   ],
   "source": [
    "df2"
   ]
  },
  {
   "cell_type": "code",
   "execution_count": 52,
   "metadata": {
    "collapsed": false
   },
   "outputs": [
    {
     "data": {
      "text/html": [
       "<div>\n",
       "<table border=\"1\" class=\"dataframe\">\n",
       "  <thead>\n",
       "    <tr style=\"text-align: right;\">\n",
       "      <th></th>\n",
       "      <th>A</th>\n",
       "      <th>B</th>\n",
       "      <th>C</th>\n",
       "      <th>D</th>\n",
       "      <th>E</th>\n",
       "    </tr>\n",
       "  </thead>\n",
       "  <tbody>\n",
       "    <tr>\n",
       "      <th>2015-09-17</th>\n",
       "      <td>-0.488121</td>\n",
       "      <td>-1.244543</td>\n",
       "      <td>-1.347901</td>\n",
       "      <td>-0.102607</td>\n",
       "      <td>two</td>\n",
       "    </tr>\n",
       "    <tr>\n",
       "      <th>2015-09-19</th>\n",
       "      <td>-0.646067</td>\n",
       "      <td>1.689754</td>\n",
       "      <td>0.129599</td>\n",
       "      <td>1.096991</td>\n",
       "      <td>four</td>\n",
       "    </tr>\n",
       "    <tr>\n",
       "      <th>2015-09-24</th>\n",
       "      <td>1.083647</td>\n",
       "      <td>0.943969</td>\n",
       "      <td>-0.069197</td>\n",
       "      <td>-0.627887</td>\n",
       "      <td>two</td>\n",
       "    </tr>\n",
       "  </tbody>\n",
       "</table>\n",
       "</div>"
      ],
      "text/plain": [
       "                   A         B         C         D     E\n",
       "2015-09-17 -0.488121 -1.244543 -1.347901 -0.102607   two\n",
       "2015-09-19 -0.646067  1.689754  0.129599  1.096991  four\n",
       "2015-09-24  1.083647  0.943969 -0.069197 -0.627887   two"
      ]
     },
     "execution_count": 52,
     "metadata": {},
     "output_type": "execute_result"
    }
   ],
   "source": [
    "df2[df2['E'].isin(['two','four'])]"
   ]
  },
  {
   "cell_type": "code",
   "execution_count": 55,
   "metadata": {
    "collapsed": false
   },
   "outputs": [],
   "source": [
    "s1=pd.Series([1,2,3,4,5,6,7,8,9,10], index=pd.date_range('20150915', periods=10))"
   ]
  },
  {
   "cell_type": "code",
   "execution_count": 56,
   "metadata": {
    "collapsed": false
   },
   "outputs": [
    {
     "data": {
      "text/plain": [
       "2015-09-15     1\n",
       "2015-09-16     2\n",
       "2015-09-17     3\n",
       "2015-09-18     4\n",
       "2015-09-19     5\n",
       "2015-09-20     6\n",
       "2015-09-21     7\n",
       "2015-09-22     8\n",
       "2015-09-23     9\n",
       "2015-09-24    10\n",
       "Freq: D, dtype: int64"
      ]
     },
     "execution_count": 56,
     "metadata": {},
     "output_type": "execute_result"
    }
   ],
   "source": [
    "s1"
   ]
  },
  {
   "cell_type": "code",
   "execution_count": 57,
   "metadata": {
    "collapsed": true
   },
   "outputs": [],
   "source": [
    "df['F']=s1"
   ]
  },
  {
   "cell_type": "code",
   "execution_count": 58,
   "metadata": {
    "collapsed": true
   },
   "outputs": [],
   "source": [
    "df.at[dates[0], 'A'] = 0"
   ]
  },
  {
   "cell_type": "code",
   "execution_count": 59,
   "metadata": {
    "collapsed": true
   },
   "outputs": [],
   "source": [
    "df.iat[0,1] = 0"
   ]
  },
  {
   "cell_type": "code",
   "execution_count": 60,
   "metadata": {
    "collapsed": true
   },
   "outputs": [],
   "source": [
    "df.loc[:,'D'] = np.array([5] * len(df))"
   ]
  },
  {
   "cell_type": "code",
   "execution_count": 61,
   "metadata": {
    "collapsed": false
   },
   "outputs": [
    {
     "data": {
      "text/html": [
       "<div>\n",
       "<table border=\"1\" class=\"dataframe\">\n",
       "  <thead>\n",
       "    <tr style=\"text-align: right;\">\n",
       "      <th></th>\n",
       "      <th>A</th>\n",
       "      <th>B</th>\n",
       "      <th>C</th>\n",
       "      <th>D</th>\n",
       "      <th>F</th>\n",
       "    </tr>\n",
       "  </thead>\n",
       "  <tbody>\n",
       "    <tr>\n",
       "      <th>2015-09-15</th>\n",
       "      <td>0.000000</td>\n",
       "      <td>0.000000</td>\n",
       "      <td>-1.976928</td>\n",
       "      <td>5</td>\n",
       "      <td>1</td>\n",
       "    </tr>\n",
       "    <tr>\n",
       "      <th>2015-09-16</th>\n",
       "      <td>0.502520</td>\n",
       "      <td>0.833375</td>\n",
       "      <td>0.775373</td>\n",
       "      <td>5</td>\n",
       "      <td>2</td>\n",
       "    </tr>\n",
       "    <tr>\n",
       "      <th>2015-09-17</th>\n",
       "      <td>-0.488121</td>\n",
       "      <td>-1.244543</td>\n",
       "      <td>-1.347901</td>\n",
       "      <td>5</td>\n",
       "      <td>3</td>\n",
       "    </tr>\n",
       "    <tr>\n",
       "      <th>2015-09-18</th>\n",
       "      <td>-2.566650</td>\n",
       "      <td>0.088668</td>\n",
       "      <td>-0.088799</td>\n",
       "      <td>5</td>\n",
       "      <td>4</td>\n",
       "    </tr>\n",
       "    <tr>\n",
       "      <th>2015-09-19</th>\n",
       "      <td>-0.646067</td>\n",
       "      <td>1.689754</td>\n",
       "      <td>0.129599</td>\n",
       "      <td>5</td>\n",
       "      <td>5</td>\n",
       "    </tr>\n",
       "    <tr>\n",
       "      <th>2015-09-20</th>\n",
       "      <td>-0.853170</td>\n",
       "      <td>-0.637011</td>\n",
       "      <td>-0.539486</td>\n",
       "      <td>5</td>\n",
       "      <td>6</td>\n",
       "    </tr>\n",
       "    <tr>\n",
       "      <th>2015-09-21</th>\n",
       "      <td>1.995413</td>\n",
       "      <td>-0.012649</td>\n",
       "      <td>2.190934</td>\n",
       "      <td>5</td>\n",
       "      <td>7</td>\n",
       "    </tr>\n",
       "    <tr>\n",
       "      <th>2015-09-22</th>\n",
       "      <td>-0.541776</td>\n",
       "      <td>0.776698</td>\n",
       "      <td>-0.378726</td>\n",
       "      <td>5</td>\n",
       "      <td>8</td>\n",
       "    </tr>\n",
       "    <tr>\n",
       "      <th>2015-09-23</th>\n",
       "      <td>-1.041268</td>\n",
       "      <td>1.651450</td>\n",
       "      <td>0.105150</td>\n",
       "      <td>5</td>\n",
       "      <td>9</td>\n",
       "    </tr>\n",
       "    <tr>\n",
       "      <th>2015-09-24</th>\n",
       "      <td>1.083647</td>\n",
       "      <td>0.943969</td>\n",
       "      <td>-0.069197</td>\n",
       "      <td>5</td>\n",
       "      <td>10</td>\n",
       "    </tr>\n",
       "  </tbody>\n",
       "</table>\n",
       "</div>"
      ],
      "text/plain": [
       "                   A         B         C  D   F\n",
       "2015-09-15  0.000000  0.000000 -1.976928  5   1\n",
       "2015-09-16  0.502520  0.833375  0.775373  5   2\n",
       "2015-09-17 -0.488121 -1.244543 -1.347901  5   3\n",
       "2015-09-18 -2.566650  0.088668 -0.088799  5   4\n",
       "2015-09-19 -0.646067  1.689754  0.129599  5   5\n",
       "2015-09-20 -0.853170 -0.637011 -0.539486  5   6\n",
       "2015-09-21  1.995413 -0.012649  2.190934  5   7\n",
       "2015-09-22 -0.541776  0.776698 -0.378726  5   8\n",
       "2015-09-23 -1.041268  1.651450  0.105150  5   9\n",
       "2015-09-24  1.083647  0.943969 -0.069197  5  10"
      ]
     },
     "execution_count": 61,
     "metadata": {},
     "output_type": "execute_result"
    }
   ],
   "source": [
    "df"
   ]
  },
  {
   "cell_type": "code",
   "execution_count": 62,
   "metadata": {
    "collapsed": true
   },
   "outputs": [],
   "source": [
    "df2 = df.copy()"
   ]
  },
  {
   "cell_type": "code",
   "execution_count": 63,
   "metadata": {
    "collapsed": true
   },
   "outputs": [],
   "source": [
    "df2[df2>0]=-df2"
   ]
  },
  {
   "cell_type": "code",
   "execution_count": 64,
   "metadata": {
    "collapsed": false
   },
   "outputs": [
    {
     "data": {
      "text/html": [
       "<div>\n",
       "<table border=\"1\" class=\"dataframe\">\n",
       "  <thead>\n",
       "    <tr style=\"text-align: right;\">\n",
       "      <th></th>\n",
       "      <th>A</th>\n",
       "      <th>B</th>\n",
       "      <th>C</th>\n",
       "      <th>D</th>\n",
       "      <th>F</th>\n",
       "    </tr>\n",
       "  </thead>\n",
       "  <tbody>\n",
       "    <tr>\n",
       "      <th>2015-09-15</th>\n",
       "      <td>0.000000</td>\n",
       "      <td>0.000000</td>\n",
       "      <td>-1.976928</td>\n",
       "      <td>-5</td>\n",
       "      <td>-1</td>\n",
       "    </tr>\n",
       "    <tr>\n",
       "      <th>2015-09-16</th>\n",
       "      <td>-0.502520</td>\n",
       "      <td>-0.833375</td>\n",
       "      <td>-0.775373</td>\n",
       "      <td>-5</td>\n",
       "      <td>-2</td>\n",
       "    </tr>\n",
       "    <tr>\n",
       "      <th>2015-09-17</th>\n",
       "      <td>-0.488121</td>\n",
       "      <td>-1.244543</td>\n",
       "      <td>-1.347901</td>\n",
       "      <td>-5</td>\n",
       "      <td>-3</td>\n",
       "    </tr>\n",
       "    <tr>\n",
       "      <th>2015-09-18</th>\n",
       "      <td>-2.566650</td>\n",
       "      <td>-0.088668</td>\n",
       "      <td>-0.088799</td>\n",
       "      <td>-5</td>\n",
       "      <td>-4</td>\n",
       "    </tr>\n",
       "    <tr>\n",
       "      <th>2015-09-19</th>\n",
       "      <td>-0.646067</td>\n",
       "      <td>-1.689754</td>\n",
       "      <td>-0.129599</td>\n",
       "      <td>-5</td>\n",
       "      <td>-5</td>\n",
       "    </tr>\n",
       "    <tr>\n",
       "      <th>2015-09-20</th>\n",
       "      <td>-0.853170</td>\n",
       "      <td>-0.637011</td>\n",
       "      <td>-0.539486</td>\n",
       "      <td>-5</td>\n",
       "      <td>-6</td>\n",
       "    </tr>\n",
       "    <tr>\n",
       "      <th>2015-09-21</th>\n",
       "      <td>-1.995413</td>\n",
       "      <td>-0.012649</td>\n",
       "      <td>-2.190934</td>\n",
       "      <td>-5</td>\n",
       "      <td>-7</td>\n",
       "    </tr>\n",
       "    <tr>\n",
       "      <th>2015-09-22</th>\n",
       "      <td>-0.541776</td>\n",
       "      <td>-0.776698</td>\n",
       "      <td>-0.378726</td>\n",
       "      <td>-5</td>\n",
       "      <td>-8</td>\n",
       "    </tr>\n",
       "    <tr>\n",
       "      <th>2015-09-23</th>\n",
       "      <td>-1.041268</td>\n",
       "      <td>-1.651450</td>\n",
       "      <td>-0.105150</td>\n",
       "      <td>-5</td>\n",
       "      <td>-9</td>\n",
       "    </tr>\n",
       "    <tr>\n",
       "      <th>2015-09-24</th>\n",
       "      <td>-1.083647</td>\n",
       "      <td>-0.943969</td>\n",
       "      <td>-0.069197</td>\n",
       "      <td>-5</td>\n",
       "      <td>-10</td>\n",
       "    </tr>\n",
       "  </tbody>\n",
       "</table>\n",
       "</div>"
      ],
      "text/plain": [
       "                   A         B         C  D   F\n",
       "2015-09-15  0.000000  0.000000 -1.976928 -5  -1\n",
       "2015-09-16 -0.502520 -0.833375 -0.775373 -5  -2\n",
       "2015-09-17 -0.488121 -1.244543 -1.347901 -5  -3\n",
       "2015-09-18 -2.566650 -0.088668 -0.088799 -5  -4\n",
       "2015-09-19 -0.646067 -1.689754 -0.129599 -5  -5\n",
       "2015-09-20 -0.853170 -0.637011 -0.539486 -5  -6\n",
       "2015-09-21 -1.995413 -0.012649 -2.190934 -5  -7\n",
       "2015-09-22 -0.541776 -0.776698 -0.378726 -5  -8\n",
       "2015-09-23 -1.041268 -1.651450 -0.105150 -5  -9\n",
       "2015-09-24 -1.083647 -0.943969 -0.069197 -5 -10"
      ]
     },
     "execution_count": 64,
     "metadata": {},
     "output_type": "execute_result"
    }
   ],
   "source": [
    "df2"
   ]
  },
  {
   "cell_type": "code",
   "execution_count": 65,
   "metadata": {
    "collapsed": true
   },
   "outputs": [],
   "source": [
    "df1=df.reindex(index=dates[0:4], columns=list(df.columns)+['E'])"
   ]
  },
  {
   "cell_type": "code",
   "execution_count": 66,
   "metadata": {
    "collapsed": true
   },
   "outputs": [],
   "source": [
    "df1.loc[dates[0]:dates[1],'E'] =1"
   ]
  },
  {
   "cell_type": "code",
   "execution_count": 67,
   "metadata": {
    "collapsed": false
   },
   "outputs": [
    {
     "data": {
      "text/html": [
       "<div>\n",
       "<table border=\"1\" class=\"dataframe\">\n",
       "  <thead>\n",
       "    <tr style=\"text-align: right;\">\n",
       "      <th></th>\n",
       "      <th>A</th>\n",
       "      <th>B</th>\n",
       "      <th>C</th>\n",
       "      <th>D</th>\n",
       "      <th>F</th>\n",
       "      <th>E</th>\n",
       "    </tr>\n",
       "  </thead>\n",
       "  <tbody>\n",
       "    <tr>\n",
       "      <th>2015-09-15</th>\n",
       "      <td>0.000000</td>\n",
       "      <td>0.000000</td>\n",
       "      <td>-1.976928</td>\n",
       "      <td>5</td>\n",
       "      <td>1</td>\n",
       "      <td>1</td>\n",
       "    </tr>\n",
       "    <tr>\n",
       "      <th>2015-09-16</th>\n",
       "      <td>0.502520</td>\n",
       "      <td>0.833375</td>\n",
       "      <td>0.775373</td>\n",
       "      <td>5</td>\n",
       "      <td>2</td>\n",
       "      <td>1</td>\n",
       "    </tr>\n",
       "    <tr>\n",
       "      <th>2015-09-17</th>\n",
       "      <td>-0.488121</td>\n",
       "      <td>-1.244543</td>\n",
       "      <td>-1.347901</td>\n",
       "      <td>5</td>\n",
       "      <td>3</td>\n",
       "      <td>NaN</td>\n",
       "    </tr>\n",
       "    <tr>\n",
       "      <th>2015-09-18</th>\n",
       "      <td>-2.566650</td>\n",
       "      <td>0.088668</td>\n",
       "      <td>-0.088799</td>\n",
       "      <td>5</td>\n",
       "      <td>4</td>\n",
       "      <td>NaN</td>\n",
       "    </tr>\n",
       "  </tbody>\n",
       "</table>\n",
       "</div>"
      ],
      "text/plain": [
       "                   A         B         C  D  F   E\n",
       "2015-09-15  0.000000  0.000000 -1.976928  5  1   1\n",
       "2015-09-16  0.502520  0.833375  0.775373  5  2   1\n",
       "2015-09-17 -0.488121 -1.244543 -1.347901  5  3 NaN\n",
       "2015-09-18 -2.566650  0.088668 -0.088799  5  4 NaN"
      ]
     },
     "execution_count": 67,
     "metadata": {},
     "output_type": "execute_result"
    }
   ],
   "source": [
    "df1"
   ]
  },
  {
   "cell_type": "code",
   "execution_count": 68,
   "metadata": {
    "collapsed": false
   },
   "outputs": [
    {
     "data": {
      "text/html": [
       "<div>\n",
       "<table border=\"1\" class=\"dataframe\">\n",
       "  <thead>\n",
       "    <tr style=\"text-align: right;\">\n",
       "      <th></th>\n",
       "      <th>A</th>\n",
       "      <th>B</th>\n",
       "      <th>C</th>\n",
       "      <th>D</th>\n",
       "      <th>F</th>\n",
       "      <th>E</th>\n",
       "    </tr>\n",
       "  </thead>\n",
       "  <tbody>\n",
       "    <tr>\n",
       "      <th>2015-09-15</th>\n",
       "      <td>0.00000</td>\n",
       "      <td>0.000000</td>\n",
       "      <td>-1.976928</td>\n",
       "      <td>5</td>\n",
       "      <td>1</td>\n",
       "      <td>1</td>\n",
       "    </tr>\n",
       "    <tr>\n",
       "      <th>2015-09-16</th>\n",
       "      <td>0.50252</td>\n",
       "      <td>0.833375</td>\n",
       "      <td>0.775373</td>\n",
       "      <td>5</td>\n",
       "      <td>2</td>\n",
       "      <td>1</td>\n",
       "    </tr>\n",
       "  </tbody>\n",
       "</table>\n",
       "</div>"
      ],
      "text/plain": [
       "                  A         B         C  D  F  E\n",
       "2015-09-15  0.00000  0.000000 -1.976928  5  1  1\n",
       "2015-09-16  0.50252  0.833375  0.775373  5  2  1"
      ]
     },
     "execution_count": 68,
     "metadata": {},
     "output_type": "execute_result"
    }
   ],
   "source": [
    "df1.dropna(how='any')"
   ]
  },
  {
   "cell_type": "code",
   "execution_count": 69,
   "metadata": {
    "collapsed": false
   },
   "outputs": [
    {
     "data": {
      "text/html": [
       "<div>\n",
       "<table border=\"1\" class=\"dataframe\">\n",
       "  <thead>\n",
       "    <tr style=\"text-align: right;\">\n",
       "      <th></th>\n",
       "      <th>A</th>\n",
       "      <th>B</th>\n",
       "      <th>C</th>\n",
       "      <th>D</th>\n",
       "      <th>F</th>\n",
       "      <th>E</th>\n",
       "    </tr>\n",
       "  </thead>\n",
       "  <tbody>\n",
       "    <tr>\n",
       "      <th>2015-09-15</th>\n",
       "      <td>0.000000</td>\n",
       "      <td>0.000000</td>\n",
       "      <td>-1.976928</td>\n",
       "      <td>5</td>\n",
       "      <td>1</td>\n",
       "      <td>1</td>\n",
       "    </tr>\n",
       "    <tr>\n",
       "      <th>2015-09-16</th>\n",
       "      <td>0.502520</td>\n",
       "      <td>0.833375</td>\n",
       "      <td>0.775373</td>\n",
       "      <td>5</td>\n",
       "      <td>2</td>\n",
       "      <td>1</td>\n",
       "    </tr>\n",
       "    <tr>\n",
       "      <th>2015-09-17</th>\n",
       "      <td>-0.488121</td>\n",
       "      <td>-1.244543</td>\n",
       "      <td>-1.347901</td>\n",
       "      <td>5</td>\n",
       "      <td>3</td>\n",
       "      <td>5</td>\n",
       "    </tr>\n",
       "    <tr>\n",
       "      <th>2015-09-18</th>\n",
       "      <td>-2.566650</td>\n",
       "      <td>0.088668</td>\n",
       "      <td>-0.088799</td>\n",
       "      <td>5</td>\n",
       "      <td>4</td>\n",
       "      <td>5</td>\n",
       "    </tr>\n",
       "  </tbody>\n",
       "</table>\n",
       "</div>"
      ],
      "text/plain": [
       "                   A         B         C  D  F  E\n",
       "2015-09-15  0.000000  0.000000 -1.976928  5  1  1\n",
       "2015-09-16  0.502520  0.833375  0.775373  5  2  1\n",
       "2015-09-17 -0.488121 -1.244543 -1.347901  5  3  5\n",
       "2015-09-18 -2.566650  0.088668 -0.088799  5  4  5"
      ]
     },
     "execution_count": 69,
     "metadata": {},
     "output_type": "execute_result"
    }
   ],
   "source": [
    "df1.fillna(value=5)"
   ]
  },
  {
   "cell_type": "code",
   "execution_count": 70,
   "metadata": {
    "collapsed": false
   },
   "outputs": [
    {
     "data": {
      "text/html": [
       "<div>\n",
       "<table border=\"1\" class=\"dataframe\">\n",
       "  <thead>\n",
       "    <tr style=\"text-align: right;\">\n",
       "      <th></th>\n",
       "      <th>A</th>\n",
       "      <th>B</th>\n",
       "      <th>C</th>\n",
       "      <th>D</th>\n",
       "      <th>F</th>\n",
       "      <th>E</th>\n",
       "    </tr>\n",
       "  </thead>\n",
       "  <tbody>\n",
       "    <tr>\n",
       "      <th>2015-09-15</th>\n",
       "      <td>False</td>\n",
       "      <td>False</td>\n",
       "      <td>False</td>\n",
       "      <td>False</td>\n",
       "      <td>False</td>\n",
       "      <td>False</td>\n",
       "    </tr>\n",
       "    <tr>\n",
       "      <th>2015-09-16</th>\n",
       "      <td>False</td>\n",
       "      <td>False</td>\n",
       "      <td>False</td>\n",
       "      <td>False</td>\n",
       "      <td>False</td>\n",
       "      <td>False</td>\n",
       "    </tr>\n",
       "    <tr>\n",
       "      <th>2015-09-17</th>\n",
       "      <td>False</td>\n",
       "      <td>False</td>\n",
       "      <td>False</td>\n",
       "      <td>False</td>\n",
       "      <td>False</td>\n",
       "      <td>True</td>\n",
       "    </tr>\n",
       "    <tr>\n",
       "      <th>2015-09-18</th>\n",
       "      <td>False</td>\n",
       "      <td>False</td>\n",
       "      <td>False</td>\n",
       "      <td>False</td>\n",
       "      <td>False</td>\n",
       "      <td>True</td>\n",
       "    </tr>\n",
       "  </tbody>\n",
       "</table>\n",
       "</div>"
      ],
      "text/plain": [
       "                A      B      C      D      F      E\n",
       "2015-09-15  False  False  False  False  False  False\n",
       "2015-09-16  False  False  False  False  False  False\n",
       "2015-09-17  False  False  False  False  False   True\n",
       "2015-09-18  False  False  False  False  False   True"
      ]
     },
     "execution_count": 70,
     "metadata": {},
     "output_type": "execute_result"
    }
   ],
   "source": [
    "pd.isnull(df1)"
   ]
  },
  {
   "cell_type": "code",
   "execution_count": 71,
   "metadata": {
    "collapsed": false
   },
   "outputs": [
    {
     "data": {
      "text/plain": [
       "A   -0.255547\n",
       "B    0.408971\n",
       "C   -0.119998\n",
       "D    5.000000\n",
       "F    5.500000\n",
       "dtype: float64"
      ]
     },
     "execution_count": 71,
     "metadata": {},
     "output_type": "execute_result"
    }
   ],
   "source": [
    "df.mean()"
   ]
  },
  {
   "cell_type": "code",
   "execution_count": 72,
   "metadata": {
    "collapsed": false
   },
   "outputs": [
    {
     "data": {
      "text/plain": [
       "2015-09-15    0.804614\n",
       "2015-09-16    1.822254\n",
       "2015-09-17    0.983887\n",
       "2015-09-18    1.286644\n",
       "2015-09-19    2.234657\n",
       "2015-09-20    1.794067\n",
       "2015-09-21    3.234740\n",
       "2015-09-22    2.571239\n",
       "2015-09-23    2.943066\n",
       "2015-09-24    3.391684\n",
       "Freq: D, dtype: float64"
      ]
     },
     "execution_count": 72,
     "metadata": {},
     "output_type": "execute_result"
    }
   ],
   "source": [
    "df.mean(1)"
   ]
  },
  {
   "cell_type": "code",
   "execution_count": 76,
   "metadata": {
    "collapsed": false
   },
   "outputs": [],
   "source": [
    "s=pd.Series([1,3,5,np.nan,6,8,9,10,11,12], index=dates).shift(2)"
   ]
  },
  {
   "cell_type": "code",
   "execution_count": 77,
   "metadata": {
    "collapsed": false
   },
   "outputs": [
    {
     "data": {
      "text/plain": [
       "2015-09-15   NaN\n",
       "2015-09-16   NaN\n",
       "2015-09-17     1\n",
       "2015-09-18     3\n",
       "2015-09-19     5\n",
       "2015-09-20   NaN\n",
       "2015-09-21     6\n",
       "2015-09-22     8\n",
       "2015-09-23     9\n",
       "2015-09-24    10\n",
       "Freq: D, dtype: float64"
      ]
     },
     "execution_count": 77,
     "metadata": {},
     "output_type": "execute_result"
    }
   ],
   "source": [
    "s"
   ]
  },
  {
   "cell_type": "code",
   "execution_count": 78,
   "metadata": {
    "collapsed": false
   },
   "outputs": [
    {
     "data": {
      "text/html": [
       "<div>\n",
       "<table border=\"1\" class=\"dataframe\">\n",
       "  <thead>\n",
       "    <tr style=\"text-align: right;\">\n",
       "      <th></th>\n",
       "      <th>A</th>\n",
       "      <th>B</th>\n",
       "      <th>C</th>\n",
       "      <th>D</th>\n",
       "      <th>F</th>\n",
       "    </tr>\n",
       "  </thead>\n",
       "  <tbody>\n",
       "    <tr>\n",
       "      <th>2015-09-15</th>\n",
       "      <td>NaN</td>\n",
       "      <td>NaN</td>\n",
       "      <td>NaN</td>\n",
       "      <td>NaN</td>\n",
       "      <td>NaN</td>\n",
       "    </tr>\n",
       "    <tr>\n",
       "      <th>2015-09-16</th>\n",
       "      <td>NaN</td>\n",
       "      <td>NaN</td>\n",
       "      <td>NaN</td>\n",
       "      <td>NaN</td>\n",
       "      <td>NaN</td>\n",
       "    </tr>\n",
       "    <tr>\n",
       "      <th>2015-09-17</th>\n",
       "      <td>-1.488121</td>\n",
       "      <td>-2.244543</td>\n",
       "      <td>-2.347901</td>\n",
       "      <td>4</td>\n",
       "      <td>2</td>\n",
       "    </tr>\n",
       "    <tr>\n",
       "      <th>2015-09-18</th>\n",
       "      <td>-5.566650</td>\n",
       "      <td>-2.911332</td>\n",
       "      <td>-3.088799</td>\n",
       "      <td>2</td>\n",
       "      <td>1</td>\n",
       "    </tr>\n",
       "    <tr>\n",
       "      <th>2015-09-19</th>\n",
       "      <td>-5.646067</td>\n",
       "      <td>-3.310246</td>\n",
       "      <td>-4.870401</td>\n",
       "      <td>0</td>\n",
       "      <td>0</td>\n",
       "    </tr>\n",
       "    <tr>\n",
       "      <th>2015-09-20</th>\n",
       "      <td>NaN</td>\n",
       "      <td>NaN</td>\n",
       "      <td>NaN</td>\n",
       "      <td>NaN</td>\n",
       "      <td>NaN</td>\n",
       "    </tr>\n",
       "    <tr>\n",
       "      <th>2015-09-21</th>\n",
       "      <td>-4.004587</td>\n",
       "      <td>-6.012649</td>\n",
       "      <td>-3.809066</td>\n",
       "      <td>-1</td>\n",
       "      <td>1</td>\n",
       "    </tr>\n",
       "    <tr>\n",
       "      <th>2015-09-22</th>\n",
       "      <td>-8.541776</td>\n",
       "      <td>-7.223302</td>\n",
       "      <td>-8.378726</td>\n",
       "      <td>-3</td>\n",
       "      <td>0</td>\n",
       "    </tr>\n",
       "    <tr>\n",
       "      <th>2015-09-23</th>\n",
       "      <td>-10.041268</td>\n",
       "      <td>-7.348550</td>\n",
       "      <td>-8.894850</td>\n",
       "      <td>-4</td>\n",
       "      <td>0</td>\n",
       "    </tr>\n",
       "    <tr>\n",
       "      <th>2015-09-24</th>\n",
       "      <td>-8.916353</td>\n",
       "      <td>-9.056031</td>\n",
       "      <td>-10.069197</td>\n",
       "      <td>-5</td>\n",
       "      <td>0</td>\n",
       "    </tr>\n",
       "  </tbody>\n",
       "</table>\n",
       "</div>"
      ],
      "text/plain": [
       "                    A         B          C   D   F\n",
       "2015-09-15        NaN       NaN        NaN NaN NaN\n",
       "2015-09-16        NaN       NaN        NaN NaN NaN\n",
       "2015-09-17  -1.488121 -2.244543  -2.347901   4   2\n",
       "2015-09-18  -5.566650 -2.911332  -3.088799   2   1\n",
       "2015-09-19  -5.646067 -3.310246  -4.870401   0   0\n",
       "2015-09-20        NaN       NaN        NaN NaN NaN\n",
       "2015-09-21  -4.004587 -6.012649  -3.809066  -1   1\n",
       "2015-09-22  -8.541776 -7.223302  -8.378726  -3   0\n",
       "2015-09-23 -10.041268 -7.348550  -8.894850  -4   0\n",
       "2015-09-24  -8.916353 -9.056031 -10.069197  -5   0"
      ]
     },
     "execution_count": 78,
     "metadata": {},
     "output_type": "execute_result"
    }
   ],
   "source": [
    "df.sub(s, axis='index')"
   ]
  },
  {
   "cell_type": "code",
   "execution_count": 79,
   "metadata": {
    "collapsed": false
   },
   "outputs": [
    {
     "data": {
      "text/html": [
       "<div>\n",
       "<table border=\"1\" class=\"dataframe\">\n",
       "  <thead>\n",
       "    <tr style=\"text-align: right;\">\n",
       "      <th></th>\n",
       "      <th>A</th>\n",
       "      <th>B</th>\n",
       "      <th>C</th>\n",
       "      <th>D</th>\n",
       "      <th>F</th>\n",
       "    </tr>\n",
       "  </thead>\n",
       "  <tbody>\n",
       "    <tr>\n",
       "      <th>2015-09-15</th>\n",
       "      <td>0.000000</td>\n",
       "      <td>0.000000</td>\n",
       "      <td>-1.976928</td>\n",
       "      <td>5</td>\n",
       "      <td>1</td>\n",
       "    </tr>\n",
       "    <tr>\n",
       "      <th>2015-09-16</th>\n",
       "      <td>0.502520</td>\n",
       "      <td>0.833375</td>\n",
       "      <td>-1.201555</td>\n",
       "      <td>10</td>\n",
       "      <td>3</td>\n",
       "    </tr>\n",
       "    <tr>\n",
       "      <th>2015-09-17</th>\n",
       "      <td>0.014399</td>\n",
       "      <td>-0.411168</td>\n",
       "      <td>-2.549456</td>\n",
       "      <td>15</td>\n",
       "      <td>6</td>\n",
       "    </tr>\n",
       "    <tr>\n",
       "      <th>2015-09-18</th>\n",
       "      <td>-2.552251</td>\n",
       "      <td>-0.322500</td>\n",
       "      <td>-2.638255</td>\n",
       "      <td>20</td>\n",
       "      <td>10</td>\n",
       "    </tr>\n",
       "    <tr>\n",
       "      <th>2015-09-19</th>\n",
       "      <td>-3.198318</td>\n",
       "      <td>1.367254</td>\n",
       "      <td>-2.508656</td>\n",
       "      <td>25</td>\n",
       "      <td>15</td>\n",
       "    </tr>\n",
       "    <tr>\n",
       "      <th>2015-09-20</th>\n",
       "      <td>-4.051488</td>\n",
       "      <td>0.730242</td>\n",
       "      <td>-3.048142</td>\n",
       "      <td>30</td>\n",
       "      <td>21</td>\n",
       "    </tr>\n",
       "    <tr>\n",
       "      <th>2015-09-21</th>\n",
       "      <td>-2.056075</td>\n",
       "      <td>0.717593</td>\n",
       "      <td>-0.857208</td>\n",
       "      <td>35</td>\n",
       "      <td>28</td>\n",
       "    </tr>\n",
       "    <tr>\n",
       "      <th>2015-09-22</th>\n",
       "      <td>-2.597851</td>\n",
       "      <td>1.494291</td>\n",
       "      <td>-1.235934</td>\n",
       "      <td>40</td>\n",
       "      <td>36</td>\n",
       "    </tr>\n",
       "    <tr>\n",
       "      <th>2015-09-23</th>\n",
       "      <td>-3.639119</td>\n",
       "      <td>3.145740</td>\n",
       "      <td>-1.130784</td>\n",
       "      <td>45</td>\n",
       "      <td>45</td>\n",
       "    </tr>\n",
       "    <tr>\n",
       "      <th>2015-09-24</th>\n",
       "      <td>-2.555472</td>\n",
       "      <td>4.089709</td>\n",
       "      <td>-1.199981</td>\n",
       "      <td>50</td>\n",
       "      <td>55</td>\n",
       "    </tr>\n",
       "  </tbody>\n",
       "</table>\n",
       "</div>"
      ],
      "text/plain": [
       "                   A         B         C   D   F\n",
       "2015-09-15  0.000000  0.000000 -1.976928   5   1\n",
       "2015-09-16  0.502520  0.833375 -1.201555  10   3\n",
       "2015-09-17  0.014399 -0.411168 -2.549456  15   6\n",
       "2015-09-18 -2.552251 -0.322500 -2.638255  20  10\n",
       "2015-09-19 -3.198318  1.367254 -2.508656  25  15\n",
       "2015-09-20 -4.051488  0.730242 -3.048142  30  21\n",
       "2015-09-21 -2.056075  0.717593 -0.857208  35  28\n",
       "2015-09-22 -2.597851  1.494291 -1.235934  40  36\n",
       "2015-09-23 -3.639119  3.145740 -1.130784  45  45\n",
       "2015-09-24 -2.555472  4.089709 -1.199981  50  55"
      ]
     },
     "execution_count": 79,
     "metadata": {},
     "output_type": "execute_result"
    }
   ],
   "source": [
    "df.apply(np.cumsum)"
   ]
  },
  {
   "cell_type": "code",
   "execution_count": 80,
   "metadata": {
    "collapsed": false
   },
   "outputs": [
    {
     "data": {
      "text/plain": [
       "A    4.562063\n",
       "B    2.934297\n",
       "C    4.167862\n",
       "D    0.000000\n",
       "F    9.000000\n",
       "dtype: float64"
      ]
     },
     "execution_count": 80,
     "metadata": {},
     "output_type": "execute_result"
    }
   ],
   "source": [
    "df.apply(lambda x:x.max()-x.min())"
   ]
  },
  {
   "cell_type": "code",
   "execution_count": 82,
   "metadata": {
    "collapsed": false
   },
   "outputs": [],
   "source": [
    "s=pd.Series(np.random.randint(0,7,size=10))"
   ]
  },
  {
   "cell_type": "code",
   "execution_count": 83,
   "metadata": {
    "collapsed": false
   },
   "outputs": [
    {
     "data": {
      "text/plain": [
       "0    0\n",
       "1    6\n",
       "2    5\n",
       "3    5\n",
       "4    3\n",
       "5    0\n",
       "6    6\n",
       "7    1\n",
       "8    2\n",
       "9    0\n",
       "dtype: int32"
      ]
     },
     "execution_count": 83,
     "metadata": {},
     "output_type": "execute_result"
    }
   ],
   "source": [
    "s"
   ]
  },
  {
   "cell_type": "code",
   "execution_count": 85,
   "metadata": {
    "collapsed": false
   },
   "outputs": [
    {
     "data": {
      "text/plain": [
       "0    3\n",
       "6    2\n",
       "5    2\n",
       "3    1\n",
       "2    1\n",
       "1    1\n",
       "dtype: int64"
      ]
     },
     "execution_count": 85,
     "metadata": {},
     "output_type": "execute_result"
    }
   ],
   "source": [
    "s.value_counts()"
   ]
  },
  {
   "cell_type": "code",
   "execution_count": 86,
   "metadata": {
    "collapsed": true
   },
   "outputs": [],
   "source": [
    "s=pd.Series(['A', 'B', 'C', 'Aaba', 'Baca', np.nan, 'CABA', 'dog', 'cat'])"
   ]
  },
  {
   "cell_type": "code",
   "execution_count": 87,
   "metadata": {
    "collapsed": false
   },
   "outputs": [
    {
     "data": {
      "text/plain": [
       "0       a\n",
       "1       b\n",
       "2       c\n",
       "3    aaba\n",
       "4    baca\n",
       "5     NaN\n",
       "6    caba\n",
       "7     dog\n",
       "8     cat\n",
       "dtype: object"
      ]
     },
     "execution_count": 87,
     "metadata": {},
     "output_type": "execute_result"
    }
   ],
   "source": [
    "s.str.lower()"
   ]
  },
  {
   "cell_type": "code",
   "execution_count": 89,
   "metadata": {
    "collapsed": false
   },
   "outputs": [],
   "source": [
    "df = pd.DataFrame(np.random.randn(10,4))"
   ]
  },
  {
   "cell_type": "code",
   "execution_count": 91,
   "metadata": {
    "collapsed": false
   },
   "outputs": [
    {
     "data": {
      "text/html": [
       "<div>\n",
       "<table border=\"1\" class=\"dataframe\">\n",
       "  <thead>\n",
       "    <tr style=\"text-align: right;\">\n",
       "      <th></th>\n",
       "      <th>0</th>\n",
       "      <th>1</th>\n",
       "      <th>2</th>\n",
       "      <th>3</th>\n",
       "    </tr>\n",
       "  </thead>\n",
       "  <tbody>\n",
       "    <tr>\n",
       "      <th>0</th>\n",
       "      <td>1.295064</td>\n",
       "      <td>-0.566465</td>\n",
       "      <td>0.569482</td>\n",
       "      <td>-1.920801</td>\n",
       "    </tr>\n",
       "    <tr>\n",
       "      <th>1</th>\n",
       "      <td>-0.009580</td>\n",
       "      <td>0.966975</td>\n",
       "      <td>-0.281013</td>\n",
       "      <td>-1.387794</td>\n",
       "    </tr>\n",
       "    <tr>\n",
       "      <th>2</th>\n",
       "      <td>-1.263127</td>\n",
       "      <td>-1.673469</td>\n",
       "      <td>1.670629</td>\n",
       "      <td>-0.446039</td>\n",
       "    </tr>\n",
       "    <tr>\n",
       "      <th>3</th>\n",
       "      <td>-1.292838</td>\n",
       "      <td>2.785170</td>\n",
       "      <td>-0.012878</td>\n",
       "      <td>-1.473696</td>\n",
       "    </tr>\n",
       "    <tr>\n",
       "      <th>4</th>\n",
       "      <td>-0.125830</td>\n",
       "      <td>-1.955624</td>\n",
       "      <td>-0.374836</td>\n",
       "      <td>0.308053</td>\n",
       "    </tr>\n",
       "    <tr>\n",
       "      <th>5</th>\n",
       "      <td>-1.185894</td>\n",
       "      <td>0.639222</td>\n",
       "      <td>-1.700936</td>\n",
       "      <td>0.342435</td>\n",
       "    </tr>\n",
       "    <tr>\n",
       "      <th>6</th>\n",
       "      <td>0.336625</td>\n",
       "      <td>0.945508</td>\n",
       "      <td>-1.071077</td>\n",
       "      <td>0.159995</td>\n",
       "    </tr>\n",
       "    <tr>\n",
       "      <th>7</th>\n",
       "      <td>2.451163</td>\n",
       "      <td>-1.091312</td>\n",
       "      <td>1.096052</td>\n",
       "      <td>2.080091</td>\n",
       "    </tr>\n",
       "    <tr>\n",
       "      <th>8</th>\n",
       "      <td>0.060610</td>\n",
       "      <td>-0.447029</td>\n",
       "      <td>-1.134748</td>\n",
       "      <td>-1.845262</td>\n",
       "    </tr>\n",
       "    <tr>\n",
       "      <th>9</th>\n",
       "      <td>-0.354174</td>\n",
       "      <td>-0.539807</td>\n",
       "      <td>0.844915</td>\n",
       "      <td>-0.954625</td>\n",
       "    </tr>\n",
       "  </tbody>\n",
       "</table>\n",
       "</div>"
      ],
      "text/plain": [
       "          0         1         2         3\n",
       "0  1.295064 -0.566465  0.569482 -1.920801\n",
       "1 -0.009580  0.966975 -0.281013 -1.387794\n",
       "2 -1.263127 -1.673469  1.670629 -0.446039\n",
       "3 -1.292838  2.785170 -0.012878 -1.473696\n",
       "4 -0.125830 -1.955624 -0.374836  0.308053\n",
       "5 -1.185894  0.639222 -1.700936  0.342435\n",
       "6  0.336625  0.945508 -1.071077  0.159995\n",
       "7  2.451163 -1.091312  1.096052  2.080091\n",
       "8  0.060610 -0.447029 -1.134748 -1.845262\n",
       "9 -0.354174 -0.539807  0.844915 -0.954625"
      ]
     },
     "execution_count": 91,
     "metadata": {},
     "output_type": "execute_result"
    }
   ],
   "source": [
    "df"
   ]
  },
  {
   "cell_type": "code",
   "execution_count": 92,
   "metadata": {
    "collapsed": true
   },
   "outputs": [],
   "source": [
    "pieces = [df[:3], df[3:7], df[7:]]"
   ]
  },
  {
   "cell_type": "code",
   "execution_count": 93,
   "metadata": {
    "collapsed": false
   },
   "outputs": [
    {
     "data": {
      "text/html": [
       "<div>\n",
       "<table border=\"1\" class=\"dataframe\">\n",
       "  <thead>\n",
       "    <tr style=\"text-align: right;\">\n",
       "      <th></th>\n",
       "      <th>0</th>\n",
       "      <th>1</th>\n",
       "      <th>2</th>\n",
       "      <th>3</th>\n",
       "    </tr>\n",
       "  </thead>\n",
       "  <tbody>\n",
       "    <tr>\n",
       "      <th>0</th>\n",
       "      <td>1.295064</td>\n",
       "      <td>-0.566465</td>\n",
       "      <td>0.569482</td>\n",
       "      <td>-1.920801</td>\n",
       "    </tr>\n",
       "    <tr>\n",
       "      <th>1</th>\n",
       "      <td>-0.009580</td>\n",
       "      <td>0.966975</td>\n",
       "      <td>-0.281013</td>\n",
       "      <td>-1.387794</td>\n",
       "    </tr>\n",
       "    <tr>\n",
       "      <th>2</th>\n",
       "      <td>-1.263127</td>\n",
       "      <td>-1.673469</td>\n",
       "      <td>1.670629</td>\n",
       "      <td>-0.446039</td>\n",
       "    </tr>\n",
       "    <tr>\n",
       "      <th>3</th>\n",
       "      <td>-1.292838</td>\n",
       "      <td>2.785170</td>\n",
       "      <td>-0.012878</td>\n",
       "      <td>-1.473696</td>\n",
       "    </tr>\n",
       "    <tr>\n",
       "      <th>4</th>\n",
       "      <td>-0.125830</td>\n",
       "      <td>-1.955624</td>\n",
       "      <td>-0.374836</td>\n",
       "      <td>0.308053</td>\n",
       "    </tr>\n",
       "    <tr>\n",
       "      <th>5</th>\n",
       "      <td>-1.185894</td>\n",
       "      <td>0.639222</td>\n",
       "      <td>-1.700936</td>\n",
       "      <td>0.342435</td>\n",
       "    </tr>\n",
       "    <tr>\n",
       "      <th>6</th>\n",
       "      <td>0.336625</td>\n",
       "      <td>0.945508</td>\n",
       "      <td>-1.071077</td>\n",
       "      <td>0.159995</td>\n",
       "    </tr>\n",
       "    <tr>\n",
       "      <th>7</th>\n",
       "      <td>2.451163</td>\n",
       "      <td>-1.091312</td>\n",
       "      <td>1.096052</td>\n",
       "      <td>2.080091</td>\n",
       "    </tr>\n",
       "    <tr>\n",
       "      <th>8</th>\n",
       "      <td>0.060610</td>\n",
       "      <td>-0.447029</td>\n",
       "      <td>-1.134748</td>\n",
       "      <td>-1.845262</td>\n",
       "    </tr>\n",
       "    <tr>\n",
       "      <th>9</th>\n",
       "      <td>-0.354174</td>\n",
       "      <td>-0.539807</td>\n",
       "      <td>0.844915</td>\n",
       "      <td>-0.954625</td>\n",
       "    </tr>\n",
       "  </tbody>\n",
       "</table>\n",
       "</div>"
      ],
      "text/plain": [
       "          0         1         2         3\n",
       "0  1.295064 -0.566465  0.569482 -1.920801\n",
       "1 -0.009580  0.966975 -0.281013 -1.387794\n",
       "2 -1.263127 -1.673469  1.670629 -0.446039\n",
       "3 -1.292838  2.785170 -0.012878 -1.473696\n",
       "4 -0.125830 -1.955624 -0.374836  0.308053\n",
       "5 -1.185894  0.639222 -1.700936  0.342435\n",
       "6  0.336625  0.945508 -1.071077  0.159995\n",
       "7  2.451163 -1.091312  1.096052  2.080091\n",
       "8  0.060610 -0.447029 -1.134748 -1.845262\n",
       "9 -0.354174 -0.539807  0.844915 -0.954625"
      ]
     },
     "execution_count": 93,
     "metadata": {},
     "output_type": "execute_result"
    }
   ],
   "source": [
    "pd.concat(pieces)"
   ]
  },
  {
   "cell_type": "code",
   "execution_count": 94,
   "metadata": {
    "collapsed": true
   },
   "outputs": [],
   "source": [
    "left = pd.DataFrame({'key':['foo', 'foo'], 'lval':[1,2]})"
   ]
  },
  {
   "cell_type": "code",
   "execution_count": 95,
   "metadata": {
    "collapsed": true
   },
   "outputs": [],
   "source": [
    "right = pd.DataFrame({'key':['foo', 'foo'], 'rval':[4,5]})"
   ]
  },
  {
   "cell_type": "code",
   "execution_count": 96,
   "metadata": {
    "collapsed": false
   },
   "outputs": [
    {
     "data": {
      "text/html": [
       "<div>\n",
       "<table border=\"1\" class=\"dataframe\">\n",
       "  <thead>\n",
       "    <tr style=\"text-align: right;\">\n",
       "      <th></th>\n",
       "      <th>key</th>\n",
       "      <th>lval</th>\n",
       "    </tr>\n",
       "  </thead>\n",
       "  <tbody>\n",
       "    <tr>\n",
       "      <th>0</th>\n",
       "      <td>foo</td>\n",
       "      <td>1</td>\n",
       "    </tr>\n",
       "    <tr>\n",
       "      <th>1</th>\n",
       "      <td>foo</td>\n",
       "      <td>2</td>\n",
       "    </tr>\n",
       "  </tbody>\n",
       "</table>\n",
       "</div>"
      ],
      "text/plain": [
       "   key  lval\n",
       "0  foo     1\n",
       "1  foo     2"
      ]
     },
     "execution_count": 96,
     "metadata": {},
     "output_type": "execute_result"
    }
   ],
   "source": [
    "left"
   ]
  },
  {
   "cell_type": "code",
   "execution_count": 97,
   "metadata": {
    "collapsed": false
   },
   "outputs": [
    {
     "data": {
      "text/html": [
       "<div>\n",
       "<table border=\"1\" class=\"dataframe\">\n",
       "  <thead>\n",
       "    <tr style=\"text-align: right;\">\n",
       "      <th></th>\n",
       "      <th>key</th>\n",
       "      <th>rval</th>\n",
       "    </tr>\n",
       "  </thead>\n",
       "  <tbody>\n",
       "    <tr>\n",
       "      <th>0</th>\n",
       "      <td>foo</td>\n",
       "      <td>4</td>\n",
       "    </tr>\n",
       "    <tr>\n",
       "      <th>1</th>\n",
       "      <td>foo</td>\n",
       "      <td>5</td>\n",
       "    </tr>\n",
       "  </tbody>\n",
       "</table>\n",
       "</div>"
      ],
      "text/plain": [
       "   key  rval\n",
       "0  foo     4\n",
       "1  foo     5"
      ]
     },
     "execution_count": 97,
     "metadata": {},
     "output_type": "execute_result"
    }
   ],
   "source": [
    "right"
   ]
  },
  {
   "cell_type": "code",
   "execution_count": 98,
   "metadata": {
    "collapsed": false
   },
   "outputs": [
    {
     "data": {
      "text/html": [
       "<div>\n",
       "<table border=\"1\" class=\"dataframe\">\n",
       "  <thead>\n",
       "    <tr style=\"text-align: right;\">\n",
       "      <th></th>\n",
       "      <th>key</th>\n",
       "      <th>lval</th>\n",
       "      <th>rval</th>\n",
       "    </tr>\n",
       "  </thead>\n",
       "  <tbody>\n",
       "    <tr>\n",
       "      <th>0</th>\n",
       "      <td>foo</td>\n",
       "      <td>1</td>\n",
       "      <td>4</td>\n",
       "    </tr>\n",
       "    <tr>\n",
       "      <th>1</th>\n",
       "      <td>foo</td>\n",
       "      <td>1</td>\n",
       "      <td>5</td>\n",
       "    </tr>\n",
       "    <tr>\n",
       "      <th>2</th>\n",
       "      <td>foo</td>\n",
       "      <td>2</td>\n",
       "      <td>4</td>\n",
       "    </tr>\n",
       "    <tr>\n",
       "      <th>3</th>\n",
       "      <td>foo</td>\n",
       "      <td>2</td>\n",
       "      <td>5</td>\n",
       "    </tr>\n",
       "  </tbody>\n",
       "</table>\n",
       "</div>"
      ],
      "text/plain": [
       "   key  lval  rval\n",
       "0  foo     1     4\n",
       "1  foo     1     5\n",
       "2  foo     2     4\n",
       "3  foo     2     5"
      ]
     },
     "execution_count": 98,
     "metadata": {},
     "output_type": "execute_result"
    }
   ],
   "source": [
    "pd.merge(left, right, on='key')"
   ]
  },
  {
   "cell_type": "code",
   "execution_count": 99,
   "metadata": {
    "collapsed": true
   },
   "outputs": [],
   "source": [
    "df = pd.DataFrame(np.random.randn(8,4), columns=['A','B','C','D'])"
   ]
  },
  {
   "cell_type": "code",
   "execution_count": 100,
   "metadata": {
    "collapsed": false
   },
   "outputs": [
    {
     "data": {
      "text/html": [
       "<div>\n",
       "<table border=\"1\" class=\"dataframe\">\n",
       "  <thead>\n",
       "    <tr style=\"text-align: right;\">\n",
       "      <th></th>\n",
       "      <th>A</th>\n",
       "      <th>B</th>\n",
       "      <th>C</th>\n",
       "      <th>D</th>\n",
       "    </tr>\n",
       "  </thead>\n",
       "  <tbody>\n",
       "    <tr>\n",
       "      <th>0</th>\n",
       "      <td>-0.006827</td>\n",
       "      <td>2.134038</td>\n",
       "      <td>0.089898</td>\n",
       "      <td>1.534315</td>\n",
       "    </tr>\n",
       "    <tr>\n",
       "      <th>1</th>\n",
       "      <td>0.323337</td>\n",
       "      <td>-0.315754</td>\n",
       "      <td>-1.115330</td>\n",
       "      <td>-1.630191</td>\n",
       "    </tr>\n",
       "    <tr>\n",
       "      <th>2</th>\n",
       "      <td>-0.329715</td>\n",
       "      <td>-0.200478</td>\n",
       "      <td>-0.924514</td>\n",
       "      <td>-0.958382</td>\n",
       "    </tr>\n",
       "    <tr>\n",
       "      <th>3</th>\n",
       "      <td>-0.312919</td>\n",
       "      <td>-1.688991</td>\n",
       "      <td>-0.488859</td>\n",
       "      <td>-2.150666</td>\n",
       "    </tr>\n",
       "    <tr>\n",
       "      <th>4</th>\n",
       "      <td>-0.258709</td>\n",
       "      <td>-1.390715</td>\n",
       "      <td>0.470073</td>\n",
       "      <td>2.550607</td>\n",
       "    </tr>\n",
       "    <tr>\n",
       "      <th>5</th>\n",
       "      <td>-0.398343</td>\n",
       "      <td>-0.560319</td>\n",
       "      <td>-0.402736</td>\n",
       "      <td>-0.689441</td>\n",
       "    </tr>\n",
       "    <tr>\n",
       "      <th>6</th>\n",
       "      <td>0.293668</td>\n",
       "      <td>0.009897</td>\n",
       "      <td>1.433709</td>\n",
       "      <td>-1.675250</td>\n",
       "    </tr>\n",
       "    <tr>\n",
       "      <th>7</th>\n",
       "      <td>-0.570326</td>\n",
       "      <td>0.108836</td>\n",
       "      <td>0.213906</td>\n",
       "      <td>-0.795532</td>\n",
       "    </tr>\n",
       "  </tbody>\n",
       "</table>\n",
       "</div>"
      ],
      "text/plain": [
       "          A         B         C         D\n",
       "0 -0.006827  2.134038  0.089898  1.534315\n",
       "1  0.323337 -0.315754 -1.115330 -1.630191\n",
       "2 -0.329715 -0.200478 -0.924514 -0.958382\n",
       "3 -0.312919 -1.688991 -0.488859 -2.150666\n",
       "4 -0.258709 -1.390715  0.470073  2.550607\n",
       "5 -0.398343 -0.560319 -0.402736 -0.689441\n",
       "6  0.293668  0.009897  1.433709 -1.675250\n",
       "7 -0.570326  0.108836  0.213906 -0.795532"
      ]
     },
     "execution_count": 100,
     "metadata": {},
     "output_type": "execute_result"
    }
   ],
   "source": [
    "df"
   ]
  },
  {
   "cell_type": "code",
   "execution_count": 101,
   "metadata": {
    "collapsed": true
   },
   "outputs": [],
   "source": [
    "s=df.iloc[3]"
   ]
  },
  {
   "cell_type": "code",
   "execution_count": 102,
   "metadata": {
    "collapsed": false
   },
   "outputs": [
    {
     "data": {
      "text/html": [
       "<div>\n",
       "<table border=\"1\" class=\"dataframe\">\n",
       "  <thead>\n",
       "    <tr style=\"text-align: right;\">\n",
       "      <th></th>\n",
       "      <th>A</th>\n",
       "      <th>B</th>\n",
       "      <th>C</th>\n",
       "      <th>D</th>\n",
       "    </tr>\n",
       "  </thead>\n",
       "  <tbody>\n",
       "    <tr>\n",
       "      <th>0</th>\n",
       "      <td>-0.006827</td>\n",
       "      <td>2.134038</td>\n",
       "      <td>0.089898</td>\n",
       "      <td>1.534315</td>\n",
       "    </tr>\n",
       "    <tr>\n",
       "      <th>1</th>\n",
       "      <td>0.323337</td>\n",
       "      <td>-0.315754</td>\n",
       "      <td>-1.115330</td>\n",
       "      <td>-1.630191</td>\n",
       "    </tr>\n",
       "    <tr>\n",
       "      <th>2</th>\n",
       "      <td>-0.329715</td>\n",
       "      <td>-0.200478</td>\n",
       "      <td>-0.924514</td>\n",
       "      <td>-0.958382</td>\n",
       "    </tr>\n",
       "    <tr>\n",
       "      <th>3</th>\n",
       "      <td>-0.312919</td>\n",
       "      <td>-1.688991</td>\n",
       "      <td>-0.488859</td>\n",
       "      <td>-2.150666</td>\n",
       "    </tr>\n",
       "    <tr>\n",
       "      <th>4</th>\n",
       "      <td>-0.258709</td>\n",
       "      <td>-1.390715</td>\n",
       "      <td>0.470073</td>\n",
       "      <td>2.550607</td>\n",
       "    </tr>\n",
       "    <tr>\n",
       "      <th>5</th>\n",
       "      <td>-0.398343</td>\n",
       "      <td>-0.560319</td>\n",
       "      <td>-0.402736</td>\n",
       "      <td>-0.689441</td>\n",
       "    </tr>\n",
       "    <tr>\n",
       "      <th>6</th>\n",
       "      <td>0.293668</td>\n",
       "      <td>0.009897</td>\n",
       "      <td>1.433709</td>\n",
       "      <td>-1.675250</td>\n",
       "    </tr>\n",
       "    <tr>\n",
       "      <th>7</th>\n",
       "      <td>-0.570326</td>\n",
       "      <td>0.108836</td>\n",
       "      <td>0.213906</td>\n",
       "      <td>-0.795532</td>\n",
       "    </tr>\n",
       "    <tr>\n",
       "      <th>8</th>\n",
       "      <td>-0.312919</td>\n",
       "      <td>-1.688991</td>\n",
       "      <td>-0.488859</td>\n",
       "      <td>-2.150666</td>\n",
       "    </tr>\n",
       "  </tbody>\n",
       "</table>\n",
       "</div>"
      ],
      "text/plain": [
       "          A         B         C         D\n",
       "0 -0.006827  2.134038  0.089898  1.534315\n",
       "1  0.323337 -0.315754 -1.115330 -1.630191\n",
       "2 -0.329715 -0.200478 -0.924514 -0.958382\n",
       "3 -0.312919 -1.688991 -0.488859 -2.150666\n",
       "4 -0.258709 -1.390715  0.470073  2.550607\n",
       "5 -0.398343 -0.560319 -0.402736 -0.689441\n",
       "6  0.293668  0.009897  1.433709 -1.675250\n",
       "7 -0.570326  0.108836  0.213906 -0.795532\n",
       "8 -0.312919 -1.688991 -0.488859 -2.150666"
      ]
     },
     "execution_count": 102,
     "metadata": {},
     "output_type": "execute_result"
    }
   ],
   "source": [
    "df.append(s, ignore_index=True)"
   ]
  },
  {
   "cell_type": "code",
   "execution_count": 103,
   "metadata": {
    "collapsed": true
   },
   "outputs": [],
   "source": [
    "df=pd.DataFrame({'A' : ['foo', 'bar', 'foo', 'bar', \n",
    "                        'foo', 'bar', 'foo', 'foo'],\n",
    "                 'B' : ['one', 'one', 'two', 'three',\n",
    "                         'two', 'two', 'one', 'three'],\n",
    "                 'C' : np.random.randn(8),\n",
    "                 'D' : np.random.randn(8)})"
   ]
  },
  {
   "cell_type": "code",
   "execution_count": 104,
   "metadata": {
    "collapsed": false
   },
   "outputs": [
    {
     "data": {
      "text/html": [
       "<div>\n",
       "<table border=\"1\" class=\"dataframe\">\n",
       "  <thead>\n",
       "    <tr style=\"text-align: right;\">\n",
       "      <th></th>\n",
       "      <th>A</th>\n",
       "      <th>B</th>\n",
       "      <th>C</th>\n",
       "      <th>D</th>\n",
       "    </tr>\n",
       "  </thead>\n",
       "  <tbody>\n",
       "    <tr>\n",
       "      <th>0</th>\n",
       "      <td>foo</td>\n",
       "      <td>one</td>\n",
       "      <td>-0.969659</td>\n",
       "      <td>0.465277</td>\n",
       "    </tr>\n",
       "    <tr>\n",
       "      <th>1</th>\n",
       "      <td>bar</td>\n",
       "      <td>one</td>\n",
       "      <td>0.221086</td>\n",
       "      <td>1.974754</td>\n",
       "    </tr>\n",
       "    <tr>\n",
       "      <th>2</th>\n",
       "      <td>foo</td>\n",
       "      <td>two</td>\n",
       "      <td>-0.190196</td>\n",
       "      <td>-0.119027</td>\n",
       "    </tr>\n",
       "    <tr>\n",
       "      <th>3</th>\n",
       "      <td>bar</td>\n",
       "      <td>three</td>\n",
       "      <td>0.196156</td>\n",
       "      <td>0.047847</td>\n",
       "    </tr>\n",
       "    <tr>\n",
       "      <th>4</th>\n",
       "      <td>foo</td>\n",
       "      <td>two</td>\n",
       "      <td>0.059996</td>\n",
       "      <td>-0.460994</td>\n",
       "    </tr>\n",
       "    <tr>\n",
       "      <th>5</th>\n",
       "      <td>bar</td>\n",
       "      <td>two</td>\n",
       "      <td>0.215825</td>\n",
       "      <td>0.915069</td>\n",
       "    </tr>\n",
       "    <tr>\n",
       "      <th>6</th>\n",
       "      <td>foo</td>\n",
       "      <td>one</td>\n",
       "      <td>-0.060675</td>\n",
       "      <td>-0.641317</td>\n",
       "    </tr>\n",
       "    <tr>\n",
       "      <th>7</th>\n",
       "      <td>foo</td>\n",
       "      <td>three</td>\n",
       "      <td>2.189237</td>\n",
       "      <td>-1.155530</td>\n",
       "    </tr>\n",
       "  </tbody>\n",
       "</table>\n",
       "</div>"
      ],
      "text/plain": [
       "     A      B         C         D\n",
       "0  foo    one -0.969659  0.465277\n",
       "1  bar    one  0.221086  1.974754\n",
       "2  foo    two -0.190196 -0.119027\n",
       "3  bar  three  0.196156  0.047847\n",
       "4  foo    two  0.059996 -0.460994\n",
       "5  bar    two  0.215825  0.915069\n",
       "6  foo    one -0.060675 -0.641317\n",
       "7  foo  three  2.189237 -1.155530"
      ]
     },
     "execution_count": 104,
     "metadata": {},
     "output_type": "execute_result"
    }
   ],
   "source": [
    "df"
   ]
  },
  {
   "cell_type": "code",
   "execution_count": 107,
   "metadata": {
    "collapsed": false
   },
   "outputs": [
    {
     "data": {
      "text/html": [
       "<div>\n",
       "<table border=\"1\" class=\"dataframe\">\n",
       "  <thead>\n",
       "    <tr style=\"text-align: right;\">\n",
       "      <th></th>\n",
       "      <th>C</th>\n",
       "      <th>D</th>\n",
       "    </tr>\n",
       "    <tr>\n",
       "      <th>A</th>\n",
       "      <th></th>\n",
       "      <th></th>\n",
       "    </tr>\n",
       "  </thead>\n",
       "  <tbody>\n",
       "    <tr>\n",
       "      <th>bar</th>\n",
       "      <td>0.633068</td>\n",
       "      <td>2.937669</td>\n",
       "    </tr>\n",
       "    <tr>\n",
       "      <th>foo</th>\n",
       "      <td>1.028702</td>\n",
       "      <td>-1.911591</td>\n",
       "    </tr>\n",
       "  </tbody>\n",
       "</table>\n",
       "</div>"
      ],
      "text/plain": [
       "            C         D\n",
       "A                      \n",
       "bar  0.633068  2.937669\n",
       "foo  1.028702 -1.911591"
      ]
     },
     "execution_count": 107,
     "metadata": {},
     "output_type": "execute_result"
    }
   ],
   "source": [
    "df.groupby('A').sum()"
   ]
  },
  {
   "cell_type": "code",
   "execution_count": 108,
   "metadata": {
    "collapsed": false
   },
   "outputs": [
    {
     "data": {
      "text/html": [
       "<div>\n",
       "<table border=\"1\" class=\"dataframe\">\n",
       "  <thead>\n",
       "    <tr style=\"text-align: right;\">\n",
       "      <th></th>\n",
       "      <th></th>\n",
       "      <th>C</th>\n",
       "      <th>D</th>\n",
       "    </tr>\n",
       "    <tr>\n",
       "      <th>A</th>\n",
       "      <th>B</th>\n",
       "      <th></th>\n",
       "      <th></th>\n",
       "    </tr>\n",
       "  </thead>\n",
       "  <tbody>\n",
       "    <tr>\n",
       "      <th rowspan=\"3\" valign=\"top\">bar</th>\n",
       "      <th>one</th>\n",
       "      <td>0.221086</td>\n",
       "      <td>1.974754</td>\n",
       "    </tr>\n",
       "    <tr>\n",
       "      <th>three</th>\n",
       "      <td>0.196156</td>\n",
       "      <td>0.047847</td>\n",
       "    </tr>\n",
       "    <tr>\n",
       "      <th>two</th>\n",
       "      <td>0.215825</td>\n",
       "      <td>0.915069</td>\n",
       "    </tr>\n",
       "    <tr>\n",
       "      <th rowspan=\"3\" valign=\"top\">foo</th>\n",
       "      <th>one</th>\n",
       "      <td>-1.030334</td>\n",
       "      <td>-0.176040</td>\n",
       "    </tr>\n",
       "    <tr>\n",
       "      <th>three</th>\n",
       "      <td>2.189237</td>\n",
       "      <td>-1.155530</td>\n",
       "    </tr>\n",
       "    <tr>\n",
       "      <th>two</th>\n",
       "      <td>-0.130200</td>\n",
       "      <td>-0.580020</td>\n",
       "    </tr>\n",
       "  </tbody>\n",
       "</table>\n",
       "</div>"
      ],
      "text/plain": [
       "                  C         D\n",
       "A   B                        \n",
       "bar one    0.221086  1.974754\n",
       "    three  0.196156  0.047847\n",
       "    two    0.215825  0.915069\n",
       "foo one   -1.030334 -0.176040\n",
       "    three  2.189237 -1.155530\n",
       "    two   -0.130200 -0.580020"
      ]
     },
     "execution_count": 108,
     "metadata": {},
     "output_type": "execute_result"
    }
   ],
   "source": [
    "df.groupby(['A','B']).sum()"
   ]
  },
  {
   "cell_type": "code",
   "execution_count": 109,
   "metadata": {
    "collapsed": true
   },
   "outputs": [],
   "source": [
    "tuples = list(zip(*[['bar', 'bar', 'baz', 'baz'\n",
    "                    'foo', 'foo', 'qux', 'qux'],\n",
    "                   ['one', 'two', 'one', 'two', \n",
    "                    'one', 'two', 'one', 'two']]))"
   ]
  },
  {
   "cell_type": "code",
   "execution_count": 111,
   "metadata": {
    "collapsed": false
   },
   "outputs": [],
   "source": [
    "index = pd.MultiIndex.from_tuples(tuples, names=['first', 'second'])"
   ]
  },
  {
   "cell_type": "code",
   "execution_count": 114,
   "metadata": {
    "collapsed": false
   },
   "outputs": [],
   "source": [
    "df = pd.DataFrame(np.random.randn(7, 2), index=index, columns=['A', 'B'])"
   ]
  },
  {
   "cell_type": "code",
   "execution_count": 116,
   "metadata": {
    "collapsed": false
   },
   "outputs": [],
   "source": [
    "df2 =df[:4]"
   ]
  },
  {
   "cell_type": "code",
   "execution_count": 117,
   "metadata": {
    "collapsed": false
   },
   "outputs": [
    {
     "data": {
      "text/html": [
       "<div>\n",
       "<table border=\"1\" class=\"dataframe\">\n",
       "  <thead>\n",
       "    <tr style=\"text-align: right;\">\n",
       "      <th></th>\n",
       "      <th></th>\n",
       "      <th>A</th>\n",
       "      <th>B</th>\n",
       "    </tr>\n",
       "    <tr>\n",
       "      <th>first</th>\n",
       "      <th>second</th>\n",
       "      <th></th>\n",
       "      <th></th>\n",
       "    </tr>\n",
       "  </thead>\n",
       "  <tbody>\n",
       "    <tr>\n",
       "      <th rowspan=\"2\" valign=\"top\">bar</th>\n",
       "      <th>one</th>\n",
       "      <td>-0.732890</td>\n",
       "      <td>2.194809</td>\n",
       "    </tr>\n",
       "    <tr>\n",
       "      <th>two</th>\n",
       "      <td>2.325703</td>\n",
       "      <td>-2.019123</td>\n",
       "    </tr>\n",
       "    <tr>\n",
       "      <th>baz</th>\n",
       "      <th>one</th>\n",
       "      <td>-0.641102</td>\n",
       "      <td>2.777608</td>\n",
       "    </tr>\n",
       "    <tr>\n",
       "      <th>bazfoo</th>\n",
       "      <th>two</th>\n",
       "      <td>-0.101296</td>\n",
       "      <td>0.828275</td>\n",
       "    </tr>\n",
       "  </tbody>\n",
       "</table>\n",
       "</div>"
      ],
      "text/plain": [
       "                      A         B\n",
       "first  second                    \n",
       "bar    one    -0.732890  2.194809\n",
       "       two     2.325703 -2.019123\n",
       "baz    one    -0.641102  2.777608\n",
       "bazfoo two    -0.101296  0.828275"
      ]
     },
     "execution_count": 117,
     "metadata": {},
     "output_type": "execute_result"
    }
   ],
   "source": [
    "df2"
   ]
  },
  {
   "cell_type": "code",
   "execution_count": 118,
   "metadata": {
    "collapsed": true
   },
   "outputs": [],
   "source": [
    "stacked = df2.stack()"
   ]
  },
  {
   "cell_type": "code",
   "execution_count": 119,
   "metadata": {
    "collapsed": false
   },
   "outputs": [
    {
     "data": {
      "text/plain": [
       "first   second   \n",
       "bar     one     A   -0.732890\n",
       "                B    2.194809\n",
       "        two     A    2.325703\n",
       "                B   -2.019123\n",
       "baz     one     A   -0.641102\n",
       "                B    2.777608\n",
       "bazfoo  two     A   -0.101296\n",
       "                B    0.828275\n",
       "dtype: float64"
      ]
     },
     "execution_count": 119,
     "metadata": {},
     "output_type": "execute_result"
    }
   ],
   "source": [
    "stacked"
   ]
  },
  {
   "cell_type": "code",
   "execution_count": 120,
   "metadata": {
    "collapsed": false
   },
   "outputs": [
    {
     "data": {
      "text/html": [
       "<div>\n",
       "<table border=\"1\" class=\"dataframe\">\n",
       "  <thead>\n",
       "    <tr style=\"text-align: right;\">\n",
       "      <th></th>\n",
       "      <th></th>\n",
       "      <th>A</th>\n",
       "      <th>B</th>\n",
       "    </tr>\n",
       "    <tr>\n",
       "      <th>first</th>\n",
       "      <th>second</th>\n",
       "      <th></th>\n",
       "      <th></th>\n",
       "    </tr>\n",
       "  </thead>\n",
       "  <tbody>\n",
       "    <tr>\n",
       "      <th rowspan=\"2\" valign=\"top\">bar</th>\n",
       "      <th>one</th>\n",
       "      <td>-0.732890</td>\n",
       "      <td>2.194809</td>\n",
       "    </tr>\n",
       "    <tr>\n",
       "      <th>two</th>\n",
       "      <td>2.325703</td>\n",
       "      <td>-2.019123</td>\n",
       "    </tr>\n",
       "    <tr>\n",
       "      <th>baz</th>\n",
       "      <th>one</th>\n",
       "      <td>-0.641102</td>\n",
       "      <td>2.777608</td>\n",
       "    </tr>\n",
       "    <tr>\n",
       "      <th>bazfoo</th>\n",
       "      <th>two</th>\n",
       "      <td>-0.101296</td>\n",
       "      <td>0.828275</td>\n",
       "    </tr>\n",
       "  </tbody>\n",
       "</table>\n",
       "</div>"
      ],
      "text/plain": [
       "                      A         B\n",
       "first  second                    \n",
       "bar    one    -0.732890  2.194809\n",
       "       two     2.325703 -2.019123\n",
       "baz    one    -0.641102  2.777608\n",
       "bazfoo two    -0.101296  0.828275"
      ]
     },
     "execution_count": 120,
     "metadata": {},
     "output_type": "execute_result"
    }
   ],
   "source": [
    "stacked.unstack()"
   ]
  },
  {
   "cell_type": "code",
   "execution_count": 121,
   "metadata": {
    "collapsed": false
   },
   "outputs": [
    {
     "data": {
      "text/html": [
       "<div>\n",
       "<table border=\"1\" class=\"dataframe\">\n",
       "  <thead>\n",
       "    <tr style=\"text-align: right;\">\n",
       "      <th></th>\n",
       "      <th>second</th>\n",
       "      <th>one</th>\n",
       "      <th>two</th>\n",
       "    </tr>\n",
       "    <tr>\n",
       "      <th>first</th>\n",
       "      <th></th>\n",
       "      <th></th>\n",
       "      <th></th>\n",
       "    </tr>\n",
       "  </thead>\n",
       "  <tbody>\n",
       "    <tr>\n",
       "      <th rowspan=\"2\" valign=\"top\">bar</th>\n",
       "      <th>A</th>\n",
       "      <td>-0.732890</td>\n",
       "      <td>2.325703</td>\n",
       "    </tr>\n",
       "    <tr>\n",
       "      <th>B</th>\n",
       "      <td>2.194809</td>\n",
       "      <td>-2.019123</td>\n",
       "    </tr>\n",
       "    <tr>\n",
       "      <th rowspan=\"2\" valign=\"top\">baz</th>\n",
       "      <th>A</th>\n",
       "      <td>-0.641102</td>\n",
       "      <td>NaN</td>\n",
       "    </tr>\n",
       "    <tr>\n",
       "      <th>B</th>\n",
       "      <td>2.777608</td>\n",
       "      <td>NaN</td>\n",
       "    </tr>\n",
       "    <tr>\n",
       "      <th rowspan=\"2\" valign=\"top\">bazfoo</th>\n",
       "      <th>A</th>\n",
       "      <td>NaN</td>\n",
       "      <td>-0.101296</td>\n",
       "    </tr>\n",
       "    <tr>\n",
       "      <th>B</th>\n",
       "      <td>NaN</td>\n",
       "      <td>0.828275</td>\n",
       "    </tr>\n",
       "  </tbody>\n",
       "</table>\n",
       "</div>"
      ],
      "text/plain": [
       "second         one       two\n",
       "first                       \n",
       "bar    A -0.732890  2.325703\n",
       "       B  2.194809 -2.019123\n",
       "baz    A -0.641102       NaN\n",
       "       B  2.777608       NaN\n",
       "bazfoo A       NaN -0.101296\n",
       "       B       NaN  0.828275"
      ]
     },
     "execution_count": 121,
     "metadata": {},
     "output_type": "execute_result"
    }
   ],
   "source": [
    "stacked.unstack(1)"
   ]
  },
  {
   "cell_type": "code",
   "execution_count": 122,
   "metadata": {
    "collapsed": false
   },
   "outputs": [
    {
     "data": {
      "text/html": [
       "<div>\n",
       "<table border=\"1\" class=\"dataframe\">\n",
       "  <thead>\n",
       "    <tr style=\"text-align: right;\">\n",
       "      <th></th>\n",
       "      <th>first</th>\n",
       "      <th>bar</th>\n",
       "      <th>baz</th>\n",
       "      <th>bazfoo</th>\n",
       "    </tr>\n",
       "    <tr>\n",
       "      <th>second</th>\n",
       "      <th></th>\n",
       "      <th></th>\n",
       "      <th></th>\n",
       "      <th></th>\n",
       "    </tr>\n",
       "  </thead>\n",
       "  <tbody>\n",
       "    <tr>\n",
       "      <th rowspan=\"2\" valign=\"top\">one</th>\n",
       "      <th>A</th>\n",
       "      <td>-0.732890</td>\n",
       "      <td>-0.641102</td>\n",
       "      <td>NaN</td>\n",
       "    </tr>\n",
       "    <tr>\n",
       "      <th>B</th>\n",
       "      <td>2.194809</td>\n",
       "      <td>2.777608</td>\n",
       "      <td>NaN</td>\n",
       "    </tr>\n",
       "    <tr>\n",
       "      <th rowspan=\"2\" valign=\"top\">two</th>\n",
       "      <th>A</th>\n",
       "      <td>2.325703</td>\n",
       "      <td>NaN</td>\n",
       "      <td>-0.101296</td>\n",
       "    </tr>\n",
       "    <tr>\n",
       "      <th>B</th>\n",
       "      <td>-2.019123</td>\n",
       "      <td>NaN</td>\n",
       "      <td>0.828275</td>\n",
       "    </tr>\n",
       "  </tbody>\n",
       "</table>\n",
       "</div>"
      ],
      "text/plain": [
       "first          bar       baz    bazfoo\n",
       "second                                \n",
       "one    A -0.732890 -0.641102       NaN\n",
       "       B  2.194809  2.777608       NaN\n",
       "two    A  2.325703       NaN -0.101296\n",
       "       B -2.019123       NaN  0.828275"
      ]
     },
     "execution_count": 122,
     "metadata": {},
     "output_type": "execute_result"
    }
   ],
   "source": [
    "stacked.unstack(0)"
   ]
  },
  {
   "cell_type": "code",
   "execution_count": 123,
   "metadata": {
    "collapsed": true
   },
   "outputs": [],
   "source": [
    "df=pd.DataFrame({ 'A' : ['one', 'one', 'two', 'three'] *3,\n",
    "                  'B' : ['A', 'B', 'C'] * 4,\n",
    "                  'C' : ['foo', 'foo', 'foo', 'bar', 'bar', 'bar'] * 2,\n",
    "                  'D' : np.random.randn(12),\n",
    "                  'E' : np.random.randn(12)})"
   ]
  },
  {
   "cell_type": "code",
   "execution_count": 124,
   "metadata": {
    "collapsed": false
   },
   "outputs": [
    {
     "data": {
      "text/html": [
       "<div>\n",
       "<table border=\"1\" class=\"dataframe\">\n",
       "  <thead>\n",
       "    <tr style=\"text-align: right;\">\n",
       "      <th></th>\n",
       "      <th>A</th>\n",
       "      <th>B</th>\n",
       "      <th>C</th>\n",
       "      <th>D</th>\n",
       "      <th>E</th>\n",
       "    </tr>\n",
       "  </thead>\n",
       "  <tbody>\n",
       "    <tr>\n",
       "      <th>0</th>\n",
       "      <td>one</td>\n",
       "      <td>A</td>\n",
       "      <td>foo</td>\n",
       "      <td>-0.224248</td>\n",
       "      <td>0.691862</td>\n",
       "    </tr>\n",
       "    <tr>\n",
       "      <th>1</th>\n",
       "      <td>one</td>\n",
       "      <td>B</td>\n",
       "      <td>foo</td>\n",
       "      <td>0.588610</td>\n",
       "      <td>0.244420</td>\n",
       "    </tr>\n",
       "    <tr>\n",
       "      <th>2</th>\n",
       "      <td>two</td>\n",
       "      <td>C</td>\n",
       "      <td>foo</td>\n",
       "      <td>-0.819604</td>\n",
       "      <td>-0.915116</td>\n",
       "    </tr>\n",
       "    <tr>\n",
       "      <th>3</th>\n",
       "      <td>three</td>\n",
       "      <td>A</td>\n",
       "      <td>bar</td>\n",
       "      <td>0.038476</td>\n",
       "      <td>-1.006400</td>\n",
       "    </tr>\n",
       "    <tr>\n",
       "      <th>4</th>\n",
       "      <td>one</td>\n",
       "      <td>B</td>\n",
       "      <td>bar</td>\n",
       "      <td>-0.240805</td>\n",
       "      <td>-0.199165</td>\n",
       "    </tr>\n",
       "    <tr>\n",
       "      <th>5</th>\n",
       "      <td>one</td>\n",
       "      <td>C</td>\n",
       "      <td>bar</td>\n",
       "      <td>-0.486891</td>\n",
       "      <td>0.513550</td>\n",
       "    </tr>\n",
       "    <tr>\n",
       "      <th>6</th>\n",
       "      <td>two</td>\n",
       "      <td>A</td>\n",
       "      <td>foo</td>\n",
       "      <td>1.235568</td>\n",
       "      <td>1.034701</td>\n",
       "    </tr>\n",
       "    <tr>\n",
       "      <th>7</th>\n",
       "      <td>three</td>\n",
       "      <td>B</td>\n",
       "      <td>foo</td>\n",
       "      <td>-2.456123</td>\n",
       "      <td>1.328823</td>\n",
       "    </tr>\n",
       "    <tr>\n",
       "      <th>8</th>\n",
       "      <td>one</td>\n",
       "      <td>C</td>\n",
       "      <td>foo</td>\n",
       "      <td>-0.257006</td>\n",
       "      <td>-0.447745</td>\n",
       "    </tr>\n",
       "    <tr>\n",
       "      <th>9</th>\n",
       "      <td>one</td>\n",
       "      <td>A</td>\n",
       "      <td>bar</td>\n",
       "      <td>1.430456</td>\n",
       "      <td>-0.301710</td>\n",
       "    </tr>\n",
       "    <tr>\n",
       "      <th>10</th>\n",
       "      <td>two</td>\n",
       "      <td>B</td>\n",
       "      <td>bar</td>\n",
       "      <td>-0.282277</td>\n",
       "      <td>1.283076</td>\n",
       "    </tr>\n",
       "    <tr>\n",
       "      <th>11</th>\n",
       "      <td>three</td>\n",
       "      <td>C</td>\n",
       "      <td>bar</td>\n",
       "      <td>1.294929</td>\n",
       "      <td>-1.092344</td>\n",
       "    </tr>\n",
       "  </tbody>\n",
       "</table>\n",
       "</div>"
      ],
      "text/plain": [
       "        A  B    C         D         E\n",
       "0     one  A  foo -0.224248  0.691862\n",
       "1     one  B  foo  0.588610  0.244420\n",
       "2     two  C  foo -0.819604 -0.915116\n",
       "3   three  A  bar  0.038476 -1.006400\n",
       "4     one  B  bar -0.240805 -0.199165\n",
       "5     one  C  bar -0.486891  0.513550\n",
       "6     two  A  foo  1.235568  1.034701\n",
       "7   three  B  foo -2.456123  1.328823\n",
       "8     one  C  foo -0.257006 -0.447745\n",
       "9     one  A  bar  1.430456 -0.301710\n",
       "10    two  B  bar -0.282277  1.283076\n",
       "11  three  C  bar  1.294929 -1.092344"
      ]
     },
     "execution_count": 124,
     "metadata": {},
     "output_type": "execute_result"
    }
   ],
   "source": [
    "df"
   ]
  },
  {
   "cell_type": "code",
   "execution_count": 125,
   "metadata": {
    "collapsed": false
   },
   "outputs": [
    {
     "data": {
      "text/html": [
       "<div>\n",
       "<table border=\"1\" class=\"dataframe\">\n",
       "  <thead>\n",
       "    <tr style=\"text-align: right;\">\n",
       "      <th></th>\n",
       "      <th>C</th>\n",
       "      <th>bar</th>\n",
       "      <th>foo</th>\n",
       "    </tr>\n",
       "    <tr>\n",
       "      <th>A</th>\n",
       "      <th>B</th>\n",
       "      <th></th>\n",
       "      <th></th>\n",
       "    </tr>\n",
       "  </thead>\n",
       "  <tbody>\n",
       "    <tr>\n",
       "      <th rowspan=\"3\" valign=\"top\">one</th>\n",
       "      <th>A</th>\n",
       "      <td>1.430456</td>\n",
       "      <td>-0.224248</td>\n",
       "    </tr>\n",
       "    <tr>\n",
       "      <th>B</th>\n",
       "      <td>-0.240805</td>\n",
       "      <td>0.588610</td>\n",
       "    </tr>\n",
       "    <tr>\n",
       "      <th>C</th>\n",
       "      <td>-0.486891</td>\n",
       "      <td>-0.257006</td>\n",
       "    </tr>\n",
       "    <tr>\n",
       "      <th rowspan=\"3\" valign=\"top\">three</th>\n",
       "      <th>A</th>\n",
       "      <td>0.038476</td>\n",
       "      <td>NaN</td>\n",
       "    </tr>\n",
       "    <tr>\n",
       "      <th>B</th>\n",
       "      <td>NaN</td>\n",
       "      <td>-2.456123</td>\n",
       "    </tr>\n",
       "    <tr>\n",
       "      <th>C</th>\n",
       "      <td>1.294929</td>\n",
       "      <td>NaN</td>\n",
       "    </tr>\n",
       "    <tr>\n",
       "      <th rowspan=\"3\" valign=\"top\">two</th>\n",
       "      <th>A</th>\n",
       "      <td>NaN</td>\n",
       "      <td>1.235568</td>\n",
       "    </tr>\n",
       "    <tr>\n",
       "      <th>B</th>\n",
       "      <td>-0.282277</td>\n",
       "      <td>NaN</td>\n",
       "    </tr>\n",
       "    <tr>\n",
       "      <th>C</th>\n",
       "      <td>NaN</td>\n",
       "      <td>-0.819604</td>\n",
       "    </tr>\n",
       "  </tbody>\n",
       "</table>\n",
       "</div>"
      ],
      "text/plain": [
       "C             bar       foo\n",
       "A     B                    \n",
       "one   A  1.430456 -0.224248\n",
       "      B -0.240805  0.588610\n",
       "      C -0.486891 -0.257006\n",
       "three A  0.038476       NaN\n",
       "      B       NaN -2.456123\n",
       "      C  1.294929       NaN\n",
       "two   A       NaN  1.235568\n",
       "      B -0.282277       NaN\n",
       "      C       NaN -0.819604"
      ]
     },
     "execution_count": 125,
     "metadata": {},
     "output_type": "execute_result"
    }
   ],
   "source": [
    "pd.pivot_table(df, values='D', index=['A', 'B'], columns=['C'])"
   ]
  },
  {
   "cell_type": "code",
   "execution_count": 126,
   "metadata": {
    "collapsed": true
   },
   "outputs": [],
   "source": [
    "rng = pd.date_range('1/1/2015', periods=100, freq='S')"
   ]
  },
  {
   "cell_type": "code",
   "execution_count": 127,
   "metadata": {
    "collapsed": true
   },
   "outputs": [],
   "source": [
    "ts=pd.Series(np.random.randint(0,500,len(rng)), index=rng)"
   ]
  },
  {
   "cell_type": "code",
   "execution_count": 129,
   "metadata": {
    "collapsed": false
   },
   "outputs": [
    {
     "data": {
      "text/plain": [
       "2015-01-01    25802\n",
       "Freq: 5T, dtype: int32"
      ]
     },
     "execution_count": 129,
     "metadata": {},
     "output_type": "execute_result"
    }
   ],
   "source": [
    "ts.resample('5Min', how='sum')"
   ]
  },
  {
   "cell_type": "code",
   "execution_count": 130,
   "metadata": {
    "collapsed": true
   },
   "outputs": [],
   "source": [
    "rng=pd.date_range('9/1/2015 00:00', periods=5, freq='D')"
   ]
  },
  {
   "cell_type": "code",
   "execution_count": 131,
   "metadata": {
    "collapsed": true
   },
   "outputs": [],
   "source": [
    "ts=pd.Series(np.random.randn(len(rng)), rng)"
   ]
  },
  {
   "cell_type": "code",
   "execution_count": 132,
   "metadata": {
    "collapsed": false
   },
   "outputs": [
    {
     "data": {
      "text/plain": [
       "2015-09-01    0.095741\n",
       "2015-09-02   -0.404390\n",
       "2015-09-03   -1.025949\n",
       "2015-09-04    0.488619\n",
       "2015-09-05   -0.185679\n",
       "Freq: D, dtype: float64"
      ]
     },
     "execution_count": 132,
     "metadata": {},
     "output_type": "execute_result"
    }
   ],
   "source": [
    "ts"
   ]
  },
  {
   "cell_type": "code",
   "execution_count": 133,
   "metadata": {
    "collapsed": true
   },
   "outputs": [],
   "source": [
    "ts_utc = ts.tz_localize('UTC')"
   ]
  },
  {
   "cell_type": "code",
   "execution_count": 134,
   "metadata": {
    "collapsed": false
   },
   "outputs": [
    {
     "data": {
      "text/plain": [
       "2015-09-01 00:00:00+00:00    0.095741\n",
       "2015-09-02 00:00:00+00:00   -0.404390\n",
       "2015-09-03 00:00:00+00:00   -1.025949\n",
       "2015-09-04 00:00:00+00:00    0.488619\n",
       "2015-09-05 00:00:00+00:00   -0.185679\n",
       "Freq: D, dtype: float64"
      ]
     },
     "execution_count": 134,
     "metadata": {},
     "output_type": "execute_result"
    }
   ],
   "source": [
    "ts_utc"
   ]
  },
  {
   "cell_type": "code",
   "execution_count": 136,
   "metadata": {
    "collapsed": false
   },
   "outputs": [
    {
     "data": {
      "text/plain": [
       "2015-08-31 20:00:00-04:00    0.095741\n",
       "2015-09-01 20:00:00-04:00   -0.404390\n",
       "2015-09-02 20:00:00-04:00   -1.025949\n",
       "2015-09-03 20:00:00-04:00    0.488619\n",
       "2015-09-04 20:00:00-04:00   -0.185679\n",
       "Freq: D, dtype: float64"
      ]
     },
     "execution_count": 136,
     "metadata": {},
     "output_type": "execute_result"
    }
   ],
   "source": [
    "ts_utc.tz_convert('US/Eastern')"
   ]
  },
  {
   "cell_type": "code",
   "execution_count": 137,
   "metadata": {
    "collapsed": true
   },
   "outputs": [],
   "source": [
    "rng=pd.date_range('1/1/2015', periods=5, freq='M')"
   ]
  },
  {
   "cell_type": "code",
   "execution_count": 138,
   "metadata": {
    "collapsed": true
   },
   "outputs": [],
   "source": [
    "ts=pd.Series(np.random.randn(len(rng)), index=rng)"
   ]
  },
  {
   "cell_type": "code",
   "execution_count": 139,
   "metadata": {
    "collapsed": false
   },
   "outputs": [
    {
     "data": {
      "text/plain": [
       "2015-01-31    1.452357\n",
       "2015-02-28    0.649211\n",
       "2015-03-31   -0.780076\n",
       "2015-04-30    1.067274\n",
       "2015-05-31   -1.964436\n",
       "Freq: M, dtype: float64"
      ]
     },
     "execution_count": 139,
     "metadata": {},
     "output_type": "execute_result"
    }
   ],
   "source": [
    "ts"
   ]
  },
  {
   "cell_type": "code",
   "execution_count": 140,
   "metadata": {
    "collapsed": true
   },
   "outputs": [],
   "source": [
    "ps=ts.to_period()"
   ]
  },
  {
   "cell_type": "code",
   "execution_count": 141,
   "metadata": {
    "collapsed": false
   },
   "outputs": [
    {
     "data": {
      "text/plain": [
       "2015-01    1.452357\n",
       "2015-02    0.649211\n",
       "2015-03   -0.780076\n",
       "2015-04    1.067274\n",
       "2015-05   -1.964436\n",
       "Freq: M, dtype: float64"
      ]
     },
     "execution_count": 141,
     "metadata": {},
     "output_type": "execute_result"
    }
   ],
   "source": [
    "ps"
   ]
  },
  {
   "cell_type": "code",
   "execution_count": 142,
   "metadata": {
    "collapsed": false
   },
   "outputs": [
    {
     "data": {
      "text/plain": [
       "2015-01-01    1.452357\n",
       "2015-02-01    0.649211\n",
       "2015-03-01   -0.780076\n",
       "2015-04-01    1.067274\n",
       "2015-05-01   -1.964436\n",
       "Freq: MS, dtype: float64"
      ]
     },
     "execution_count": 142,
     "metadata": {},
     "output_type": "execute_result"
    }
   ],
   "source": [
    "ps.to_timestamp()"
   ]
  },
  {
   "cell_type": "code",
   "execution_count": 145,
   "metadata": {
    "collapsed": false
   },
   "outputs": [],
   "source": [
    "prng=pd.period_range('2000Q1', '2010Q4', freq='Q-NOV')"
   ]
  },
  {
   "cell_type": "code",
   "execution_count": 146,
   "metadata": {
    "collapsed": true
   },
   "outputs": [],
   "source": [
    "ts=pd.Series(np.random.randn(len(prng)), prng)"
   ]
  },
  {
   "cell_type": "code",
   "execution_count": 148,
   "metadata": {
    "collapsed": false
   },
   "outputs": [],
   "source": [
    "ts.index = (prng.asfreq('M', 'e') + 1).asfreq('H', 's') + 9"
   ]
  },
  {
   "cell_type": "code",
   "execution_count": 149,
   "metadata": {
    "collapsed": false
   },
   "outputs": [
    {
     "data": {
      "text/plain": [
       "2000-03-01 09:00   -0.206522\n",
       "2000-06-01 09:00   -1.381483\n",
       "2000-09-01 09:00    0.586684\n",
       "2000-12-01 09:00    1.183366\n",
       "2001-03-01 09:00   -0.463394\n",
       "Freq: H, dtype: float64"
      ]
     },
     "execution_count": 149,
     "metadata": {},
     "output_type": "execute_result"
    }
   ],
   "source": [
    "ts.head()"
   ]
  },
  {
   "cell_type": "code",
   "execution_count": 150,
   "metadata": {
    "collapsed": true
   },
   "outputs": [],
   "source": [
    "df=pd.DataFrame({\"id\":[1,2,3,4,5,6,], \"raw_grade\":['a','b', 'b', 'a', 'a', 'e']})"
   ]
  },
  {
   "cell_type": "code",
   "execution_count": 153,
   "metadata": {
    "collapsed": false
   },
   "outputs": [],
   "source": [
    "df[\"grade\"] = df[\"raw_grade\"].astype(\"category\")"
   ]
  },
  {
   "cell_type": "code",
   "execution_count": 154,
   "metadata": {
    "collapsed": false
   },
   "outputs": [
    {
     "data": {
      "text/plain": [
       "0    a\n",
       "1    b\n",
       "2    b\n",
       "3    a\n",
       "4    a\n",
       "5    e\n",
       "Name: grade, dtype: category\n",
       "Categories (3, object): [a, b, e]"
      ]
     },
     "execution_count": 154,
     "metadata": {},
     "output_type": "execute_result"
    }
   ],
   "source": [
    "df[\"grade\"]"
   ]
  },
  {
   "cell_type": "code",
   "execution_count": 155,
   "metadata": {
    "collapsed": true
   },
   "outputs": [],
   "source": [
    "df[\"grade\"].cat.categories=[\"very good\", \"good\", \"very bad\"]"
   ]
  },
  {
   "cell_type": "code",
   "execution_count": 159,
   "metadata": {
    "collapsed": false
   },
   "outputs": [],
   "source": [
    "df[\"grade\"] = df[\"grade\"].cat.set_categories([\"very bad\", \"bad\", \"medium\", \"good\", \"very good\"])"
   ]
  },
  {
   "cell_type": "code",
   "execution_count": 160,
   "metadata": {
    "collapsed": false
   },
   "outputs": [
    {
     "data": {
      "text/plain": [
       "0    very good\n",
       "1         good\n",
       "2         good\n",
       "3    very good\n",
       "4    very good\n",
       "5     very bad\n",
       "Name: grade, dtype: category\n",
       "Categories (5, object): [very bad, bad, medium, good, very good]"
      ]
     },
     "execution_count": 160,
     "metadata": {},
     "output_type": "execute_result"
    }
   ],
   "source": [
    "df[\"grade\"]"
   ]
  },
  {
   "cell_type": "code",
   "execution_count": 161,
   "metadata": {
    "collapsed": false
   },
   "outputs": [
    {
     "data": {
      "text/html": [
       "<div>\n",
       "<table border=\"1\" class=\"dataframe\">\n",
       "  <thead>\n",
       "    <tr style=\"text-align: right;\">\n",
       "      <th></th>\n",
       "      <th>id</th>\n",
       "      <th>raw_grade</th>\n",
       "      <th>grae</th>\n",
       "      <th>grade</th>\n",
       "    </tr>\n",
       "  </thead>\n",
       "  <tbody>\n",
       "    <tr>\n",
       "      <th>5</th>\n",
       "      <td>6</td>\n",
       "      <td>e</td>\n",
       "      <td>e</td>\n",
       "      <td>very bad</td>\n",
       "    </tr>\n",
       "    <tr>\n",
       "      <th>1</th>\n",
       "      <td>2</td>\n",
       "      <td>b</td>\n",
       "      <td>b</td>\n",
       "      <td>good</td>\n",
       "    </tr>\n",
       "    <tr>\n",
       "      <th>2</th>\n",
       "      <td>3</td>\n",
       "      <td>b</td>\n",
       "      <td>b</td>\n",
       "      <td>good</td>\n",
       "    </tr>\n",
       "    <tr>\n",
       "      <th>0</th>\n",
       "      <td>1</td>\n",
       "      <td>a</td>\n",
       "      <td>a</td>\n",
       "      <td>very good</td>\n",
       "    </tr>\n",
       "    <tr>\n",
       "      <th>3</th>\n",
       "      <td>4</td>\n",
       "      <td>a</td>\n",
       "      <td>a</td>\n",
       "      <td>very good</td>\n",
       "    </tr>\n",
       "    <tr>\n",
       "      <th>4</th>\n",
       "      <td>5</td>\n",
       "      <td>a</td>\n",
       "      <td>a</td>\n",
       "      <td>very good</td>\n",
       "    </tr>\n",
       "  </tbody>\n",
       "</table>\n",
       "</div>"
      ],
      "text/plain": [
       "   id raw_grade grae      grade\n",
       "5   6         e    e   very bad\n",
       "1   2         b    b       good\n",
       "2   3         b    b       good\n",
       "0   1         a    a  very good\n",
       "3   4         a    a  very good\n",
       "4   5         a    a  very good"
      ]
     },
     "execution_count": 161,
     "metadata": {},
     "output_type": "execute_result"
    }
   ],
   "source": [
    "df.sort(\"grade\")"
   ]
  },
  {
   "cell_type": "code",
   "execution_count": 162,
   "metadata": {
    "collapsed": false
   },
   "outputs": [
    {
     "data": {
      "text/plain": [
       "grade\n",
       "very bad      1\n",
       "bad         NaN\n",
       "medium      NaN\n",
       "good          2\n",
       "very good     3\n",
       "dtype: float64"
      ]
     },
     "execution_count": 162,
     "metadata": {},
     "output_type": "execute_result"
    }
   ],
   "source": [
    "df.groupby(\"grade\").size()"
   ]
  },
  {
   "cell_type": "code",
   "execution_count": 164,
   "metadata": {
    "collapsed": false
   },
   "outputs": [],
   "source": [
    "ts =pd.Series(np.random.randn(1000), index=pd.date_range('1/1/2000', periods=1000))"
   ]
  },
  {
   "cell_type": "code",
   "execution_count": 165,
   "metadata": {
    "collapsed": true
   },
   "outputs": [],
   "source": [
    "ts=ts.cumsum()"
   ]
  },
  {
   "cell_type": "code",
   "execution_count": 177,
   "metadata": {
    "collapsed": false
   },
   "outputs": [
    {
     "data": {
      "text/plain": [
       "<matplotlib.axes._subplots.AxesSubplot at 0xb246518>"
      ]
     },
     "execution_count": 177,
     "metadata": {},
     "output_type": "execute_result"
    },
    {
     "data": {
      "image/png": "[encoded data removed]",
      "text/plain": [
       "<matplotlib.figure.Figure at 0xb1cf748>"
      ]
     },
     "metadata": {},
     "output_type": "display_data"
    }
   ],
   "source": [
    "ts.plot()"
   ]
  },
  {
   "cell_type": "code",
   "execution_count": 172,
   "metadata": {
    "collapsed": false
   },
   "outputs": [],
   "source": [
    "df = pd.DataFrame(np.random.randn(1000, 4), index=ts.index,columns=['A', 'B', 'C', 'D'])"
   ]
  },
  {
   "cell_type": "code",
   "execution_count": 173,
   "metadata": {
    "collapsed": true
   },
   "outputs": [],
   "source": [
    "df = df.cumsum()"
   ]
  },
  {
   "cell_type": "code",
   "execution_count": 178,
   "metadata": {
    "collapsed": false
   },
   "outputs": [
    {
     "data": {
      "text/plain": [
       "<matplotlib.legend.Legend at 0xb68c828>"
      ]
     },
     "execution_count": 178,
     "metadata": {},
     "output_type": "execute_result"
    },
    {
     "data": {
      "text/plain": [
       "<matplotlib.figure.Figure at 0xb378208>"
      ]
     },
     "metadata": {},
     "output_type": "display_data"
    },
    {
     "data": {
      "image/png": "[encoded data removed]",
      "text/plain": [
       "<matplotlib.figure.Figure at 0xb2466d8>"
      ]
     },
     "metadata": {},
     "output_type": "display_data"
    }
   ],
   "source": [
    "plt.figure(); df.plot(); plt.legend(loc='best')"
   ]
  },
  {
   "cell_type": "code",
   "execution_count": 179,
   "metadata": {
    "collapsed": true
   },
   "outputs": [],
   "source": [
    "df.to_csv('foo.csv')"
   ]
  },
  {
   "cell_type": "code",
   "execution_count": 180,
   "metadata": {
    "collapsed": false
   },
   "outputs": [
    {
     "data": {
      "text/html": [
       "<div>\n",
       "<table border=\"1\" class=\"dataframe\">\n",
       "  <thead>\n",
       "    <tr style=\"text-align: right;\">\n",
       "      <th></th>\n",
       "      <th>Unnamed: 0</th>\n",
       "      <th>A</th>\n",
       "      <th>B</th>\n",
       "      <th>C</th>\n",
       "      <th>D</th>\n",
       "    </tr>\n",
       "  </thead>\n",
       "  <tbody>\n",
       "    <tr>\n",
       "      <th>0</th>\n",
       "      <td>2000-01-01</td>\n",
       "      <td>-0.763170</td>\n",
       "      <td>0.961159</td>\n",
       "      <td>0.587721</td>\n",
       "      <td>1.651189</td>\n",
       "    </tr>\n",
       "    <tr>\n",
       "      <th>1</th>\n",
       "      <td>2000-01-02</td>\n",
       "      <td>-1.414501</td>\n",
       "      <td>1.080874</td>\n",
       "      <td>-0.633335</td>\n",
       "      <td>2.805442</td>\n",
       "    </tr>\n",
       "    <tr>\n",
       "      <th>2</th>\n",
       "      <td>2000-01-03</td>\n",
       "      <td>-0.201236</td>\n",
       "      <td>-1.665447</td>\n",
       "      <td>-1.946852</td>\n",
       "      <td>4.109238</td>\n",
       "    </tr>\n",
       "    <tr>\n",
       "      <th>3</th>\n",
       "      <td>2000-01-04</td>\n",
       "      <td>0.419639</td>\n",
       "      <td>-2.332746</td>\n",
       "      <td>-2.222201</td>\n",
       "      <td>0.426952</td>\n",
       "    </tr>\n",
       "    <tr>\n",
       "      <th>4</th>\n",
       "      <td>2000-01-05</td>\n",
       "      <td>-0.524894</td>\n",
       "      <td>-2.850323</td>\n",
       "      <td>-2.323640</td>\n",
       "      <td>0.839379</td>\n",
       "    </tr>\n",
       "    <tr>\n",
       "      <th>5</th>\n",
       "      <td>2000-01-06</td>\n",
       "      <td>-1.253493</td>\n",
       "      <td>-2.964099</td>\n",
       "      <td>-2.480879</td>\n",
       "      <td>-1.096496</td>\n",
       "    </tr>\n",
       "    <tr>\n",
       "      <th>6</th>\n",
       "      <td>2000-01-07</td>\n",
       "      <td>-0.847494</td>\n",
       "      <td>-3.219824</td>\n",
       "      <td>-3.346644</td>\n",
       "      <td>-0.099561</td>\n",
       "    </tr>\n",
       "    <tr>\n",
       "      <th>7</th>\n",
       "      <td>2000-01-08</td>\n",
       "      <td>-1.052702</td>\n",
       "      <td>-2.833177</td>\n",
       "      <td>-2.624185</td>\n",
       "      <td>-0.746184</td>\n",
       "    </tr>\n",
       "    <tr>\n",
       "      <th>8</th>\n",
       "      <td>2000-01-09</td>\n",
       "      <td>-1.215291</td>\n",
       "      <td>-2.947082</td>\n",
       "      <td>-4.222694</td>\n",
       "      <td>1.251042</td>\n",
       "    </tr>\n",
       "    <tr>\n",
       "      <th>9</th>\n",
       "      <td>2000-01-10</td>\n",
       "      <td>0.057517</td>\n",
       "      <td>-1.429336</td>\n",
       "      <td>-3.471369</td>\n",
       "      <td>1.576452</td>\n",
       "    </tr>\n",
       "    <tr>\n",
       "      <th>10</th>\n",
       "      <td>2000-01-11</td>\n",
       "      <td>-0.899745</td>\n",
       "      <td>-0.489490</td>\n",
       "      <td>-3.855464</td>\n",
       "      <td>1.159197</td>\n",
       "    </tr>\n",
       "    <tr>\n",
       "      <th>11</th>\n",
       "      <td>2000-01-12</td>\n",
       "      <td>-0.863557</td>\n",
       "      <td>-0.915887</td>\n",
       "      <td>-3.584072</td>\n",
       "      <td>1.234923</td>\n",
       "    </tr>\n",
       "    <tr>\n",
       "      <th>12</th>\n",
       "      <td>2000-01-13</td>\n",
       "      <td>-1.110654</td>\n",
       "      <td>0.115337</td>\n",
       "      <td>-2.855565</td>\n",
       "      <td>1.344274</td>\n",
       "    </tr>\n",
       "    <tr>\n",
       "      <th>13</th>\n",
       "      <td>2000-01-14</td>\n",
       "      <td>-1.176111</td>\n",
       "      <td>-1.387275</td>\n",
       "      <td>-1.987953</td>\n",
       "      <td>1.261960</td>\n",
       "    </tr>\n",
       "    <tr>\n",
       "      <th>14</th>\n",
       "      <td>2000-01-15</td>\n",
       "      <td>-0.528833</td>\n",
       "      <td>-2.744542</td>\n",
       "      <td>-2.107444</td>\n",
       "      <td>0.741131</td>\n",
       "    </tr>\n",
       "    <tr>\n",
       "      <th>15</th>\n",
       "      <td>2000-01-16</td>\n",
       "      <td>0.819938</td>\n",
       "      <td>-2.899950</td>\n",
       "      <td>-2.268560</td>\n",
       "      <td>1.815570</td>\n",
       "    </tr>\n",
       "    <tr>\n",
       "      <th>16</th>\n",
       "      <td>2000-01-17</td>\n",
       "      <td>1.331082</td>\n",
       "      <td>-2.937292</td>\n",
       "      <td>-2.267282</td>\n",
       "      <td>2.308881</td>\n",
       "    </tr>\n",
       "    <tr>\n",
       "      <th>17</th>\n",
       "      <td>2000-01-18</td>\n",
       "      <td>0.287503</td>\n",
       "      <td>-2.876569</td>\n",
       "      <td>-0.670851</td>\n",
       "      <td>1.197555</td>\n",
       "    </tr>\n",
       "    <tr>\n",
       "      <th>18</th>\n",
       "      <td>2000-01-19</td>\n",
       "      <td>1.511174</td>\n",
       "      <td>-2.625759</td>\n",
       "      <td>1.327112</td>\n",
       "      <td>1.411886</td>\n",
       "    </tr>\n",
       "    <tr>\n",
       "      <th>19</th>\n",
       "      <td>2000-01-20</td>\n",
       "      <td>2.368356</td>\n",
       "      <td>-1.865402</td>\n",
       "      <td>0.826530</td>\n",
       "      <td>-0.061084</td>\n",
       "    </tr>\n",
       "    <tr>\n",
       "      <th>20</th>\n",
       "      <td>2000-01-21</td>\n",
       "      <td>2.665837</td>\n",
       "      <td>-2.703767</td>\n",
       "      <td>1.503841</td>\n",
       "      <td>1.390995</td>\n",
       "    </tr>\n",
       "    <tr>\n",
       "      <th>21</th>\n",
       "      <td>2000-01-22</td>\n",
       "      <td>1.757617</td>\n",
       "      <td>-3.529252</td>\n",
       "      <td>2.312083</td>\n",
       "      <td>0.972133</td>\n",
       "    </tr>\n",
       "    <tr>\n",
       "      <th>22</th>\n",
       "      <td>2000-01-23</td>\n",
       "      <td>0.807401</td>\n",
       "      <td>-3.564944</td>\n",
       "      <td>4.289449</td>\n",
       "      <td>-0.554607</td>\n",
       "    </tr>\n",
       "    <tr>\n",
       "      <th>23</th>\n",
       "      <td>2000-01-24</td>\n",
       "      <td>2.803034</td>\n",
       "      <td>-3.214242</td>\n",
       "      <td>2.856932</td>\n",
       "      <td>-1.013510</td>\n",
       "    </tr>\n",
       "    <tr>\n",
       "      <th>24</th>\n",
       "      <td>2000-01-25</td>\n",
       "      <td>0.428521</td>\n",
       "      <td>-4.612023</td>\n",
       "      <td>3.253871</td>\n",
       "      <td>-1.548357</td>\n",
       "    </tr>\n",
       "    <tr>\n",
       "      <th>25</th>\n",
       "      <td>2000-01-26</td>\n",
       "      <td>-1.551153</td>\n",
       "      <td>-2.300906</td>\n",
       "      <td>3.847432</td>\n",
       "      <td>-0.236621</td>\n",
       "    </tr>\n",
       "    <tr>\n",
       "      <th>26</th>\n",
       "      <td>2000-01-27</td>\n",
       "      <td>-0.795599</td>\n",
       "      <td>-2.821276</td>\n",
       "      <td>3.689734</td>\n",
       "      <td>-0.294642</td>\n",
       "    </tr>\n",
       "    <tr>\n",
       "      <th>27</th>\n",
       "      <td>2000-01-28</td>\n",
       "      <td>1.064877</td>\n",
       "      <td>-3.692924</td>\n",
       "      <td>3.778010</td>\n",
       "      <td>-0.456525</td>\n",
       "    </tr>\n",
       "    <tr>\n",
       "      <th>28</th>\n",
       "      <td>2000-01-29</td>\n",
       "      <td>1.749946</td>\n",
       "      <td>-2.083812</td>\n",
       "      <td>4.758105</td>\n",
       "      <td>-0.288166</td>\n",
       "    </tr>\n",
       "    <tr>\n",
       "      <th>29</th>\n",
       "      <td>2000-01-30</td>\n",
       "      <td>0.924914</td>\n",
       "      <td>-2.919652</td>\n",
       "      <td>5.221761</td>\n",
       "      <td>0.661462</td>\n",
       "    </tr>\n",
       "    <tr>\n",
       "      <th>...</th>\n",
       "      <td>...</td>\n",
       "      <td>...</td>\n",
       "      <td>...</td>\n",
       "      <td>...</td>\n",
       "      <td>...</td>\n",
       "    </tr>\n",
       "    <tr>\n",
       "      <th>970</th>\n",
       "      <td>2002-08-28</td>\n",
       "      <td>-6.902420</td>\n",
       "      <td>-30.057007</td>\n",
       "      <td>4.182829</td>\n",
       "      <td>-0.350911</td>\n",
       "    </tr>\n",
       "    <tr>\n",
       "      <th>971</th>\n",
       "      <td>2002-08-29</td>\n",
       "      <td>-5.654258</td>\n",
       "      <td>-30.318581</td>\n",
       "      <td>2.966667</td>\n",
       "      <td>-0.498225</td>\n",
       "    </tr>\n",
       "    <tr>\n",
       "      <th>972</th>\n",
       "      <td>2002-08-30</td>\n",
       "      <td>-6.749055</td>\n",
       "      <td>-30.357696</td>\n",
       "      <td>2.068698</td>\n",
       "      <td>-0.634385</td>\n",
       "    </tr>\n",
       "    <tr>\n",
       "      <th>973</th>\n",
       "      <td>2002-08-31</td>\n",
       "      <td>-7.700682</td>\n",
       "      <td>-29.545748</td>\n",
       "      <td>1.462277</td>\n",
       "      <td>-0.181968</td>\n",
       "    </tr>\n",
       "    <tr>\n",
       "      <th>974</th>\n",
       "      <td>2002-09-01</td>\n",
       "      <td>-5.993168</td>\n",
       "      <td>-30.211970</td>\n",
       "      <td>-0.790906</td>\n",
       "      <td>-0.158614</td>\n",
       "    </tr>\n",
       "    <tr>\n",
       "      <th>975</th>\n",
       "      <td>2002-09-02</td>\n",
       "      <td>-5.660718</td>\n",
       "      <td>-30.619707</td>\n",
       "      <td>-2.040337</td>\n",
       "      <td>0.933664</td>\n",
       "    </tr>\n",
       "    <tr>\n",
       "      <th>976</th>\n",
       "      <td>2002-09-03</td>\n",
       "      <td>-6.667031</td>\n",
       "      <td>-30.390761</td>\n",
       "      <td>-3.233660</td>\n",
       "      <td>0.399971</td>\n",
       "    </tr>\n",
       "    <tr>\n",
       "      <th>977</th>\n",
       "      <td>2002-09-04</td>\n",
       "      <td>-6.274863</td>\n",
       "      <td>-29.653855</td>\n",
       "      <td>-3.884076</td>\n",
       "      <td>-0.695797</td>\n",
       "    </tr>\n",
       "    <tr>\n",
       "      <th>978</th>\n",
       "      <td>2002-09-05</td>\n",
       "      <td>-6.077259</td>\n",
       "      <td>-27.925767</td>\n",
       "      <td>-4.550694</td>\n",
       "      <td>-1.488524</td>\n",
       "    </tr>\n",
       "    <tr>\n",
       "      <th>979</th>\n",
       "      <td>2002-09-06</td>\n",
       "      <td>-5.171590</td>\n",
       "      <td>-24.324118</td>\n",
       "      <td>-4.725904</td>\n",
       "      <td>-1.280653</td>\n",
       "    </tr>\n",
       "    <tr>\n",
       "      <th>980</th>\n",
       "      <td>2002-09-07</td>\n",
       "      <td>-6.750842</td>\n",
       "      <td>-23.938437</td>\n",
       "      <td>-6.340398</td>\n",
       "      <td>-0.147527</td>\n",
       "    </tr>\n",
       "    <tr>\n",
       "      <th>981</th>\n",
       "      <td>2002-09-08</td>\n",
       "      <td>-7.062312</td>\n",
       "      <td>-23.321444</td>\n",
       "      <td>-4.308621</td>\n",
       "      <td>0.077625</td>\n",
       "    </tr>\n",
       "    <tr>\n",
       "      <th>982</th>\n",
       "      <td>2002-09-09</td>\n",
       "      <td>-6.574968</td>\n",
       "      <td>-21.302250</td>\n",
       "      <td>-4.266003</td>\n",
       "      <td>0.918277</td>\n",
       "    </tr>\n",
       "    <tr>\n",
       "      <th>983</th>\n",
       "      <td>2002-09-10</td>\n",
       "      <td>-5.757838</td>\n",
       "      <td>-20.429819</td>\n",
       "      <td>-4.785299</td>\n",
       "      <td>1.037963</td>\n",
       "    </tr>\n",
       "    <tr>\n",
       "      <th>984</th>\n",
       "      <td>2002-09-11</td>\n",
       "      <td>-7.417276</td>\n",
       "      <td>-20.680505</td>\n",
       "      <td>-4.930696</td>\n",
       "      <td>1.255509</td>\n",
       "    </tr>\n",
       "    <tr>\n",
       "      <th>985</th>\n",
       "      <td>2002-09-12</td>\n",
       "      <td>-6.490285</td>\n",
       "      <td>-21.761991</td>\n",
       "      <td>-5.254601</td>\n",
       "      <td>1.213090</td>\n",
       "    </tr>\n",
       "    <tr>\n",
       "      <th>986</th>\n",
       "      <td>2002-09-13</td>\n",
       "      <td>-9.116604</td>\n",
       "      <td>-20.445004</td>\n",
       "      <td>-3.932664</td>\n",
       "      <td>1.602035</td>\n",
       "    </tr>\n",
       "    <tr>\n",
       "      <th>987</th>\n",
       "      <td>2002-09-14</td>\n",
       "      <td>-9.833607</td>\n",
       "      <td>-20.567132</td>\n",
       "      <td>-5.381845</td>\n",
       "      <td>1.954016</td>\n",
       "    </tr>\n",
       "    <tr>\n",
       "      <th>988</th>\n",
       "      <td>2002-09-15</td>\n",
       "      <td>-9.173086</td>\n",
       "      <td>-19.789471</td>\n",
       "      <td>-6.820851</td>\n",
       "      <td>1.723608</td>\n",
       "    </tr>\n",
       "    <tr>\n",
       "      <th>989</th>\n",
       "      <td>2002-09-16</td>\n",
       "      <td>-7.558658</td>\n",
       "      <td>-21.140839</td>\n",
       "      <td>-7.361421</td>\n",
       "      <td>1.155861</td>\n",
       "    </tr>\n",
       "    <tr>\n",
       "      <th>990</th>\n",
       "      <td>2002-09-17</td>\n",
       "      <td>-6.244009</td>\n",
       "      <td>-20.190340</td>\n",
       "      <td>-8.282734</td>\n",
       "      <td>0.440478</td>\n",
       "    </tr>\n",
       "    <tr>\n",
       "      <th>991</th>\n",
       "      <td>2002-09-18</td>\n",
       "      <td>-4.410596</td>\n",
       "      <td>-20.072772</td>\n",
       "      <td>-8.098222</td>\n",
       "      <td>0.623603</td>\n",
       "    </tr>\n",
       "    <tr>\n",
       "      <th>992</th>\n",
       "      <td>2002-09-19</td>\n",
       "      <td>-3.753585</td>\n",
       "      <td>-18.846509</td>\n",
       "      <td>-9.729598</td>\n",
       "      <td>0.729538</td>\n",
       "    </tr>\n",
       "    <tr>\n",
       "      <th>993</th>\n",
       "      <td>2002-09-20</td>\n",
       "      <td>-2.738747</td>\n",
       "      <td>-19.578298</td>\n",
       "      <td>-9.933078</td>\n",
       "      <td>-2.193124</td>\n",
       "    </tr>\n",
       "    <tr>\n",
       "      <th>994</th>\n",
       "      <td>2002-09-21</td>\n",
       "      <td>-2.333737</td>\n",
       "      <td>-19.067389</td>\n",
       "      <td>-10.256790</td>\n",
       "      <td>-0.834796</td>\n",
       "    </tr>\n",
       "    <tr>\n",
       "      <th>995</th>\n",
       "      <td>2002-09-22</td>\n",
       "      <td>-2.384426</td>\n",
       "      <td>-18.350730</td>\n",
       "      <td>-10.546569</td>\n",
       "      <td>-2.105847</td>\n",
       "    </tr>\n",
       "    <tr>\n",
       "      <th>996</th>\n",
       "      <td>2002-09-23</td>\n",
       "      <td>-2.694608</td>\n",
       "      <td>-19.208001</td>\n",
       "      <td>-10.415761</td>\n",
       "      <td>-1.710458</td>\n",
       "    </tr>\n",
       "    <tr>\n",
       "      <th>997</th>\n",
       "      <td>2002-09-24</td>\n",
       "      <td>-1.904380</td>\n",
       "      <td>-19.209872</td>\n",
       "      <td>-11.710609</td>\n",
       "      <td>-2.403825</td>\n",
       "    </tr>\n",
       "    <tr>\n",
       "      <th>998</th>\n",
       "      <td>2002-09-25</td>\n",
       "      <td>-1.566812</td>\n",
       "      <td>-20.251398</td>\n",
       "      <td>-13.007610</td>\n",
       "      <td>-1.558716</td>\n",
       "    </tr>\n",
       "    <tr>\n",
       "      <th>999</th>\n",
       "      <td>2002-09-26</td>\n",
       "      <td>-1.337323</td>\n",
       "      <td>-20.555866</td>\n",
       "      <td>-12.535850</td>\n",
       "      <td>-1.839658</td>\n",
       "    </tr>\n",
       "  </tbody>\n",
       "</table>\n",
       "<p>1000 rows × 5 columns</p>\n",
       "</div>"
      ],
      "text/plain": [
       "     Unnamed: 0         A          B          C         D\n",
       "0    2000-01-01 -0.763170   0.961159   0.587721  1.651189\n",
       "1    2000-01-02 -1.414501   1.080874  -0.633335  2.805442\n",
       "2    2000-01-03 -0.201236  -1.665447  -1.946852  4.109238\n",
       "3    2000-01-04  0.419639  -2.332746  -2.222201  0.426952\n",
       "4    2000-01-05 -0.524894  -2.850323  -2.323640  0.839379\n",
       "5    2000-01-06 -1.253493  -2.964099  -2.480879 -1.096496\n",
       "6    2000-01-07 -0.847494  -3.219824  -3.346644 -0.099561\n",
       "7    2000-01-08 -1.052702  -2.833177  -2.624185 -0.746184\n",
       "8    2000-01-09 -1.215291  -2.947082  -4.222694  1.251042\n",
       "9    2000-01-10  0.057517  -1.429336  -3.471369  1.576452\n",
       "10   2000-01-11 -0.899745  -0.489490  -3.855464  1.159197\n",
       "11   2000-01-12 -0.863557  -0.915887  -3.584072  1.234923\n",
       "12   2000-01-13 -1.110654   0.115337  -2.855565  1.344274\n",
       "13   2000-01-14 -1.176111  -1.387275  -1.987953  1.261960\n",
       "14   2000-01-15 -0.528833  -2.744542  -2.107444  0.741131\n",
       "15   2000-01-16  0.819938  -2.899950  -2.268560  1.815570\n",
       "16   2000-01-17  1.331082  -2.937292  -2.267282  2.308881\n",
       "17   2000-01-18  0.287503  -2.876569  -0.670851  1.197555\n",
       "18   2000-01-19  1.511174  -2.625759   1.327112  1.411886\n",
       "19   2000-01-20  2.368356  -1.865402   0.826530 -0.061084\n",
       "20   2000-01-21  2.665837  -2.703767   1.503841  1.390995\n",
       "21   2000-01-22  1.757617  -3.529252   2.312083  0.972133\n",
       "22   2000-01-23  0.807401  -3.564944   4.289449 -0.554607\n",
       "23   2000-01-24  2.803034  -3.214242   2.856932 -1.013510\n",
       "24   2000-01-25  0.428521  -4.612023   3.253871 -1.548357\n",
       "25   2000-01-26 -1.551153  -2.300906   3.847432 -0.236621\n",
       "26   2000-01-27 -0.795599  -2.821276   3.689734 -0.294642\n",
       "27   2000-01-28  1.064877  -3.692924   3.778010 -0.456525\n",
       "28   2000-01-29  1.749946  -2.083812   4.758105 -0.288166\n",
       "29   2000-01-30  0.924914  -2.919652   5.221761  0.661462\n",
       "..          ...       ...        ...        ...       ...\n",
       "970  2002-08-28 -6.902420 -30.057007   4.182829 -0.350911\n",
       "971  2002-08-29 -5.654258 -30.318581   2.966667 -0.498225\n",
       "972  2002-08-30 -6.749055 -30.357696   2.068698 -0.634385\n",
       "973  2002-08-31 -7.700682 -29.545748   1.462277 -0.181968\n",
       "974  2002-09-01 -5.993168 -30.211970  -0.790906 -0.158614\n",
       "975  2002-09-02 -5.660718 -30.619707  -2.040337  0.933664\n",
       "976  2002-09-03 -6.667031 -30.390761  -3.233660  0.399971\n",
       "977  2002-09-04 -6.274863 -29.653855  -3.884076 -0.695797\n",
       "978  2002-09-05 -6.077259 -27.925767  -4.550694 -1.488524\n",
       "979  2002-09-06 -5.171590 -24.324118  -4.725904 -1.280653\n",
       "980  2002-09-07 -6.750842 -23.938437  -6.340398 -0.147527\n",
       "981  2002-09-08 -7.062312 -23.321444  -4.308621  0.077625\n",
       "982  2002-09-09 -6.574968 -21.302250  -4.266003  0.918277\n",
       "983  2002-09-10 -5.757838 -20.429819  -4.785299  1.037963\n",
       "984  2002-09-11 -7.417276 -20.680505  -4.930696  1.255509\n",
       "985  2002-09-12 -6.490285 -21.761991  -5.254601  1.213090\n",
       "986  2002-09-13 -9.116604 -20.445004  -3.932664  1.602035\n",
       "987  2002-09-14 -9.833607 -20.567132  -5.381845  1.954016\n",
       "988  2002-09-15 -9.173086 -19.789471  -6.820851  1.723608\n",
       "989  2002-09-16 -7.558658 -21.140839  -7.361421  1.155861\n",
       "990  2002-09-17 -6.244009 -20.190340  -8.282734  0.440478\n",
       "991  2002-09-18 -4.410596 -20.072772  -8.098222  0.623603\n",
       "992  2002-09-19 -3.753585 -18.846509  -9.729598  0.729538\n",
       "993  2002-09-20 -2.738747 -19.578298  -9.933078 -2.193124\n",
       "994  2002-09-21 -2.333737 -19.067389 -10.256790 -0.834796\n",
       "995  2002-09-22 -2.384426 -18.350730 -10.546569 -2.105847\n",
       "996  2002-09-23 -2.694608 -19.208001 -10.415761 -1.710458\n",
       "997  2002-09-24 -1.904380 -19.209872 -11.710609 -2.403825\n",
       "998  2002-09-25 -1.566812 -20.251398 -13.007610 -1.558716\n",
       "999  2002-09-26 -1.337323 -20.555866 -12.535850 -1.839658\n",
       "\n",
       "[1000 rows x 5 columns]"
      ]
     },
     "execution_count": 180,
     "metadata": {},
     "output_type": "execute_result"
    }
   ],
   "source": [
    "pd.read_csv('foo.csv')"
   ]
  }
 ],
 "metadata": {
  "kernelspec": {
   "display_name": "Python 2",
   "language": "python",
   "name": "python2"
  },
  "language_info": {
   "codemirror_mode": {
    "name": "ipython",
    "version": 2
   },
   "file_extension": ".py",
   "mimetype": "text/x-python",
   "name": "python",
   "nbconvert_exporter": "python",
   "pygments_lexer": "ipython2",
   "version": "2.7.9"
  }
 },
 "nbformat": 4,
 "nbformat_minor": 0
}
